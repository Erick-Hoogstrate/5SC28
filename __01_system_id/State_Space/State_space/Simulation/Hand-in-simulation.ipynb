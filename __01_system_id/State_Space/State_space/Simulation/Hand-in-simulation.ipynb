{
 "cells": [
  {
   "cell_type": "code",
   "execution_count": 13,
   "metadata": {},
   "outputs": [
    {
     "name": "stdout",
     "output_type": "stream",
     "text": [
      "train simulation errors:\n",
      "RMS: 0.009333977556371711 radians\n",
      "RMS: 0.5347975200499325 degrees\n",
      "NRMS: 0.019030714938085315 %\n"
     ]
    }
   ],
   "source": [
    "import numpy as np\n",
    "import deepSI\n",
    "from deepSI import System_data\n",
    "\n",
    "out= np.load('training-data.npz')\n",
    "th_train = out['th']\n",
    "u_train = out['u']\n",
    "\n",
    "data = np.load('test-simulation-submission-file.npz')\n",
    "u_test = data['u']\n",
    "th_test = data['th']\n",
    "\n",
    "system_data = System_data(u=u_train,y=th_train)\n",
    "\n",
    "if False: #train model\n",
    "    sys = deepSI.fit_systems.SS_encoder(nx=13,na=2,nb=3) #load the encoder system\n",
    "    sys.n_hidden_layers = 1\n",
    "    sys.n_nodes_per_layer = 20\n",
    "    sys.fit(system_data, val_sys_data=system_data[-12_000:], epochs=500, batch_size=1024, loss_kwargs=dict(nf=40)) \n",
    "    sys.save_system('Model_encoder\\\\encoder')\n",
    "\n",
    "    \n",
    "    sim_val = system_data[-25_000:] #larger validation set\n",
    "    sys.bestfit = sys.apply_experiment(sim_val).NRMS(sim_val) #reset checkpoint\n",
    "    #use all the data for final local minima search\n",
    "    sys.fit(system_data,sim_val, epochs=200 ,batch_size=1024, loss_kwargs=dict(nf=40)) \n",
    "    sys.save_system('Model_encoder\\\\encoder_final')\n",
    "    \n",
    "else: #load model from file\n",
    "    sys = deepSI.load_system('Model_encoder\\encoder_final')\n",
    "\n",
    "\n",
    "train_simulation = sys.apply_experiment(system_data)\n",
    "\n",
    "print('train simulation errors:')\n",
    "print('RMS:', train_simulation.RMS(system_data),'radians')\n",
    "print('RMS:', train_simulation.RMS(system_data)/(2*np.pi)*360,'degrees')\n",
    "print('NRMS:', train_simulation.NRMS(system_data),'%')\n",
    "\n",
    "\n",
    "u_test1 =  u_test[37:]\n",
    "th_test1= th_test[37:]\n",
    "\n",
    "test_system_data = System_data(u=u_test1,y=th_test1)\n",
    "test_sim = sys.apply_experiment(test_system_data)\n",
    "th_test_sim = np.append(th_test[0:50],test_sim.y[13:])\n",
    "np.savez('test_simulation-submission-file.npz', th=th_test_sim,u=u_test)\n",
    "\n",
    "\n"
   ]
  }
 ],
 "metadata": {
  "kernelspec": {
   "display_name": "Python 3",
   "language": "python",
   "name": "python3"
  },
  "language_info": {
   "codemirror_mode": {
    "name": "ipython",
    "version": 3
   },
   "file_extension": ".py",
   "mimetype": "text/x-python",
   "name": "python",
   "nbconvert_exporter": "python",
   "pygments_lexer": "ipython3",
   "version": "3.11.3"
  },
  "orig_nbformat": 4
 },
 "nbformat": 4,
 "nbformat_minor": 2
}
