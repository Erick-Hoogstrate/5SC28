{
 "cells": [
  {
   "cell_type": "code",
   "execution_count": 29,
   "metadata": {},
   "outputs": [
    {
     "name": "stdout",
     "output_type": "stream",
     "text": [
      "train prediction errors:\n",
      "RMS: 0.004673394585040686 radians\n",
      "RMS: 0.267765785722124 degrees\n",
      "NRMS: 0.009528418040858527 %\n"
     ]
    }
   ],
   "source": [
    "import numpy as np\n",
    "import deepSI\n",
    "from deepSI import System_data\n",
    "from deepSI import load_system_data\n",
    "from deepSI import System_data_list\n",
    "out= np.load('training-data.npz')\n",
    "th_train = out['th']\n",
    "u_train = out['u']\n",
    "\n",
    "data = np.load('test-prediction-submission-file1.npz')\n",
    "u_test = data['upast']\n",
    "th_test = data['thpast']\n",
    "\n",
    "system_data = System_data(u=u_train,y=th_train) \n",
    "\n",
    "\n",
    "if False: #train model\n",
    "    sys = deepSI.fit_systems.SS_encoder(nx=13,na=2,nb=3) #load the encoder system\n",
    "    sys.n_hidden_layers = 1\n",
    "    sys.n_nodes_per_layer = 20\n",
    "    sys.fit(system_data, val_sys_data=system_data[-12_000:], epochs=500, batch_size=1024, loss_kwargs=dict(nf=40)) \n",
    "    sys.save_system('Model_encoder\\\\encoder')\n",
    "\n",
    "    \n",
    "    sim_val = system_data[-25_000:] #larger validation set\n",
    "    sys.bestfit = sys.apply_experiment(sim_val).NRMS(sim_val) #reset checkpoint\n",
    "    #use all the data for final local minima search\n",
    "    sys.fit(system_data,sim_val, epochs=200 ,batch_size=1024, loss_kwargs=dict(nf=40)) \n",
    "    sys.save_system('Model_encoder\\\\encoder_final')\n",
    "    \n",
    "else: #load model from file\n",
    "    sys = deepSI.load_system('Model_encoder\\encoder_final')\n",
    "\n",
    "prediction = sys.multi_step_ahead(system_data, nf=1)   #One step ahead prediction with nf=1, for some reason the one step ahead function in deepSI would not work\n",
    "\n",
    "\n",
    "print('train prediction errors:')\n",
    "print('RMS:', prediction.RMS(system_data),'radians')\n",
    "print('RMS:', prediction.RMS(system_data)/(2*np.pi)*360,'degrees')\n",
    "print('NRMS:', prediction.NRMS(system_data),'%')\n",
    "\n",
    "result=[]\n",
    "for i in range(1366):\n",
    "    u_test1 = u_test[i,:]\n",
    "    th_test1 = th_test[i,:]\n",
    "    system_data1 = System_data(u=u_test1,y=th_test1)\n",
    "    sys = deepSI.load_system('Model_encoder\\encoder_final')\n",
    "    test_sim = sys.multi_step_ahead(system_data1,nf=1)\n",
    "    if result==None:\n",
    "        result = test_sim.y[14]\n",
    "    else:\n",
    "        result.append(test_sim.y[14])\n",
    "\n",
    "np.savez('test_prediction-submission-file.npz', upast=u_test, thpast=th_test, thnow=result)\n"
   ]
  }
 ],
 "metadata": {
  "kernelspec": {
   "display_name": "Python 3",
   "language": "python",
   "name": "python3"
  },
  "language_info": {
   "codemirror_mode": {
    "name": "ipython",
    "version": 3
   },
   "file_extension": ".py",
   "mimetype": "text/x-python",
   "name": "python",
   "nbconvert_exporter": "python",
   "pygments_lexer": "ipython3",
   "version": "3.11.3"
  },
  "orig_nbformat": 4
 },
 "nbformat": 4,
 "nbformat_minor": 2
}
