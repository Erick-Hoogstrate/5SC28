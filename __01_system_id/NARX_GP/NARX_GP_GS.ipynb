{
 "cells": [
  {
   "cell_type": "markdown",
   "id": "4d7fdd8c",
   "metadata": {},
   "source": [
    "# NARX GP Grid Search"
   ]
  },
  {
   "cell_type": "code",
   "execution_count": 1,
   "id": "62974d8c",
   "metadata": {},
   "outputs": [],
   "source": [
    "import pandas as pd\n",
    "import numpy as np\n",
    "import torch\n",
    "from torch import nn\n",
    "from matplotlib import pyplot as plt\n",
    "\n",
    "from sklearn.gaussian_process import GaussianProcessRegressor\n",
    "from sklearn.gaussian_process.kernels import RBF, WhiteKernel, RationalQuadratic, Product\n",
    "\n",
    "from scipy.sparse import csr_matrix\n",
    "\n",
    "from data import load_narx_data, load_data\n",
    "from util_fun import calculate_error_nrms, use_NARX_model_in_simulation, plot_NRMS_Pred_vs_Sim"
   ]
  },
  {
   "cell_type": "code",
   "execution_count": 2,
   "id": "97c09dc3",
   "metadata": {},
   "outputs": [],
   "source": [
    "# Initialize stationary parameters\n",
    "\n",
    "Split = [0.6, 0.2, 0.2] # split; [training, validation, test]\n",
    "total_number_of_points = 5000 # total number of points to consider from the larger dataset (starting from index 0)\n",
    "\n",
    "na_list=[*range(2,11)]\n",
    "nb_list=[*range(2,10)]\n",
    "restarts = 0\n",
    "\n",
    "Save_data = False\n",
    "Load_data = True\n",
    "\n",
    "val_pred_NRMSs=np.ndarray((len(na_list),len(nb_list)))\n",
    "val_sim_NRMSs=np.ndarray((len(na_list),len(nb_list)))"
   ]
  },
  {
   "cell_type": "markdown",
   "id": "65cd611d",
   "metadata": {},
   "source": [
    "## Define your kernel here"
   ]
  },
  {
   "cell_type": "code",
   "execution_count": 3,
   "id": "a6b13d73",
   "metadata": {},
   "outputs": [],
   "source": [
    "kernel = RBF(length_scale_bounds=[1,30]) + WhiteKernel(noise_level_bounds=[1e-7,1e-1])\n",
    "reg = GaussianProcessRegressor(kernel, n_restarts_optimizer=restarts)"
   ]
  },
  {
   "cell_type": "code",
   "execution_count": 4,
   "id": "7853ccc2",
   "metadata": {},
   "outputs": [
    {
     "name": "stdout",
     "output_type": "stream",
     "text": [
      "Using 3000 datapoints for training set\n"
     ]
    }
   ],
   "source": [
    "#Load normal data\n",
    "Xtrain,Ytrain = load_data(section=\"train\", split=Split, total_number_of_points=total_number_of_points, as_tensor=False)\n",
    "Xval,Yval = load_data(section=\"validation\", split=Split, total_number_of_points=total_number_of_points, as_tensor=False)"
   ]
  },
  {
   "cell_type": "code",
   "execution_count": 5,
   "id": "21d66662",
   "metadata": {},
   "outputs": [],
   "source": [
    "bestNRMSsim = float('inf')"
   ]
  },
  {
   "cell_type": "code",
   "execution_count": 6,
   "id": "e114a545",
   "metadata": {},
   "outputs": [],
   "source": [
    "if not Load_data:\n",
    "    for i, n_a in enumerate(na_list):\n",
    "        for j, n_b in enumerate(nb_list):\n",
    "\n",
    "            print(f\"Currently running: na= {n_a}, nb= {n_b}\")\n",
    "\n",
    "            #Construct NARX data\n",
    "            Xtrain_NARX,Ytrain_NARX = load_narx_data(n_a, n_b, total_number_of_points, section=\"train\", split=Split, as_tensor=False)\n",
    "            Xval_NARX,Yval_NARX = load_narx_data(n_a, n_b, total_number_of_points, section=\"validation\", split=Split, as_tensor=False)\n",
    "\n",
    "\n",
    "            #Convert to sparce matrices\n",
    "            XtrainSparse = csr_matrix(Xtrain_NARX).toarray()\n",
    "            YtrainSparse = csr_matrix(Ytrain_NARX).toarray().transpose()\n",
    "\n",
    "            #Fit the GP\n",
    "            reg.fit(XtrainSparse, YtrainSparse)\n",
    "\n",
    "            #Initialize parameters for simulation\n",
    "            fmodel = lambda u,y: reg.predict(np.concatenate([u,y])[None,:])[0] \n",
    "\n",
    "            #Prediction on validation set\n",
    "            Yval_pred, Yval_pred_std = reg.predict(Xval_NARX,return_std=True)\n",
    "\n",
    "            #Simulation on validation set\n",
    "            Yval_sim = use_NARX_model_in_simulation(Xval, fmodel, n_a, n_b)\n",
    "\n",
    "\n",
    "            #Store results\n",
    "            val_pred_NRMSs[i,j] = calculate_error_nrms(Yval_pred, Yval_NARX)\n",
    "            val_sim_NRMSs[i,j] = calculate_error_nrms(Yval_sim, Yval)\n",
    "\n",
    "            print(f\"NRMS for validation is: pred= {val_pred_NRMSs[i,j]:.2f}, sim= {val_sim_NRMSs[i,j]:.2f}\")\n",
    "\n",
    "            if val_sim_NRMSs[i,j] < bestNRMSsim:\n",
    "                bestNRMSsim = val_sim_NRMSs[i,j]\n",
    "                print(f\"BEST NRMS currently is: na= {n_a}, nb= {n_b}\")"
   ]
  },
  {
   "cell_type": "markdown",
   "id": "93dc64c3",
   "metadata": {},
   "source": [
    "# Validation data"
   ]
  },
  {
   "cell_type": "code",
   "execution_count": 7,
   "id": "b1a5715b",
   "metadata": {},
   "outputs": [],
   "source": [
    "if Save_data:\n",
    "    np.savez('val_pred_NRMSs', val_pred_NRMSs)\n",
    "    np.savez('val_sim_NRMSs', val_sim_NRMSs)\n",
    "    \n",
    "if Load_data:\n",
    "    val_pred_NRMSs = np.load('val_pred_NRMSs.npz')['arr_0']\n",
    "    val_sim_NRMSs = np.load('val_sim_NRMSs.npz')['arr_0']"
   ]
  },
  {
   "cell_type": "code",
   "execution_count": 8,
   "id": "67785fff",
   "metadata": {},
   "outputs": [
    {
     "name": "stderr",
     "output_type": "stream",
     "text": [
      "C:\\Users\\20193261\\Desktop\\5SC28\\Project\\Hand_in\\5SC28\\__01_system_id\\NARX_GP\\util_fun.py:51: UserWarning: FixedFormatter should only be used together with FixedLocator\n",
      "  ax1.set_yticklabels([0]+na_list)\n",
      "C:\\Users\\20193261\\Desktop\\5SC28\\Project\\Hand_in\\5SC28\\__01_system_id\\NARX_GP\\util_fun.py:53: UserWarning: FixedFormatter should only be used together with FixedLocator\n",
      "  ax2.set_yticklabels([0]+na_list)\n"
     ]
    },
    {
     "name": "stdout",
     "output_type": "stream",
     "text": [
      "Best parameters by prediction NRMS: na= 8, nb= 3\n",
      "Best parameters by simulation NRMS: na= 6, nb= 3\n"
     ]
    },
    {
     "data": {
      "image/png": "[encoded data removed]",
      "text/plain": [
       "<Figure size 1200x1200 with 4 Axes>"
      ]
     },
     "metadata": {},
     "output_type": "display_data"
    }
   ],
   "source": [
    "best_na_nb_val_pred, best_na_nb_val_sim = plot_NRMS_Pred_vs_Sim(val_pred_NRMSs, val_sim_NRMSs, na_list, nb_list, figsize=(12, 12), Save = True)"
   ]
  },
  {
   "cell_type": "code",
   "execution_count": 9,
   "id": "ccf6d809",
   "metadata": {},
   "outputs": [
    {
     "name": "stdout",
     "output_type": "stream",
     "text": [
      "Best val prediction NRMS found: 0.6929288709239905\n",
      "Best val simulation NRMS found: 6.257302430383503\n"
     ]
    }
   ],
   "source": [
    "print(f\"Best val prediction NRMS found: {val_pred_NRMSs.min()}\")\n",
    "print(f\"Best val simulation NRMS found: {val_sim_NRMSs.min()}\")"
   ]
  },
  {
   "cell_type": "markdown",
   "id": "aa1c7682",
   "metadata": {},
   "source": [
    "## Find the test NRMS for the test dataset"
   ]
  },
  {
   "cell_type": "code",
   "execution_count": 10,
   "id": "d0215837",
   "metadata": {},
   "outputs": [
    {
     "name": "stdout",
     "output_type": "stream",
     "text": [
      "Using 3000 datapoints for training set\n",
      "Using 3000 datapoints for training set\n"
     ]
    }
   ],
   "source": [
    "n_a, n_b = 8,3\n",
    "total_number_of_points = 5000\n",
    "\n",
    "# Load normal data\n",
    "Xtrain,Ytrain = load_data(section=\"train\", split=Split, total_number_of_points=total_number_of_points, as_tensor=False)\n",
    "Xval,Yval = load_data(section=\"validation\", split=Split, total_number_of_points=total_number_of_points, as_tensor=False)\n",
    "Xtest,Ytest = load_data(section=\"test\", split=Split, total_number_of_points=total_number_of_points, as_tensor=False)\n",
    "\n",
    "#Construct NARX data\n",
    "Xtrain_NARX,Ytrain_NARX = load_narx_data(n_a, n_b, total_number_of_points, section=\"train\", split=Split, as_tensor=False)\n",
    "Xval_NARX,Yval_NARX = load_narx_data(n_a, n_b, total_number_of_points, section=\"validation\", split=Split, as_tensor=False)\n",
    "Xtest_NARX,Ytest_NARX = load_narx_data(n_a, n_b, total_number_of_points, section=\"test\", split=Split, as_tensor=False)\n",
    "\n",
    "#Convert to sparce matrices\n",
    "XtrainSparse = csr_matrix(Xtrain_NARX).toarray()\n",
    "YtrainSparse = csr_matrix(Ytrain_NARX).toarray().transpose()\n",
    "\n",
    "#Fit the GP\n",
    "reg.fit(XtrainSparse, YtrainSparse)\n",
    "\n",
    "#Initialize parameters for simulation\n",
    "fmodel = lambda u,y: reg.predict(np.concatenate([u,y])[None,:])[0] \n",
    "\n",
    "#Prediction on training set\n",
    "Ytrain_pred, Ytrain_pred_std = reg.predict(Xtrain_NARX,return_std=True)\n",
    "#Simulation on training set\n",
    "Ytrain_sim = use_NARX_model_in_simulation(Xtrain, fmodel, n_a, n_b)\n",
    "\n",
    "#Prediction on validation set\n",
    "Yval_pred, Yval_pred_std = reg.predict(Xval_NARX,return_std=True)\n",
    "#Simulation on validation set\n",
    "Yval_sim = use_NARX_model_in_simulation(Xval, fmodel, n_a, n_b)\n",
    "\n",
    "#Prediction on test set\n",
    "Ytest_pred, Ytest_pred_std = reg.predict(Xtest_NARX,return_std=True)\n",
    "#Simulation on test set\n",
    "Ytest_sim = use_NARX_model_in_simulation(Xtest, fmodel, n_a, n_b)\n"
   ]
  },
  {
   "cell_type": "code",
   "execution_count": 11,
   "id": "d2199543",
   "metadata": {},
   "outputs": [
    {
     "name": "stdout",
     "output_type": "stream",
     "text": [
      "Train prediction NRMS: 0.73 %\n",
      "Train simulation NRMS: 5.47 %\n",
      "Validation prediction NRMS: 0.69 %\n",
      "Validation simulation NRMS: 6.33 %\n",
      "Test prediction NRMS: 0.77 %\n",
      "Test simulation NRMS: 9.48 %\n"
     ]
    }
   ],
   "source": [
    "NRMS_train_pred = calculate_error_nrms(Ytrain_pred, Ytrain_NARX)\n",
    "print(f'Train prediction NRMS: {NRMS_train_pred:.2f} %')\n",
    "\n",
    "NRMS_train_sim = calculate_error_nrms(Ytrain_sim, Ytrain)\n",
    "print(f'Train simulation NRMS: {NRMS_train_sim:.2f} %')\n",
    "\n",
    "NRMS_val_pred = calculate_error_nrms(Yval_pred, Yval_NARX)\n",
    "print(f'Validation prediction NRMS: {NRMS_val_pred:.2f} %')\n",
    "\n",
    "NRMS_val_sim = calculate_error_nrms(Yval_sim, Yval)\n",
    "print(f'Validation simulation NRMS: {NRMS_val_sim:.2f} %')\n",
    "\n",
    "NRMS_test_pred = calculate_error_nrms(Ytest_pred, Ytest_NARX)\n",
    "print(f'Test prediction NRMS: {NRMS_test_pred:.2f} %')\n",
    "\n",
    "NRMS_test_sim = calculate_error_nrms(Ytest_sim, Ytest)\n",
    "print(f'Test simulation NRMS: {NRMS_test_sim:.2f} %')"
   ]
  },
  {
   "cell_type": "code",
   "execution_count": 12,
   "id": "39aa7f90",
   "metadata": {},
   "outputs": [
    {
     "data": {
      "text/html": [
       "<div>\n",
       "<style scoped>\n",
       "    .dataframe tbody tr th:only-of-type {\n",
       "        vertical-align: middle;\n",
       "    }\n",
       "\n",
       "    .dataframe tbody tr th {\n",
       "        vertical-align: top;\n",
       "    }\n",
       "\n",
       "    .dataframe thead th {\n",
       "        text-align: right;\n",
       "    }\n",
       "</style>\n",
       "<table border=\"1\" class=\"dataframe\">\n",
       "  <thead>\n",
       "    <tr style=\"text-align: right;\">\n",
       "      <th></th>\n",
       "      <th>Prediction</th>\n",
       "      <th>Simulation</th>\n",
       "    </tr>\n",
       "  </thead>\n",
       "  <tbody>\n",
       "    <tr>\n",
       "      <th>Train</th>\n",
       "      <td>0.73</td>\n",
       "      <td>5.47</td>\n",
       "    </tr>\n",
       "    <tr>\n",
       "      <th>Validation</th>\n",
       "      <td>0.69</td>\n",
       "      <td>6.33</td>\n",
       "    </tr>\n",
       "    <tr>\n",
       "      <th>Test</th>\n",
       "      <td>0.77</td>\n",
       "      <td>9.48</td>\n",
       "    </tr>\n",
       "  </tbody>\n",
       "</table>\n",
       "</div>"
      ],
      "text/plain": [
       "            Prediction  Simulation\n",
       "Train             0.73        5.47\n",
       "Validation        0.69        6.33\n",
       "Test              0.77        9.48"
      ]
     },
     "metadata": {},
     "output_type": "display_data"
    }
   ],
   "source": [
    "data = {\n",
    "    'Prediction': [NRMS_train_pred, NRMS_val_pred, NRMS_test_pred],\n",
    "    'Simulation': [NRMS_train_sim, NRMS_val_sim, NRMS_test_sim]\n",
    "}\n",
    "    \n",
    "index = ['Train', 'Validation', 'Test']\n",
    "\n",
    "df = pd.DataFrame(data, index=index)\n",
    "\n",
    "df = df.round(2)\n",
    "\n",
    "display(df)\n"
   ]
  }
 ],
 "metadata": {
  "kernelspec": {
   "display_name": "Python 3 (ipykernel)",
   "language": "python",
   "name": "python3"
  },
  "language_info": {
   "codemirror_mode": {
    "name": "ipython",
    "version": 3
   },
   "file_extension": ".py",
   "mimetype": "text/x-python",
   "name": "python",
   "nbconvert_exporter": "python",
   "pygments_lexer": "ipython3",
   "version": "3.10.11"
  }
 },
 "nbformat": 4,
 "nbformat_minor": 5
}
