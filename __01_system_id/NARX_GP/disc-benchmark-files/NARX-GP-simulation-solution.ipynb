{
 "cells": [
  {
   "cell_type": "code",
   "execution_count": 2,
   "id": "b1e8c313",
   "metadata": {},
   "outputs": [
    {
     "name": "stdout",
     "output_type": "stream",
     "text": [
      "RBF(length_scale=4.31) + WhiteKernel(noise_level=9.56e-06)\n",
      "train prediction errors:\n",
      "RMS: 0.004013156526155631 radians\n",
      "RMS: 0.22993693147410038 degrees\n",
      "NRMS: 0.818188634684261 %\n",
      "train simulation errors:\n",
      "RMS: 2.2012439084068665 radians\n",
      "RMS: 126.1219856305954 degrees\n",
      "NRMS: 448.8037932070168 %\n"
     ]
    },
    {
     "ename": "KeyboardInterrupt",
     "evalue": "",
     "output_type": "error",
     "traceback": [
      "\u001b[1;31m---------------------------------------------------------------------------\u001b[0m",
      "\u001b[1;31mKeyboardInterrupt\u001b[0m                         Traceback (most recent call last)",
      "Cell \u001b[1;32mIn[2], line 62\u001b[0m\n\u001b[0;32m     58\u001b[0m \u001b[38;5;28mprint\u001b[39m(\u001b[38;5;124m'\u001b[39m\u001b[38;5;124mNRMS:\u001b[39m\u001b[38;5;124m'\u001b[39m, np\u001b[38;5;241m.\u001b[39mmean((th_train_sim[skip:]\u001b[38;5;241m-\u001b[39mth_train[skip:])\u001b[38;5;241m*\u001b[39m\u001b[38;5;241m*\u001b[39m\u001b[38;5;241m2\u001b[39m)\u001b[38;5;241m*\u001b[39m\u001b[38;5;241m*\u001b[39m\u001b[38;5;241m0.5\u001b[39m\u001b[38;5;241m/\u001b[39mth_train\u001b[38;5;241m.\u001b[39mstd()\u001b[38;5;241m*\u001b[39m\u001b[38;5;241m100\u001b[39m,\u001b[38;5;124m'\u001b[39m\u001b[38;5;124m%\u001b[39m\u001b[38;5;124m'\u001b[39m)\n\u001b[0;32m     61\u001b[0m skip \u001b[38;5;241m=\u001b[39m \u001b[38;5;241m50\u001b[39m\n\u001b[1;32m---> 62\u001b[0m th_test_sim \u001b[38;5;241m=\u001b[39m \u001b[43msimulation_IO_model\u001b[49m\u001b[43m(\u001b[49m\u001b[38;5;28;43;01mlambda\u001b[39;49;00m\u001b[43m \u001b[49m\u001b[43mx\u001b[49m\u001b[43m:\u001b[49m\u001b[43m \u001b[49m\u001b[43mreg\u001b[49m\u001b[38;5;241;43m.\u001b[39;49m\u001b[43mpredict\u001b[49m\u001b[43m(\u001b[49m\u001b[43mx\u001b[49m\u001b[43m[\u001b[49m\u001b[38;5;28;43;01mNone\u001b[39;49;00m\u001b[43m,\u001b[49m\u001b[43m:\u001b[49m\u001b[43m]\u001b[49m\u001b[43m)\u001b[49m\u001b[43m[\u001b[49m\u001b[38;5;241;43m0\u001b[39;49m\u001b[43m]\u001b[49m\u001b[43m,\u001b[49m\u001b[43m \u001b[49m\u001b[43mu_test\u001b[49m\u001b[43m,\u001b[49m\u001b[43m \u001b[49m\u001b[43mth_test\u001b[49m\u001b[43m,\u001b[49m\u001b[43m \u001b[49m\u001b[43mskip\u001b[49m\u001b[38;5;241;43m=\u001b[39;49m\u001b[43mskip\u001b[49m\u001b[43m)\u001b[49m\n\u001b[0;32m     64\u001b[0m \u001b[38;5;28;01massert\u001b[39;00m \u001b[38;5;28mlen\u001b[39m(th_test_sim)\u001b[38;5;241m==\u001b[39m\u001b[38;5;28mlen\u001b[39m(th_test)\n\u001b[0;32m     65\u001b[0m np\u001b[38;5;241m.\u001b[39msavez(\u001b[38;5;124m'\u001b[39m\u001b[38;5;124mNARX-GP-simulation-submission-file.npz\u001b[39m\u001b[38;5;124m'\u001b[39m, th\u001b[38;5;241m=\u001b[39mth_test_sim, u\u001b[38;5;241m=\u001b[39mu_test)\n",
      "Cell \u001b[1;32mIn[2], line 45\u001b[0m, in \u001b[0;36msimulation_IO_model\u001b[1;34m(f, ulist, ylist, skip)\u001b[0m\n\u001b[0;32m     43\u001b[0m \u001b[38;5;28;01mfor\u001b[39;00m u \u001b[38;5;129;01min\u001b[39;00m ulist[skip:]:\n\u001b[0;32m     44\u001b[0m     x \u001b[38;5;241m=\u001b[39m np\u001b[38;5;241m.\u001b[39mconcatenate([upast,ypast],axis\u001b[38;5;241m=\u001b[39m\u001b[38;5;241m0\u001b[39m)\n\u001b[1;32m---> 45\u001b[0m     ypred \u001b[38;5;241m=\u001b[39m \u001b[43mf\u001b[49m\u001b[43m(\u001b[49m\u001b[43mx\u001b[49m\u001b[43m)\u001b[49m\n\u001b[0;32m     46\u001b[0m     Y\u001b[38;5;241m.\u001b[39mappend(ypred)\n\u001b[0;32m     47\u001b[0m     upast\u001b[38;5;241m.\u001b[39mappend(u)\n",
      "Cell \u001b[1;32mIn[2], line 62\u001b[0m, in \u001b[0;36m<lambda>\u001b[1;34m(x)\u001b[0m\n\u001b[0;32m     58\u001b[0m \u001b[38;5;28mprint\u001b[39m(\u001b[38;5;124m'\u001b[39m\u001b[38;5;124mNRMS:\u001b[39m\u001b[38;5;124m'\u001b[39m, np\u001b[38;5;241m.\u001b[39mmean((th_train_sim[skip:]\u001b[38;5;241m-\u001b[39mth_train[skip:])\u001b[38;5;241m*\u001b[39m\u001b[38;5;241m*\u001b[39m\u001b[38;5;241m2\u001b[39m)\u001b[38;5;241m*\u001b[39m\u001b[38;5;241m*\u001b[39m\u001b[38;5;241m0.5\u001b[39m\u001b[38;5;241m/\u001b[39mth_train\u001b[38;5;241m.\u001b[39mstd()\u001b[38;5;241m*\u001b[39m\u001b[38;5;241m100\u001b[39m,\u001b[38;5;124m'\u001b[39m\u001b[38;5;124m%\u001b[39m\u001b[38;5;124m'\u001b[39m)\n\u001b[0;32m     61\u001b[0m skip \u001b[38;5;241m=\u001b[39m \u001b[38;5;241m50\u001b[39m\n\u001b[1;32m---> 62\u001b[0m th_test_sim \u001b[38;5;241m=\u001b[39m simulation_IO_model(\u001b[38;5;28;01mlambda\u001b[39;00m x: \u001b[43mreg\u001b[49m\u001b[38;5;241;43m.\u001b[39;49m\u001b[43mpredict\u001b[49m\u001b[43m(\u001b[49m\u001b[43mx\u001b[49m\u001b[43m[\u001b[49m\u001b[38;5;28;43;01mNone\u001b[39;49;00m\u001b[43m,\u001b[49m\u001b[43m:\u001b[49m\u001b[43m]\u001b[49m\u001b[43m)\u001b[49m[\u001b[38;5;241m0\u001b[39m], u_test, th_test, skip\u001b[38;5;241m=\u001b[39mskip)\n\u001b[0;32m     64\u001b[0m \u001b[38;5;28;01massert\u001b[39;00m \u001b[38;5;28mlen\u001b[39m(th_test_sim)\u001b[38;5;241m==\u001b[39m\u001b[38;5;28mlen\u001b[39m(th_test)\n\u001b[0;32m     65\u001b[0m np\u001b[38;5;241m.\u001b[39msavez(\u001b[38;5;124m'\u001b[39m\u001b[38;5;124mNARX-GP-simulation-submission-file.npz\u001b[39m\u001b[38;5;124m'\u001b[39m, th\u001b[38;5;241m=\u001b[39mth_test_sim, u\u001b[38;5;241m=\u001b[39mu_test)\n",
      "File \u001b[1;32m~\\AppData\\Local\\anaconda3\\envs\\ml4sc\\lib\\site-packages\\sklearn\\gaussian_process\\_gpr.py:416\u001b[0m, in \u001b[0;36mGaussianProcessRegressor.predict\u001b[1;34m(self, X, return_std, return_cov)\u001b[0m\n\u001b[0;32m    413\u001b[0m     y_mean \u001b[38;5;241m=\u001b[39m np\u001b[38;5;241m.\u001b[39msqueeze(y_mean, axis\u001b[38;5;241m=\u001b[39m\u001b[38;5;241m1\u001b[39m)\n\u001b[0;32m    415\u001b[0m \u001b[38;5;66;03m# Alg 2.1, page 19, line 5 -> v = L \\ K(X_test, X_train)^T\u001b[39;00m\n\u001b[1;32m--> 416\u001b[0m V \u001b[38;5;241m=\u001b[39m \u001b[43msolve_triangular\u001b[49m\u001b[43m(\u001b[49m\n\u001b[0;32m    417\u001b[0m \u001b[43m    \u001b[49m\u001b[38;5;28;43mself\u001b[39;49m\u001b[38;5;241;43m.\u001b[39;49m\u001b[43mL_\u001b[49m\u001b[43m,\u001b[49m\u001b[43m \u001b[49m\u001b[43mK_trans\u001b[49m\u001b[38;5;241;43m.\u001b[39;49m\u001b[43mT\u001b[49m\u001b[43m,\u001b[49m\u001b[43m \u001b[49m\u001b[43mlower\u001b[49m\u001b[38;5;241;43m=\u001b[39;49m\u001b[43mGPR_CHOLESKY_LOWER\u001b[49m\u001b[43m,\u001b[49m\u001b[43m \u001b[49m\u001b[43mcheck_finite\u001b[49m\u001b[38;5;241;43m=\u001b[39;49m\u001b[38;5;28;43;01mFalse\u001b[39;49;00m\n\u001b[0;32m    418\u001b[0m \u001b[43m\u001b[49m\u001b[43m)\u001b[49m\n\u001b[0;32m    420\u001b[0m \u001b[38;5;28;01mif\u001b[39;00m return_cov:\n\u001b[0;32m    421\u001b[0m     \u001b[38;5;66;03m# Alg 2.1, page 19, line 6 -> K(X_test, X_test) - v^T. v\u001b[39;00m\n\u001b[0;32m    422\u001b[0m     y_cov \u001b[38;5;241m=\u001b[39m \u001b[38;5;28mself\u001b[39m\u001b[38;5;241m.\u001b[39mkernel_(X) \u001b[38;5;241m-\u001b[39m V\u001b[38;5;241m.\u001b[39mT \u001b[38;5;241m@\u001b[39m V\n",
      "\u001b[1;31mKeyboardInterrupt\u001b[0m: "
     ]
    }
   ],
   "source": [
    "import numpy as np\n",
    "\n",
    "out = np.load('training-data.npz')\n",
    "th_train = out['th'] #th[0],th[1],th[2],th[3],...\n",
    "u_train = out['u'] #u[0],u[1],u[2],u[3],...\n",
    "\n",
    "data = np.load('test-simulation-submission-file.npz')\n",
    "u_test = data['u']\n",
    "th_test = data['th'] #only the first 50 values are filled the rest are zeros\n",
    "\n",
    "def create_IO_data(u,y,na,nb):\n",
    "    X = []\n",
    "    Y = []\n",
    "    for k in range(max(na,nb), len(y)):\n",
    "        X.append(np.concatenate([u[k-nb:k],y[k-na:k]]))\n",
    "        Y.append(y[k])\n",
    "    return np.array(X), np.array(Y)\n",
    "\n",
    "na = 8\n",
    "nb = 3\n",
    "Xtrain, Ytrain = create_IO_data(u_train, th_train, na, nb)\n",
    "\n",
    "import pickle\n",
    "# Load the saved model and kernel using pickle\n",
    "with open('GPmodel.dump', 'rb') as file:\n",
    "    reg = pickle.load(file)\n",
    "\n",
    "# Print the kernel configuration\n",
    "print(reg.kernel_)\n",
    "\n",
    "Ytrain_pred = reg.predict(Xtrain)\n",
    "print('train prediction errors:')\n",
    "print('RMS:', np.mean((Ytrain_pred-Ytrain)**2)**0.5,'radians')\n",
    "print('RMS:', np.mean((Ytrain_pred-Ytrain)**2)**0.5/(2*np.pi)*360,'degrees')\n",
    "print('NRMS:', np.mean((Ytrain_pred-Ytrain)**2)**0.5/Ytrain.std()*100,'%')\n",
    "\n",
    "\n",
    "def simulation_IO_model(f, ulist, ylist, skip=50):\n",
    "\n",
    "    upast = ulist[skip-na:skip].tolist() #good initialization\n",
    "    ypast = ylist[skip-nb:skip].tolist()\n",
    "    Y = ylist[:skip].tolist()\n",
    "    for u in ulist[skip:]:\n",
    "        x = np.concatenate([upast,ypast],axis=0)\n",
    "        ypred = f(x)\n",
    "        Y.append(ypred)\n",
    "        upast.append(u)\n",
    "        upast.pop(0)\n",
    "        ypast.append(ypred)\n",
    "        ypast.pop(0)\n",
    "    return np.array(Y)\n",
    "\n",
    "skip = max(na,nb)\n",
    "th_train_sim = simulation_IO_model(lambda x: reg.predict(x[None,:])[0], u_train, th_train, skip=skip)\n",
    "print('train simulation errors:')\n",
    "print('RMS:', np.mean((th_train_sim[skip:]-th_train[skip:])**2)**0.5,'radians')\n",
    "print('RMS:', np.mean((th_train_sim[skip:]-th_train[skip:])**2)**0.5/(2*np.pi)*360,'degrees')\n",
    "print('NRMS:', np.mean((th_train_sim[skip:]-th_train[skip:])**2)**0.5/th_train.std()*100,'%')\n",
    "\n",
    "\n",
    "skip = 50\n",
    "th_test_sim = simulation_IO_model(lambda x: reg.predict(x[None,:])[0], u_test, th_test, skip=skip)\n",
    "\n",
    "assert len(th_test_sim)==len(th_test)\n",
    "np.savez('NARX-GP-simulation-submission-file.npz', th=th_test_sim, u=u_test)"
   ]
  },
  {
   "cell_type": "code",
   "execution_count": null,
   "id": "dc74cb7c",
   "metadata": {},
   "outputs": [],
   "source": []
  }
 ],
 "metadata": {
  "kernelspec": {
   "display_name": "Python 3 (ipykernel)",
   "language": "python",
   "name": "python3"
  },
  "language_info": {
   "codemirror_mode": {
    "name": "ipython",
    "version": 3
   },
   "file_extension": ".py",
   "mimetype": "text/x-python",
   "name": "python",
   "nbconvert_exporter": "python",
   "pygments_lexer": "ipython3",
   "version": "3.10.11"
  }
 },
 "nbformat": 4,
 "nbformat_minor": 5
}
