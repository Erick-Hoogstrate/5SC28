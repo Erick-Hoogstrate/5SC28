{
 "cells": [
  {
   "cell_type": "code",
   "execution_count": 1,
   "id": "dad69fd7",
   "metadata": {},
   "outputs": [
    {
     "name": "stdout",
     "output_type": "stream",
     "text": [
      "RBF(length_scale=4.31) + WhiteKernel(noise_level=9.56e-06)\n",
      "train prediction errors:\n",
      "RMS: 0.004013156526155631 radians\n",
      "RMS: 0.22993693147410038 degrees\n",
      "NRMS: 0.818188634684261 %\n"
     ]
    }
   ],
   "source": [
    "import numpy as np\n",
    "\n",
    "out = np.load('training-data.npz')\n",
    "th_train = out['th'] #th[0],th[1],th[2],th[3],...\n",
    "u_train = out['u'] #u[0],u[1],u[2],u[3],...\n",
    "\n",
    "data = np.load('test-prediction-submission-file.npz')\n",
    "upast_test = data['upast'] #N by u[k-15],u[k-14],...,u[k-1]\n",
    "thpast_test = data['thpast'] #N by y[k-15],y[k-14],...,y[k-1]\n",
    "# thpred = data['thnow'] #all zeros\n",
    "\n",
    "\n",
    "def create_IO_data(u,y,na,nb):\n",
    "    X = []\n",
    "    Y = []\n",
    "    for k in range(max(na,nb), len(y)):\n",
    "        X.append(np.concatenate([u[k-nb:k],y[k-na:k]]))\n",
    "        Y.append(y[k])\n",
    "    return np.array(X), np.array(Y)\n",
    "\n",
    "na = 8\n",
    "nb = 3\n",
    "Xtrain, Ytrain = create_IO_data(u_train, th_train, na, nb)\n",
    "\n",
    "\n",
    "import pickle\n",
    "# Load the saved model and kernel using pickle\n",
    "with open('GPmodel.dump', 'rb') as file:\n",
    "    reg = pickle.load(file)\n",
    "\n",
    "# Print the kernel configuration\n",
    "print(reg.kernel_)\n",
    "\n",
    "\n",
    "Ytrain_pred = reg.predict(Xtrain)\n",
    "print('train prediction errors:')\n",
    "print('RMS:', np.mean((Ytrain_pred-Ytrain)**2)**0.5,'radians')\n",
    "print('RMS:', np.mean((Ytrain_pred-Ytrain)**2)**0.5/(2*np.pi)*360,'degrees')\n",
    "print('NRMS:', np.mean((Ytrain_pred-Ytrain)**2)**0.5/Ytrain.std()*100,'%')\n",
    "\n",
    " #only select the ones that are used in the example\n",
    "Xtest = np.concatenate([upast_test[:,15-nb:], thpast_test[:,15-na:]],axis=1)\n",
    "\n",
    "Ypredict = reg.predict(Xtest)\n",
    "assert len(Ypredict)==len(upast_test), 'number of samples changed!!'\n",
    "\n",
    "np.savez('NARX-GP-prediction-submission-file.npz', upast=upast_test, thpast=thpast_test, thnow=Ypredict)"
   ]
  },
  {
   "cell_type": "code",
   "execution_count": null,
   "id": "a7d9d354",
   "metadata": {},
   "outputs": [],
   "source": []
  }
 ],
 "metadata": {
  "kernelspec": {
   "display_name": "Python 3 (ipykernel)",
   "language": "python",
   "name": "python3"
  },
  "language_info": {
   "codemirror_mode": {
    "name": "ipython",
    "version": 3
   },
   "file_extension": ".py",
   "mimetype": "text/x-python",
   "name": "python",
   "nbconvert_exporter": "python",
   "pygments_lexer": "ipython3",
   "version": "3.10.11"
  }
 },
 "nbformat": 4,
 "nbformat_minor": 5
}
