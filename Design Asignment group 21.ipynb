{
 "cells": [
  {
   "attachments": {},
   "cell_type": "markdown",
   "id": "cc6e359a",
   "metadata": {},
   "source": [
    "# Design assignment"
   ]
  },
  {
   "attachments": {},
   "cell_type": "markdown",
   "id": "8831c148",
   "metadata": {},
   "source": [
    "### Import the neccesary packages\n",
    "\n",
    "Add all needed packages here, so we can import them in one go"
   ]
  },
  {
   "cell_type": "code",
   "execution_count": 2,
   "id": "282c6d43",
   "metadata": {},
   "outputs": [],
   "source": [
    "import pandas as pd\n",
    "import numpy as np\n",
    "import torch\n",
    "from torch import nn\n",
    "from matplotlib import pyplot as plt"
   ]
  },
  {
   "attachments": {},
   "cell_type": "markdown",
   "id": "fafb08db",
   "metadata": {},
   "source": [
    "### Import Data, split between input (u) and output (th)\n",
    "\n",
    "The sampling time is 25ms (see discussion forum).\n",
    "\n",
    "**Beetje omslachtig gedaan nu, maar het werkt**"
   ]
  },
  {
   "cell_type": "code",
   "execution_count": 4,
   "id": "7b0acd45",
   "metadata": {},
   "outputs": [],
   "source": [
    "data = pd.read_csv(r'disc-benchmark-files\\training-data.csv')\n",
    "\n",
    "u = data.iloc[:, 0].to_numpy()\n",
    "th = data.iloc[:, 1].to_numpy()"
   ]
  },
  {
   "attachments": {},
   "cell_type": "markdown",
   "id": "c70a5b54",
   "metadata": {},
   "source": [
    "### Create Neural Network\n",
    "\n",
    "One hidden layer, n nodes."
   ]
  },
  {
   "cell_type": "code",
   "execution_count": 17,
   "id": "a533a63d",
   "metadata": {},
   "outputs": [],
   "source": [
    "class Network(nn.Module):\n",
    "    def __init__(self, n):\n",
    "        super(Network,self).__init__()\n",
    "        self.lay1 = nn.Linear(1,n).double()\n",
    "        self.lay2 = nn.Linear(n,n).double()\n",
    "        self.lay3 = nn.Linear(n,1).double()\n",
    "        \n",
    "    def forward(self,u):\n",
    "        u = u[:,None]\n",
    "        x1 = torch.sigmoid(self.lay1(u)) \n",
    "        x2 = torch.sigmoid(self.lay2(x1)) \n",
    "        y = self.lay3(x2)[:,0]            \n",
    "        return y"
   ]
  },
  {
   "attachments": {},
   "cell_type": "markdown",
   "id": "573969db",
   "metadata": {},
   "source": [
    "**Keiharde copy paste van L3 doen? Waar komt Guassian om de hoek kijken?**"
   ]
  },
  {
   "cell_type": "code",
   "execution_count": null,
   "id": "a05f2017",
   "metadata": {},
   "outputs": [],
   "source": [
    "test"
   ]
  }
 ],
 "metadata": {
  "kernelspec": {
   "display_name": "Python 3 (ipykernel)",
   "language": "python",
   "name": "python3"
  },
  "language_info": {
   "codemirror_mode": {
    "name": "ipython",
    "version": 3
   },
   "file_extension": ".py",
   "mimetype": "text/x-python",
   "name": "python",
   "nbconvert_exporter": "python",
   "pygments_lexer": "ipython3",
   "version": "3.10.11"
  }
 },
 "nbformat": 4,
 "nbformat_minor": 5
}
