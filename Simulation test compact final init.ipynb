{
 "cells": [
  {
   "attachments": {},
   "cell_type": "markdown",
   "id": "4d7fdd8c",
   "metadata": {},
   "source": [
    "# Simulation test"
   ]
  },
  {
   "cell_type": "code",
   "execution_count": null,
   "id": "62974d8c",
   "metadata": {},
   "outputs": [],
   "source": [
    "import pandas as pd\n",
    "import numpy as np\n",
    "import torch\n",
    "from torch import nn\n",
    "from matplotlib import pyplot as plt\n",
    "\n",
    "from sklearn.gaussian_process import GaussianProcessRegressor\n",
    "from sklearn.gaussian_process.kernels import RBF, WhiteKernel, RationalQuadratic, Product\n",
    "\n",
    "from scipy.sparse import csr_matrix\n",
    "from util_fun import calculate_error_nrms\n",
    "from data import load_narx_data, load_data"
   ]
  },
  {
   "cell_type": "code",
   "execution_count": null,
   "id": "97c09dc3",
   "metadata": {},
   "outputs": [],
   "source": [
    "n_a, n_b = 8, 3\n",
    "Split = [0.6, 0.2, 0.2] # split; [training, validation, test]\n",
    "total_number_of_points = 10000 # total number of points to consider from the larger dataset (starting from index 0)\n",
    "restarts = 0\n",
    "\n",
    "Xtrain_NARX, Ytrain_NARX = load_narx_data(n_a, n_b, total_number_of_points, section=\"train\", split=Split, as_tensor=False)\n",
    "Xval_NARX, Yval_NARX = load_narx_data(n_a, n_b, total_number_of_points, section=\"validation\", split=Split, as_tensor=False)\n",
    "Xtest_NARX, Ytest_NARX = load_narx_data(n_a, n_b, total_number_of_points, section=\"test\", split=Split, as_tensor=False)"
   ]
  },
  {
   "cell_type": "code",
   "execution_count": null,
   "id": "6eacf7a6",
   "metadata": {},
   "outputs": [],
   "source": [
    "def use_NARX_model_in_simulation(ulist, f, na, nb, Y_in):\n",
    "    #init upast and ypast as lists.\n",
    "    upast = [ulist[0]]*nb \n",
    "    ypast = [Y_in[0]]*na \n",
    "    \n",
    "    ylist = []\n",
    "    for unow in ulist:\n",
    "        #compute the current y given by f\n",
    "        ynow = f(upast,ypast) \n",
    "        \n",
    "        #update past arrays\n",
    "        upast.append(unow)\n",
    "        upast.pop(0)\n",
    "        ypast.append(ynow)\n",
    "        ypast.pop(0)\n",
    "        \n",
    "        #save result\n",
    "        ylist.append(ynow)\n",
    "    return np.array(ylist) #return result"
   ]
  },
  {
   "cell_type": "code",
   "execution_count": null,
   "id": "31370eb5",
   "metadata": {},
   "outputs": [],
   "source": [
    "XtrainNARXSparse = csr_matrix(Xtrain_NARX).toarray()\n",
    "YtrainNARXSparse = csr_matrix(Ytrain_NARX).toarray().transpose()"
   ]
  },
  {
   "cell_type": "code",
   "execution_count": 4,
   "id": "b9e2b2c7",
   "metadata": {},
   "outputs": [],
   "source": [
    "kernel = RBF(length_scale_bounds=[1,50]) + WhiteKernel(noise_level_bounds=[1e-7,1e-2])\n",
    "# kernel = RationalQuadratic() + WhiteKernel()\n",
    "reg = GaussianProcessRegressor(kernel, n_restarts_optimizer=restarts)\n",
    "\n",
    "reg.fit(XtrainNARXSparse, YtrainNARXSparse)\n",
    "\n",
    "print(reg.kernel_)"
   ]
  },
  {
   "cell_type": "code",
   "execution_count": null,
   "id": "5c32024e",
   "metadata": {},
   "outputs": [],
   "source": [
    "Ytrain_pred, Ytrain_pred_std = reg.predict(Xtrain_NARX,return_std=True)\n",
    "plt.figure(figsize=(12,5))\n",
    "plt.plot(Ytrain_NARX)\n",
    "plt.title('Prediction on train set')\n",
    "Ytrain_pred, Ytrain_pred_std = reg.predict(Xtrain_NARX,return_std=True)\n",
    "plt.errorbar(np.arange(len(Xtrain_NARX)), (Ytrain_pred), yerr=2*Ytrain_pred_std,fmt='.r')\n",
    "plt.grid(); plt.xlabel('sample'); plt.ylabel('y'); plt.legend(['measured','pred'])\n",
    "plt.xlim([0, 250])\n",
    "plt.show()\n",
    "\n",
    "NRMS_train_pred = calculate_error_nrms(Ytrain_pred, Ytrain_NARX)\n",
    "print(f'Train prediction NRMS: {NRMS_train_pred:.2f} %')\n",
    "\n",
    "plt.figure(figsize=(12,5))\n",
    "plt.title('Prediction on validation set')\n",
    "plt.plot(Yval_NARX)\n",
    "Yval_pred, Yval_pred_std = reg.predict(Xval_NARX,return_std=True)\n",
    "plt.errorbar(np.arange(len(Xval_NARX)), (Yval_pred), yerr=2*Yval_pred_std,fmt='.r')\n",
    "plt.grid(); plt.xlabel('sample'); plt.ylabel('y'); plt.legend(['measured','pred'])\n",
    "plt.xlim([0, 250])\n",
    "plt.show()\n",
    "\n",
    "NRMS_val_pred = calculate_error_nrms(Yval_pred, Yval_NARX)\n",
    "print(f'Validation prediction NRMS: {NRMS_val_pred:.2f} %')\n",
    "\n",
    "plt.figure(figsize=(12,5))\n",
    "plt.title('Prediction on test set')\n",
    "plt.plot(Ytest_NARX)\n",
    "Ytest_pred, Ytest_pred_std = reg.predict(Xtest_NARX,return_std=True)\n",
    "plt.errorbar(np.arange(len(Xtest_NARX)), (Ytest_pred), yerr=2*Ytest_pred_std,fmt='.r')\n",
    "plt.grid(); plt.xlabel('sample'); plt.ylabel('y'); plt.legend(['measured','pred'])\n",
    "plt.xlim([0, 250])\n",
    "plt.show()\n",
    "\n",
    "NRMS_test_pred = calculate_error_nrms(Ytest_pred, Ytest_NARX)\n",
    "print(f'Test prediction NRMS: {NRMS_test_pred:.2f} %')"
   ]
  },
  {
   "attachments": {},
   "cell_type": "markdown",
   "id": "96cc0b5e",
   "metadata": {},
   "source": [
    "### Run simulation"
   ]
  },
  {
   "cell_type": "code",
   "execution_count": null,
   "id": "135b4bd5",
   "metadata": {},
   "outputs": [],
   "source": [
    "Xtrain,Ytrain = load_data(section=\"train\", split=Split, total_number_of_points=total_number_of_points, as_tensor=False)\n",
    "Xval,Yval = load_data(section=\"validation\", split=Split, total_number_of_points=total_number_of_points, as_tensor=False)\n",
    "Xtest,Ytest = load_data(section=\"test\", split=Split, total_number_of_points=total_number_of_points, as_tensor=False)"
   ]
  },
  {
   "cell_type": "code",
   "execution_count": null,
   "id": "aa20a377",
   "metadata": {},
   "outputs": [],
   "source": [
    "sim_model = lambda u,y: reg.predict(np.concatenate([u,y])[None,:])[0] "
   ]
  },
  {
   "cell_type": "code",
   "execution_count": null,
   "id": "f0bb0cb8",
   "metadata": {},
   "outputs": [],
   "source": [
    "Ytrain_sim = use_NARX_model_in_simulation(Xtrain, sim_model, n_a, n_b, Ytrain)"
   ]
  },
  {
   "cell_type": "code",
   "execution_count": null,
   "id": "756cb92d",
   "metadata": {},
   "outputs": [],
   "source": [
    "plt.figure(figsize=(12,5))\n",
    "plt.title('Simulation on train set')\n",
    "plt.plot(Ytrain)\n",
    "plt.plot(Ytrain_sim)\n",
    "plt.grid(); plt.xlabel('sample'); plt.ylabel('y'); plt.legend(['Measured','Simulated'])\n",
    "plt.xlim([0, 250])\n",
    "plt.show()\n",
    "\n",
    "NRMS_train_sim = calculate_error_nrms(Ytrain_sim, Ytrain)\n",
    "print(f'Train simulation NRMS: {NRMS_train_sim:.2f} %')\n",
    "\n",
    "plt.figure(figsize=(12,5))\n",
    "plt.plot(Ytrain,'b-.')\n",
    "plt.plot(Ytrain_pred, 'y')\n",
    "plt.plot(Ytrain_sim)\n",
    "plt.title(\"Measured vs Prediction vs Simulation\")\n",
    "plt.legend(['Measured','Prediction','Simulation'])\n",
    "plt.show()\n",
    "\n",
    "print(f'Train prediction NRMS: {NRMS_train_pred:.2f} %')\n",
    "print(f'Train simulation NRMS: {NRMS_train_sim:.2f} %')"
   ]
  },
  {
   "cell_type": "code",
   "execution_count": null,
   "id": "df869abf",
   "metadata": {},
   "outputs": [],
   "source": [
    "Yval_sim = use_NARX_model_in_simulation(Xval, sim_model, n_a, n_b, Yval)"
   ]
  },
  {
   "cell_type": "code",
   "execution_count": null,
   "id": "106b84e7",
   "metadata": {},
   "outputs": [],
   "source": [
    "plt.figure(figsize=(12,5))\n",
    "plt.title('Simulation on validation set')\n",
    "plt.plot(Yval)\n",
    "plt.plot(Yval_sim)\n",
    "plt.grid(); plt.xlabel('sample'); plt.ylabel('y'); plt.legend(['Measured','Simulated'])\n",
    "plt.xlim([0, 250])\n",
    "plt.show()\n",
    "\n",
    "NRMS_val_sim = calculate_error_nrms(Yval_sim, Yval)\n",
    "print(f'Validation simulation NRMS: {NRMS_val_sim:.2f} %')\n",
    "\n",
    "plt.figure(figsize=(12,5))\n",
    "plt.plot(Yval,'b-.')\n",
    "plt.plot(Yval_pred, 'y')\n",
    "plt.plot(Yval_sim)\n",
    "plt.title(\"Measured vs Prediction vs Simulation\")\n",
    "plt.legend(['Measured','Prediction','Simulation'])\n",
    "plt.show()\n",
    "\n",
    "print(f'Validation prediction NRMS: {NRMS_val_pred:.2f} %')\n",
    "print(f'Validation simulation NRMS: {NRMS_val_sim:.2f} %')"
   ]
  },
  {
   "cell_type": "code",
   "execution_count": null,
   "id": "e0c8891b",
   "metadata": {},
   "outputs": [],
   "source": [
    "Ytest_sim = use_NARX_model_in_simulation(Xtest, sim_model, n_a, n_b, Ytest)"
   ]
  },
  {
   "cell_type": "code",
   "execution_count": null,
   "id": "929324c5",
   "metadata": {},
   "outputs": [],
   "source": [
    "plt.figure(figsize=(12,5))\n",
    "plt.title('Simulation on test set')\n",
    "plt.plot(Ytest)\n",
    "plt.plot(Ytest_sim)\n",
    "plt.grid(); plt.xlabel('sample'); plt.ylabel('y'); plt.legend(['Measured','Simulated'])\n",
    "plt.xlim([0, 250])\n",
    "plt.show()\n",
    "\n",
    "NRMS_test_sim = calculate_error_nrms(Ytest_sim, Ytest)\n",
    "print(f'Test simulation NRMS: {NRMS_test_sim:.2f} %')\n",
    "\n",
    "plt.figure(figsize=(12,5))\n",
    "plt.plot(Ytest,'b-.')\n",
    "plt.plot(Ytest_pred, 'y')\n",
    "plt.plot(Ytest_sim)\n",
    "plt.title(\"Measured vs Prediction vs Simulation\")\n",
    "plt.legend(['Measured','Prediction','Simulation'])\n",
    "plt.show()\n",
    "\n",
    "print(f'Test prediction NRMS: {NRMS_test_pred:.2f} %')\n",
    "print(f'Test simulation NRMS: {NRMS_test_sim:.2f} %')"
   ]
  },
  {
   "attachments": {},
   "cell_type": "markdown",
   "id": "d2e322da",
   "metadata": {},
   "source": [
    "## Final results"
   ]
  },
  {
   "cell_type": "code",
   "execution_count": null,
   "id": "cfbe3e91",
   "metadata": {},
   "outputs": [],
   "source": [
    "data = {\n",
    "    'Prediction': [NRMS_train_pred, NRMS_val_pred, NRMS_test_pred],\n",
    "    'Simulation': [NRMS_train_sim, NRMS_val_sim, NRMS_test_sim]\n",
    "}\n",
    "    \n",
    "index = ['Train', 'Validation', 'Test']\n",
    "\n",
    "df = pd.DataFrame(data, index=index)\n",
    "\n",
    "df = df.round(2)\n",
    "\n",
    "display(df)\n"
   ]
  }
 ],
 "metadata": {
  "kernelspec": {
   "display_name": "Python 3 (ipykernel)",
   "language": "python",
   "name": "python3"
  },
  "language_info": {
   "codemirror_mode": {
    "name": "ipython",
    "version": 3
   },
   "file_extension": ".py",
   "mimetype": "text/x-python",
   "name": "python",
   "nbconvert_exporter": "python",
   "pygments_lexer": "ipython3",
   "version": "3.8.16"
  }
 },
 "nbformat": 4,
 "nbformat_minor": 5
}
