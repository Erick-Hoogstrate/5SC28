{
 "cells": [
  {
   "attachments": {},
   "cell_type": "markdown",
   "id": "4d7fdd8c",
   "metadata": {},
   "source": [
    "# NARX GP Grid Search"
   ]
  },
  {
   "cell_type": "code",
   "execution_count": 1,
   "id": "62974d8c",
   "metadata": {},
   "outputs": [],
   "source": [
    "import pandas as pd\n",
    "import numpy as np\n",
    "import torch\n",
    "from torch import nn\n",
    "from matplotlib import pyplot as plt\n",
    "\n",
    "from sklearn.gaussian_process import GaussianProcessRegressor\n",
    "from sklearn.gaussian_process.kernels import RBF, WhiteKernel, RationalQuadratic, Product\n",
    "\n",
    "from scipy.sparse import csr_matrix\n",
    "\n",
    "from data import load_narx_data, load_data\n",
    "from util_fun import calculate_error_nrms, use_NARX_model_in_simulation, plot_NRMS_Pred_vs_Sim"
   ]
  },
  {
   "cell_type": "code",
   "execution_count": 2,
   "id": "97c09dc3",
   "metadata": {},
   "outputs": [],
   "source": [
    "# Initialize stationary parameters\n",
    "\n",
    "Split = [0.6, 0.2, 0.2] # split; [training, validation, test]\n",
    "total_number_of_points = 5000 # total number of points to consider from the larger dataset (starting from index 0)\n",
    "\n",
    "na_list=[*range(2,11)]\n",
    "nb_list=[*range(2,10)]\n",
    "restarts = 0\n",
    "\n",
    "val_pred_NRMSs=np.ndarray((len(na_list),len(nb_list)))\n",
    "val_sim_NRMSs=np.ndarray((len(na_list),len(nb_list)))"
   ]
  },
  {
   "attachments": {},
   "cell_type": "markdown",
   "id": "65cd611d",
   "metadata": {},
   "source": [
    "## Define your kernel here"
   ]
  },
  {
   "cell_type": "code",
   "execution_count": 3,
   "id": "a6b13d73",
   "metadata": {},
   "outputs": [],
   "source": [
    "kernel = RBF(length_scale_bounds=[1,30]) + WhiteKernel(noise_level_bounds=[1e-7,1e-1])\n",
    "reg = GaussianProcessRegressor(kernel, n_restarts_optimizer=restarts)"
   ]
  },
  {
   "cell_type": "code",
   "execution_count": 4,
   "id": "7853ccc2",
   "metadata": {},
   "outputs": [
    {
     "name": "stdout",
     "output_type": "stream",
     "text": [
      "Using 3000 datapoints for training set\n"
     ]
    }
   ],
   "source": [
    "#Load normal data\n",
    "Xtrain,Ytrain = load_data(section=\"train\", split=Split, total_number_of_points=total_number_of_points, as_tensor=False)\n",
    "Xval,Yval = load_data(section=\"validation\", split=Split, total_number_of_points=total_number_of_points, as_tensor=False)"
   ]
  },
  {
   "cell_type": "code",
   "execution_count": 5,
   "id": "21d66662",
   "metadata": {},
   "outputs": [],
   "source": [
    "bestNRMSsim = float('inf')"
   ]
  },
  {
   "cell_type": "code",
   "execution_count": 6,
   "id": "e114a545",
   "metadata": {},
   "outputs": [
    {
     "name": "stdout",
     "output_type": "stream",
     "text": [
      "Currently running: na= 2, nb= 2\n",
      "Using 3000 datapoints for training set\n",
      "NRMS for validation is: pred= 0.8590012482884294, sim= 12.130058805471851\n",
      "BEST NRMS currently is: na= 2, nb= 2\n",
      "Currently running: na= 2, nb= 3\n",
      "Using 3000 datapoints for training set\n",
      "NRMS for validation is: pred= 0.8591119085864488, sim= 12.558121771139144\n",
      "BEST NRMS currently is: na= 2, nb= 3\n",
      "Currently running: na= 2, nb= 4\n",
      "Using 3000 datapoints for training set\n",
      "NRMS for validation is: pred= 0.8814104002113817, sim= 13.262972890333055\n",
      "BEST NRMS currently is: na= 2, nb= 4\n",
      "Currently running: na= 2, nb= 5\n",
      "Using 3000 datapoints for training set\n",
      "NRMS for validation is: pred= 0.9191625535852288, sim= 13.673313335849935\n",
      "BEST NRMS currently is: na= 2, nb= 5\n",
      "Currently running: na= 2, nb= 6\n",
      "Using 3000 datapoints for training set\n",
      "NRMS for validation is: pred= 0.949731448656432, sim= 14.504356753618769\n",
      "BEST NRMS currently is: na= 2, nb= 6\n",
      "Currently running: na= 2, nb= 7\n",
      "Using 3000 datapoints for training set\n",
      "NRMS for validation is: pred= 1.0125724185643399, sim= 16.119373715906725\n",
      "BEST NRMS currently is: na= 2, nb= 7\n",
      "Currently running: na= 2, nb= 8\n",
      "Using 3000 datapoints for training set\n",
      "NRMS for validation is: pred= 1.0317093323903919, sim= 16.54991132669999\n",
      "BEST NRMS currently is: na= 2, nb= 8\n",
      "Currently running: na= 2, nb= 9\n",
      "Using 3000 datapoints for training set\n",
      "NRMS for validation is: pred= 1.0460949598002545, sim= 17.563181710688358\n",
      "BEST NRMS currently is: na= 2, nb= 9\n",
      "Currently running: na= 3, nb= 2\n",
      "Using 3000 datapoints for training set\n",
      "NRMS for validation is: pred= 0.8427042741617213, sim= 11.646294375425272\n",
      "BEST NRMS currently is: na= 3, nb= 2\n",
      "Currently running: na= 3, nb= 3\n",
      "Using 3000 datapoints for training set\n",
      "NRMS for validation is: pred= 0.7523296505798651, sim= 10.425242249422748\n",
      "BEST NRMS currently is: na= 3, nb= 3\n",
      "Currently running: na= 3, nb= 4\n",
      "Using 3000 datapoints for training set\n",
      "NRMS for validation is: pred= 0.7546707658981455, sim= 9.970322127378994\n",
      "BEST NRMS currently is: na= 3, nb= 4\n",
      "Currently running: na= 3, nb= 5\n",
      "Using 3000 datapoints for training set\n",
      "NRMS for validation is: pred= 0.7684642212601178, sim= 10.120984818387393\n",
      "BEST NRMS currently is: na= 3, nb= 5\n",
      "Currently running: na= 3, nb= 6\n",
      "Using 3000 datapoints for training set\n",
      "NRMS for validation is: pred= 0.7930215829859902, sim= 10.95062982263015\n",
      "BEST NRMS currently is: na= 3, nb= 6\n",
      "Currently running: na= 3, nb= 7\n",
      "Using 3000 datapoints for training set\n",
      "NRMS for validation is: pred= 0.839258582011723, sim= 11.79136787866804\n",
      "BEST NRMS currently is: na= 3, nb= 7\n",
      "Currently running: na= 3, nb= 8\n",
      "Using 3000 datapoints for training set\n",
      "NRMS for validation is: pred= 0.8857576108090783, sim= 12.427420342874644\n",
      "BEST NRMS currently is: na= 3, nb= 8\n",
      "Currently running: na= 3, nb= 9\n",
      "Using 3000 datapoints for training set\n",
      "NRMS for validation is: pred= 0.9383462167412978, sim= 14.059399159764752\n",
      "BEST NRMS currently is: na= 3, nb= 9\n",
      "Currently running: na= 4, nb= 2\n",
      "Using 3000 datapoints for training set\n",
      "NRMS for validation is: pred= 0.7313966936926557, sim= 9.85389001781517\n",
      "BEST NRMS currently is: na= 4, nb= 2\n",
      "Currently running: na= 4, nb= 3\n",
      "Using 3000 datapoints for training set\n",
      "NRMS for validation is: pred= 0.7181231423272153, sim= 7.814099076816683\n",
      "BEST NRMS currently is: na= 4, nb= 3\n",
      "Currently running: na= 4, nb= 4\n",
      "Using 3000 datapoints for training set\n",
      "NRMS for validation is: pred= 0.7335100911848206, sim= 9.344758181260431\n",
      "BEST NRMS currently is: na= 4, nb= 4\n",
      "Currently running: na= 4, nb= 5\n",
      "Using 3000 datapoints for training set\n",
      "NRMS for validation is: pred= 0.7500870862240536, sim= 9.219136493832398\n",
      "BEST NRMS currently is: na= 4, nb= 5\n",
      "Currently running: na= 4, nb= 6\n",
      "Using 3000 datapoints for training set\n",
      "NRMS for validation is: pred= 0.7654879906342732, sim= 9.738887874549249\n",
      "BEST NRMS currently is: na= 4, nb= 6\n",
      "Currently running: na= 4, nb= 7\n",
      "Using 3000 datapoints for training set\n",
      "NRMS for validation is: pred= 0.8000005120871349, sim= 10.523729739959247\n",
      "BEST NRMS currently is: na= 4, nb= 7\n",
      "Currently running: na= 4, nb= 8\n",
      "Using 3000 datapoints for training set\n",
      "NRMS for validation is: pred= 0.8395646871081014, sim= 11.023834747653002\n",
      "BEST NRMS currently is: na= 4, nb= 8\n",
      "Currently running: na= 4, nb= 9\n",
      "Using 3000 datapoints for training set\n",
      "NRMS for validation is: pred= 0.8838953178120905, sim= 12.594941056013193\n",
      "BEST NRMS currently is: na= 4, nb= 9\n",
      "Currently running: na= 5, nb= 2\n",
      "Using 3000 datapoints for training set\n",
      "NRMS for validation is: pred= 0.7210961363855471, sim= 7.7529995413468615\n",
      "BEST NRMS currently is: na= 5, nb= 2\n",
      "Currently running: na= 5, nb= 3\n",
      "Using 3000 datapoints for training set\n"
     ]
    },
    {
     "name": "stderr",
     "output_type": "stream",
     "text": [
      "c:\\Users\\20191695\\Anaconda3\\envs\\ml4sc\\lib\\site-packages\\sklearn\\gaussian_process\\_gpr.py:629: ConvergenceWarning: lbfgs failed to converge (status=2):\n",
      "ABNORMAL_TERMINATION_IN_LNSRCH.\n",
      "\n",
      "Increase the number of iterations (max_iter) or scale the data as shown in:\n",
      "    https://scikit-learn.org/stable/modules/preprocessing.html\n",
      "  _check_optimize_result(\"lbfgs\", opt_res)\n"
     ]
    },
    {
     "name": "stdout",
     "output_type": "stream",
     "text": [
      "NRMS for validation is: pred= 0.708018656974483, sim= 6.553125528876446\n",
      "BEST NRMS currently is: na= 5, nb= 3\n",
      "Currently running: na= 5, nb= 4\n",
      "Using 3000 datapoints for training set\n",
      "NRMS for validation is: pred= 0.7106516822656165, sim= 7.441756240584767\n",
      "BEST NRMS currently is: na= 5, nb= 4\n",
      "Currently running: na= 5, nb= 5\n",
      "Using 3000 datapoints for training set\n",
      "NRMS for validation is: pred= 0.7315438850190804, sim= 8.421570840395674\n",
      "BEST NRMS currently is: na= 5, nb= 5\n",
      "Currently running: na= 5, nb= 6\n",
      "Using 3000 datapoints for training set\n",
      "NRMS for validation is: pred= 0.7454588100929564, sim= 9.2100171962105\n",
      "BEST NRMS currently is: na= 5, nb= 6\n",
      "Currently running: na= 5, nb= 7\n",
      "Using 3000 datapoints for training set\n",
      "NRMS for validation is: pred= 0.7753061899596111, sim= 10.154882493205688\n",
      "BEST NRMS currently is: na= 5, nb= 7\n",
      "Currently running: na= 5, nb= 8\n",
      "Using 3000 datapoints for training set\n",
      "NRMS for validation is: pred= 0.8052958821670904, sim= 10.44508169305331\n",
      "BEST NRMS currently is: na= 5, nb= 8\n",
      "Currently running: na= 5, nb= 9\n",
      "Using 3000 datapoints for training set\n",
      "NRMS for validation is: pred= 0.8423399695503446, sim= 11.800506169040355\n",
      "BEST NRMS currently is: na= 5, nb= 9\n",
      "Currently running: na= 6, nb= 2\n",
      "Using 3000 datapoints for training set\n",
      "NRMS for validation is: pred= 0.7201455130419202, sim= 7.602130604785094\n",
      "BEST NRMS currently is: na= 6, nb= 2\n",
      "Currently running: na= 6, nb= 3\n",
      "Using 3000 datapoints for training set\n",
      "NRMS for validation is: pred= 0.7024031250711579, sim= 6.257302430383503\n",
      "BEST NRMS currently is: na= 6, nb= 3\n",
      "Currently running: na= 6, nb= 4\n",
      "Using 3000 datapoints for training set\n",
      "NRMS for validation is: pred= 0.7017518348707246, sim= 6.590343430743959\n",
      "BEST NRMS currently is: na= 6, nb= 4\n",
      "Currently running: na= 6, nb= 5\n",
      "Using 3000 datapoints for training set\n",
      "NRMS for validation is: pred= 0.7255043880402239, sim= 7.398338497040596\n",
      "BEST NRMS currently is: na= 6, nb= 5\n",
      "Currently running: na= 6, nb= 6\n",
      "Using 3000 datapoints for training set\n",
      "NRMS for validation is: pred= 0.7375069365778085, sim= 8.557089494248771\n",
      "BEST NRMS currently is: na= 6, nb= 6\n",
      "Currently running: na= 6, nb= 7\n",
      "Using 3000 datapoints for training set\n",
      "NRMS for validation is: pred= 0.7652940016518562, sim= 9.95149505594526\n",
      "BEST NRMS currently is: na= 6, nb= 7\n",
      "Currently running: na= 6, nb= 8\n",
      "Using 3000 datapoints for training set\n",
      "NRMS for validation is: pred= 0.7913879820878079, sim= 10.310972850366653\n",
      "BEST NRMS currently is: na= 6, nb= 8\n",
      "Currently running: na= 6, nb= 9\n",
      "Using 3000 datapoints for training set\n",
      "NRMS for validation is: pred= 0.8208853931683415, sim= 11.527186620901015\n",
      "BEST NRMS currently is: na= 6, nb= 9\n",
      "Currently running: na= 7, nb= 2\n",
      "Using 3000 datapoints for training set\n"
     ]
    },
    {
     "name": "stderr",
     "output_type": "stream",
     "text": [
      "c:\\Users\\20191695\\Anaconda3\\envs\\ml4sc\\lib\\site-packages\\sklearn\\gaussian_process\\_gpr.py:629: ConvergenceWarning: lbfgs failed to converge (status=2):\n",
      "ABNORMAL_TERMINATION_IN_LNSRCH.\n",
      "\n",
      "Increase the number of iterations (max_iter) or scale the data as shown in:\n",
      "    https://scikit-learn.org/stable/modules/preprocessing.html\n",
      "  _check_optimize_result(\"lbfgs\", opt_res)\n"
     ]
    },
    {
     "name": "stdout",
     "output_type": "stream",
     "text": [
      "NRMS for validation is: pred= 0.7179102939443421, sim= 7.918645863721922\n",
      "BEST NRMS currently is: na= 7, nb= 2\n",
      "Currently running: na= 7, nb= 3\n",
      "Using 3000 datapoints for training set\n",
      "NRMS for validation is: pred= 0.6969524770451934, sim= 6.3441775575030395\n",
      "BEST NRMS currently is: na= 7, nb= 3\n",
      "Currently running: na= 7, nb= 4\n",
      "Using 3000 datapoints for training set\n",
      "NRMS for validation is: pred= 0.698166559849993, sim= 6.722330697347556\n",
      "BEST NRMS currently is: na= 7, nb= 4\n",
      "Currently running: na= 7, nb= 5\n",
      "Using 3000 datapoints for training set\n",
      "NRMS for validation is: pred= 0.7233475372786109, sim= 6.7844757006174845\n",
      "BEST NRMS currently is: na= 7, nb= 5\n",
      "Currently running: na= 7, nb= 6\n",
      "Using 3000 datapoints for training set\n"
     ]
    },
    {
     "name": "stderr",
     "output_type": "stream",
     "text": [
      "c:\\Users\\20191695\\Anaconda3\\envs\\ml4sc\\lib\\site-packages\\sklearn\\gaussian_process\\_gpr.py:629: ConvergenceWarning: lbfgs failed to converge (status=2):\n",
      "ABNORMAL_TERMINATION_IN_LNSRCH.\n",
      "\n",
      "Increase the number of iterations (max_iter) or scale the data as shown in:\n",
      "    https://scikit-learn.org/stable/modules/preprocessing.html\n",
      "  _check_optimize_result(\"lbfgs\", opt_res)\n"
     ]
    },
    {
     "name": "stdout",
     "output_type": "stream",
     "text": [
      "NRMS for validation is: pred= 0.7319089068904563, sim= 7.7480567628761685\n",
      "BEST NRMS currently is: na= 7, nb= 6\n",
      "Currently running: na= 7, nb= 7\n",
      "Using 3000 datapoints for training set\n"
     ]
    },
    {
     "name": "stderr",
     "output_type": "stream",
     "text": [
      "c:\\Users\\20191695\\Anaconda3\\envs\\ml4sc\\lib\\site-packages\\sklearn\\gaussian_process\\_gpr.py:629: ConvergenceWarning: lbfgs failed to converge (status=2):\n",
      "ABNORMAL_TERMINATION_IN_LNSRCH.\n",
      "\n",
      "Increase the number of iterations (max_iter) or scale the data as shown in:\n",
      "    https://scikit-learn.org/stable/modules/preprocessing.html\n",
      "  _check_optimize_result(\"lbfgs\", opt_res)\n"
     ]
    },
    {
     "name": "stdout",
     "output_type": "stream",
     "text": [
      "NRMS for validation is: pred= 0.7598254553793106, sim= 9.458524399640343\n",
      "BEST NRMS currently is: na= 7, nb= 7\n",
      "Currently running: na= 7, nb= 8\n",
      "Using 3000 datapoints for training set\n",
      "NRMS for validation is: pred= 0.7848647604821792, sim= 10.065827498610759\n",
      "BEST NRMS currently is: na= 7, nb= 8\n",
      "Currently running: na= 7, nb= 9\n",
      "Using 3000 datapoints for training set\n",
      "NRMS for validation is: pred= 0.8113746540992678, sim= 11.398110136169807\n",
      "BEST NRMS currently is: na= 7, nb= 9\n",
      "Currently running: na= 8, nb= 2\n",
      "Using 3000 datapoints for training set\n",
      "NRMS for validation is: pred= 0.7169664235260411, sim= 7.74939520402388\n",
      "BEST NRMS currently is: na= 8, nb= 2\n",
      "Currently running: na= 8, nb= 3\n",
      "Using 3000 datapoints for training set\n",
      "NRMS for validation is: pred= 0.6929288709239905, sim= 6.326629958018897\n",
      "BEST NRMS currently is: na= 8, nb= 3\n",
      "Currently running: na= 8, nb= 4\n",
      "Using 3000 datapoints for training set\n",
      "NRMS for validation is: pred= 0.6947466832738077, sim= 6.722520320646666\n",
      "BEST NRMS currently is: na= 8, nb= 4\n",
      "Currently running: na= 8, nb= 5\n",
      "Using 3000 datapoints for training set\n",
      "NRMS for validation is: pred= 0.7229658146594111, sim= 6.709827948452178\n",
      "BEST NRMS currently is: na= 8, nb= 5\n",
      "Currently running: na= 8, nb= 6\n",
      "Using 3000 datapoints for training set\n",
      "NRMS for validation is: pred= 0.7316460217125288, sim= 7.210106207494614\n",
      "BEST NRMS currently is: na= 8, nb= 6\n",
      "Currently running: na= 8, nb= 7\n",
      "Using 3000 datapoints for training set\n",
      "NRMS for validation is: pred= 0.7528583990283871, sim= 8.502706866008827\n",
      "BEST NRMS currently is: na= 8, nb= 7\n",
      "Currently running: na= 8, nb= 8\n",
      "Using 3000 datapoints for training set\n",
      "NRMS for validation is: pred= 0.7790100800313241, sim= 9.301400530178311\n",
      "BEST NRMS currently is: na= 8, nb= 8\n",
      "Currently running: na= 8, nb= 9\n",
      "Using 3000 datapoints for training set\n",
      "NRMS for validation is: pred= 0.8045499150189259, sim= 10.857437569736758\n",
      "BEST NRMS currently is: na= 8, nb= 9\n",
      "Currently running: na= 9, nb= 2\n",
      "Using 3000 datapoints for training set\n",
      "NRMS for validation is: pred= 0.7204610471335746, sim= 7.83683881341215\n",
      "BEST NRMS currently is: na= 9, nb= 2\n",
      "Currently running: na= 9, nb= 3\n",
      "Using 3000 datapoints for training set\n",
      "NRMS for validation is: pred= 0.6988805825095423, sim= 6.674895884426961\n",
      "BEST NRMS currently is: na= 9, nb= 3\n",
      "Currently running: na= 9, nb= 4\n",
      "Using 3000 datapoints for training set\n",
      "NRMS for validation is: pred= 0.6983355394282855, sim= 7.115217614539715\n",
      "BEST NRMS currently is: na= 9, nb= 4\n",
      "Currently running: na= 9, nb= 5\n",
      "Using 3000 datapoints for training set\n",
      "NRMS for validation is: pred= 0.7272636759862368, sim= 6.9797758146060085\n",
      "BEST NRMS currently is: na= 9, nb= 5\n",
      "Currently running: na= 9, nb= 6\n",
      "Using 3000 datapoints for training set\n",
      "NRMS for validation is: pred= 0.7366755496832902, sim= 7.129440270046714\n",
      "BEST NRMS currently is: na= 9, nb= 6\n",
      "Currently running: na= 9, nb= 7\n",
      "Using 3000 datapoints for training set\n",
      "NRMS for validation is: pred= 0.7554317769974834, sim= 7.975752366553233\n",
      "BEST NRMS currently is: na= 9, nb= 7\n",
      "Currently running: na= 9, nb= 8\n",
      "Using 3000 datapoints for training set\n",
      "NRMS for validation is: pred= 0.7738235330999506, sim= 8.651788638434544\n",
      "BEST NRMS currently is: na= 9, nb= 8\n",
      "Currently running: na= 9, nb= 9\n",
      "Using 3000 datapoints for training set\n",
      "NRMS for validation is: pred= 0.7955669995543257, sim= 10.114824617896566\n",
      "BEST NRMS currently is: na= 9, nb= 9\n",
      "Currently running: na= 10, nb= 2\n",
      "Using 3000 datapoints for training set\n",
      "NRMS for validation is: pred= 0.7224040113063767, sim= 8.042310741323693\n",
      "BEST NRMS currently is: na= 10, nb= 2\n",
      "Currently running: na= 10, nb= 3\n",
      "Using 3000 datapoints for training set\n",
      "NRMS for validation is: pred= 0.7014006140535202, sim= 6.921376948342033\n",
      "BEST NRMS currently is: na= 10, nb= 3\n",
      "Currently running: na= 10, nb= 4\n",
      "Using 3000 datapoints for training set\n",
      "NRMS for validation is: pred= 0.7005974896715793, sim= 7.593710988688794\n",
      "BEST NRMS currently is: na= 10, nb= 4\n",
      "Currently running: na= 10, nb= 5\n",
      "Using 3000 datapoints for training set\n",
      "NRMS for validation is: pred= 0.7274271668280557, sim= 7.321798668390102\n",
      "BEST NRMS currently is: na= 10, nb= 5\n",
      "Currently running: na= 10, nb= 6\n",
      "Using 3000 datapoints for training set\n",
      "NRMS for validation is: pred= 0.7421344806890507, sim= 7.252245326928477\n",
      "BEST NRMS currently is: na= 10, nb= 6\n",
      "Currently running: na= 10, nb= 7\n",
      "Using 3000 datapoints for training set\n",
      "NRMS for validation is: pred= 0.7612900006368748, sim= 7.868429918949728\n",
      "BEST NRMS currently is: na= 10, nb= 7\n",
      "Currently running: na= 10, nb= 8\n",
      "Using 3000 datapoints for training set\n",
      "NRMS for validation is: pred= 0.7728406476006422, sim= 8.275585233106177\n",
      "BEST NRMS currently is: na= 10, nb= 8\n",
      "Currently running: na= 10, nb= 9\n",
      "Using 3000 datapoints for training set\n",
      "NRMS for validation is: pred= 0.7849137372810302, sim= 9.159275952421057\n",
      "BEST NRMS currently is: na= 10, nb= 9\n"
     ]
    }
   ],
   "source": [
    "for i, n_a in enumerate(na_list):\n",
    "    for j, n_b in enumerate(nb_list):\n",
    "        \n",
    "        print(f\"Currently running: na= {n_a}, nb= {n_b}\")\n",
    "        \n",
    "        #Construct NARX data\n",
    "        Xtrain_NARX,Ytrain_NARX = load_narx_data(n_a, n_b, total_number_of_points, section=\"train\", split=Split, as_tensor=False)\n",
    "        Xval_NARX,Yval_NARX = load_narx_data(n_a, n_b, total_number_of_points, section=\"validation\", split=Split, as_tensor=False)\n",
    "        \n",
    "\n",
    "        #Convert to sparce matrices\n",
    "        XtrainSparse = csr_matrix(Xtrain_NARX).toarray()\n",
    "        YtrainSparse = csr_matrix(Ytrain_NARX).toarray().transpose()\n",
    "\n",
    "        #Fit the GP\n",
    "        reg.fit(XtrainSparse, YtrainSparse)\n",
    "        \n",
    "        #Initialize parameters for simulation\n",
    "        fmodel = lambda u,y: reg.predict(np.concatenate([u,y])[None,:])[0] \n",
    "        \n",
    "        #Prediction on validation set\n",
    "        Yval_pred, Yval_pred_std = reg.predict(Xval_NARX,return_std=True)\n",
    "        \n",
    "        #Simulation on validation set\n",
    "        Yval_sim = use_NARX_model_in_simulation(Xval, fmodel, n_a, n_b)\n",
    "        \n",
    "        \n",
    "        #Store results\n",
    "        val_pred_NRMSs[i,j] = calculate_error_nrms(Yval_pred, Yval_NARX)\n",
    "        val_sim_NRMSs[i,j] = calculate_error_nrms(Yval_sim, Yval)\n",
    "\n",
    "        print(f\"NRMS for validation is: pred= {val_pred_NRMSs[i,j]:.2f}, sim= {val_sim_NRMSs[i,j]:.2f}\")\n",
    "\n",
    "        if val_sim_NRMSs[i,j] < bestNRMSsim:\n",
    "            bestNRMSsim = val_sim_NRMSs[i,j]\n",
    "            print(f\"BEST NRMS currently is: na= {n_a}, nb= {n_b}\")"
   ]
  },
  {
   "attachments": {},
   "cell_type": "markdown",
   "id": "93dc64c3",
   "metadata": {},
   "source": [
    "# Validation data"
   ]
  },
  {
   "cell_type": "code",
   "execution_count": 7,
   "id": "67785fff",
   "metadata": {},
   "outputs": [
    {
     "name": "stderr",
     "output_type": "stream",
     "text": [
      "c:\\Users\\20191695\\Desktop\\TUe\\Master\\Year1\\Q4\\5SC28\\5SC28\\util_fun.py:47: UserWarning: FixedFormatter should only be used together with FixedLocator\n",
      "  ax1.set_yticklabels([0]+na_list)\n",
      "c:\\Users\\20191695\\Desktop\\TUe\\Master\\Year1\\Q4\\5SC28\\5SC28\\util_fun.py:49: UserWarning: FixedFormatter should only be used together with FixedLocator\n",
      "  ax2.set_yticklabels([0]+na_list)\n"
     ]
    },
    {
     "name": "stdout",
     "output_type": "stream",
     "text": [
      "Best parameters by prediction NRMS: na= 8, nb= 3\n",
      "Best parameters by simulation NRMS: na= 6, nb= 3\n"
     ]
    },
    {
     "data": {
      "image/png": "[encoded data removed]",
      "text/plain": [
       "<Figure size 1500x500 with 2 Axes>"
      ]
     },
     "metadata": {},
     "output_type": "display_data"
    }
   ],
   "source": [
    "best_na_nb_val_pred, best_na_nb_val_sim = plot_NRMS_Pred_vs_Sim(val_pred_NRMSs, val_sim_NRMSs, na_list, nb_list)"
   ]
  },
  {
   "cell_type": "code",
   "execution_count": 8,
   "id": "ccf6d809",
   "metadata": {},
   "outputs": [
    {
     "name": "stdout",
     "output_type": "stream",
     "text": [
      "Best val prediction NRMS found: 0.6929288709239905\n",
      "Best val simulation NRMS found: 6.257302430383503\n"
     ]
    }
   ],
   "source": [
    "print(f\"Best val prediction NRMS found: {val_pred_NRMSs.min()}\")\n",
    "print(f\"Best val simulation NRMS found: {val_sim_NRMSs.min()}\")"
   ]
  },
  {
   "attachments": {},
   "cell_type": "markdown",
   "id": "aa1c7682",
   "metadata": {},
   "source": [
    "## Find the test NRMS for the test dataset"
   ]
  },
  {
   "cell_type": "code",
   "execution_count": 21,
   "id": "d0215837",
   "metadata": {},
   "outputs": [
    {
     "name": "stdout",
     "output_type": "stream",
     "text": [
      "Using 3000 datapoints for training set\n",
      "Using 3000 datapoints for training set\n"
     ]
    }
   ],
   "source": [
    "n_a, n_b = 6,3\n",
    "total_number_of_points = 5000\n",
    "\n",
    "# Load normal data\n",
    "Xtrain,Ytrain = load_data(section=\"train\", split=Split, total_number_of_points=total_number_of_points, as_tensor=False)\n",
    "Xval,Yval = load_data(section=\"validation\", split=Split, total_number_of_points=total_number_of_points, as_tensor=False)\n",
    "Xtest,Ytest = load_data(section=\"test\", split=Split, total_number_of_points=total_number_of_points, as_tensor=False)\n",
    "\n",
    "#Construct NARX data\n",
    "Xtrain_NARX,Ytrain_NARX = load_narx_data(n_a, n_b, total_number_of_points, section=\"train\", split=Split, as_tensor=False)\n",
    "Xval_NARX,Yval_NARX = load_narx_data(n_a, n_b, total_number_of_points, section=\"validation\", split=Split, as_tensor=False)\n",
    "Xtest_NARX,Ytest_NARX = load_narx_data(n_a, n_b, total_number_of_points, section=\"test\", split=Split, as_tensor=False)\n",
    "\n",
    "#Convert to sparce matrices\n",
    "XtrainSparse = csr_matrix(Xtrain_NARX).toarray()\n",
    "YtrainSparse = csr_matrix(Ytrain_NARX).toarray().transpose()\n",
    "\n",
    "#Fit the GP\n",
    "reg.fit(XtrainSparse, YtrainSparse)\n",
    "\n",
    "#Initialize parameters for simulation\n",
    "fmodel = lambda u,y: reg.predict(np.concatenate([u,y])[None,:])[0] \n",
    "\n",
    "#Prediction on training set\n",
    "Ytrain_pred, Ytrain_pred_std = reg.predict(Xtrain_NARX,return_std=True)\n",
    "#Simulation on training set\n",
    "Ytrain_sim = use_NARX_model_in_simulation(Xtrain, fmodel, n_a, n_b)\n",
    "\n",
    "#Prediction on validation set\n",
    "Yval_pred, Yval_pred_std = reg.predict(Xval_NARX,return_std=True)\n",
    "#Simulation on validation set\n",
    "Yval_sim = use_NARX_model_in_simulation(Xval, fmodel, n_a, n_b)\n",
    "\n",
    "#Prediction on test set\n",
    "Ytest_pred, Ytest_pred_std = reg.predict(Xtest_NARX,return_std=True)\n",
    "#Simulation on test set\n",
    "Ytest_sim = use_NARX_model_in_simulation(Xtest, fmodel, n_a, n_b)\n"
   ]
  },
  {
   "cell_type": "code",
   "execution_count": 22,
   "id": "d2199543",
   "metadata": {},
   "outputs": [
    {
     "name": "stdout",
     "output_type": "stream",
     "text": [
      "Train prediction NRMS: 0.74 %\n",
      "Train simulation NRMS: 5.82 %\n",
      "Validation prediction NRMS: 0.70 %\n",
      "Validation simulation NRMS: 6.26 %\n",
      "Test prediction NRMS: 0.78 %\n",
      "Test simulation NRMS: 20.42 %\n"
     ]
    }
   ],
   "source": [
    "NRMS_train_pred = calculate_error_nrms(Ytrain_pred, Ytrain_NARX)\n",
    "print(f'Train prediction NRMS: {NRMS_train_pred:.2f} %')\n",
    "\n",
    "NRMS_train_sim = calculate_error_nrms(Ytrain_sim, Ytrain)\n",
    "print(f'Train simulation NRMS: {NRMS_train_sim:.2f} %')\n",
    "\n",
    "NRMS_val_pred = calculate_error_nrms(Yval_pred, Yval_NARX)\n",
    "print(f'Validation prediction NRMS: {NRMS_val_pred:.2f} %')\n",
    "\n",
    "NRMS_val_sim = calculate_error_nrms(Yval_sim, Yval)\n",
    "print(f'Validation simulation NRMS: {NRMS_val_sim:.2f} %')\n",
    "\n",
    "NRMS_test_pred = calculate_error_nrms(Ytest_pred, Ytest_NARX)\n",
    "print(f'Test prediction NRMS: {NRMS_test_pred:.2f} %')\n",
    "\n",
    "NRMS_test_sim = calculate_error_nrms(Ytest_sim, Ytest)\n",
    "print(f'Test simulation NRMS: {NRMS_test_sim:.2f} %')"
   ]
  },
  {
   "cell_type": "code",
   "execution_count": 23,
   "id": "39aa7f90",
   "metadata": {},
   "outputs": [
    {
     "data": {
      "text/html": [
       "<div>\n",
       "<style scoped>\n",
       "    .dataframe tbody tr th:only-of-type {\n",
       "        vertical-align: middle;\n",
       "    }\n",
       "\n",
       "    .dataframe tbody tr th {\n",
       "        vertical-align: top;\n",
       "    }\n",
       "\n",
       "    .dataframe thead th {\n",
       "        text-align: right;\n",
       "    }\n",
       "</style>\n",
       "<table border=\"1\" class=\"dataframe\">\n",
       "  <thead>\n",
       "    <tr style=\"text-align: right;\">\n",
       "      <th></th>\n",
       "      <th>Prediction</th>\n",
       "      <th>Simulation</th>\n",
       "    </tr>\n",
       "  </thead>\n",
       "  <tbody>\n",
       "    <tr>\n",
       "      <th>Train</th>\n",
       "      <td>0.74</td>\n",
       "      <td>5.82</td>\n",
       "    </tr>\n",
       "    <tr>\n",
       "      <th>Validation</th>\n",
       "      <td>0.70</td>\n",
       "      <td>6.26</td>\n",
       "    </tr>\n",
       "    <tr>\n",
       "      <th>Test</th>\n",
       "      <td>0.78</td>\n",
       "      <td>20.42</td>\n",
       "    </tr>\n",
       "  </tbody>\n",
       "</table>\n",
       "</div>"
      ],
      "text/plain": [
       "            Prediction  Simulation\n",
       "Train             0.74        5.82\n",
       "Validation        0.70        6.26\n",
       "Test              0.78       20.42"
      ]
     },
     "metadata": {},
     "output_type": "display_data"
    }
   ],
   "source": [
    "data = {\n",
    "    'Prediction': [NRMS_train_pred, NRMS_val_pred, NRMS_test_pred],\n",
    "    'Simulation': [NRMS_train_sim, NRMS_val_sim, NRMS_test_sim]\n",
    "}\n",
    "    \n",
    "index = ['Train', 'Validation', 'Test']\n",
    "\n",
    "df = pd.DataFrame(data, index=index)\n",
    "\n",
    "df = df.round(2)\n",
    "\n",
    "display(df)\n"
   ]
  }
 ],
 "metadata": {
  "kernelspec": {
   "display_name": "Python 3 (ipykernel)",
   "language": "python",
   "name": "python3"
  },
  "language_info": {
   "codemirror_mode": {
    "name": "ipython",
    "version": 3
   },
   "file_extension": ".py",
   "mimetype": "text/x-python",
   "name": "python",
   "nbconvert_exporter": "python",
   "pygments_lexer": "ipython3",
   "version": "3.8.16"
  }
 },
 "nbformat": 4,
 "nbformat_minor": 5
}
