{
 "cells": [
  {
   "cell_type": "code",
   "execution_count": 1,
   "metadata": {},
   "outputs": [
    {
     "name": "stdout",
     "output_type": "stream",
     "text": [
      "Considering 6000 datapoints\n",
      "Using 3600 datapoints for training set\n",
      "Considering 6000 datapoints\n",
      "Using 1200 datapoints for validation set\n",
      "Considering 6000 datapoints\n",
      "Using 1200 datapoints for test set\n"
     ]
    }
   ],
   "source": [
    "import GPy\n",
    "from matplotlib import pyplot as plt\n",
    "from data import load_data, load_narx_data\n",
    "from matplotlib import pyplot as plt\n",
    "import numpy as np\n",
    "import torch\n",
    "from data import load_narx_data\n",
    "from sklearn.gaussian_process import GaussianProcessRegressor\n",
    "from sklearn.gaussian_process.kernels import RBF, WhiteKernel, ExpSineSquared, Matern, Product\n",
    "\n",
    "n_a, n_b = 2, 2\n",
    "Split = [0.6, 0.2, 0.2] # split; [training, validation, test]\n",
    "total_number_of_points = 6000 # total number of points to consider from the larger dataset (starting from index 0)\n",
    "\n",
    "\n",
    "Xtrain,Ytrain = load_narx_data(n_a, n_b, total_number_of_points, section=\"train\", split=Split, as_tensor=True)\n",
    "Xval,Yval = load_narx_data(n_a, n_b, total_number_of_points, section=\"validation\", split=Split, as_tensor=True)\n",
    "Xtest,Ytest = load_narx_data(n_a, n_b, total_number_of_points, section=\"test\", split=Split, as_tensor=True)"
   ]
  },
  {
   "cell_type": "code",
   "execution_count": 13,
   "metadata": {},
   "outputs": [
    {
     "name": "stdout",
     "output_type": "stream",
     "text": [
      "torch.Size([3598, 4])\n"
     ]
    },
    {
     "ename": "RuntimeError",
     "evalue": "shape '[-1, 4]' is invalid for input of size 3598",
     "output_type": "error",
     "traceback": [
      "\u001b[1;31m---------------------------------------------------------------------------\u001b[0m",
      "\u001b[1;31mRuntimeError\u001b[0m                              Traceback (most recent call last)",
      "Cell \u001b[1;32mIn[13], line 2\u001b[0m\n\u001b[0;32m      1\u001b[0m \u001b[39mprint\u001b[39m(Xtrain\u001b[39m.\u001b[39mshape)\n\u001b[1;32m----> 2\u001b[0m Ytrain \u001b[39m=\u001b[39m Ytrain\u001b[39m.\u001b[39;49mreshape((\u001b[39m-\u001b[39;49m\u001b[39m1\u001b[39;49m, \u001b[39m4\u001b[39;49m))\n\u001b[0;32m      3\u001b[0m \u001b[39mprint\u001b[39m(Ytrain\u001b[39m.\u001b[39mshape)\n\u001b[0;32m      5\u001b[0m \u001b[39m# Create a kernel\u001b[39;00m\n",
      "\u001b[1;31mRuntimeError\u001b[0m: shape '[-1, 4]' is invalid for input of size 3598"
     ]
    }
   ],
   "source": [
    "print(Xtrain.shape)\n",
    "Ytrain = Ytrain.reshape((-1, 4))\n",
    "print(Ytrain.shape)\n",
    "\n",
    "# Create a kernel\n",
    "kernel = GPy.kern.RBF(input_dim=1)  # Adjust input_dim according to your data dimension\n",
    "\n",
    "# Create a sparse GP model\n",
    "num_inducing = 100  # Number of inducing points\n",
    "reg = GPy.models.SparseGPRegression(Xtrain.numpy(), Ytrain[:,None], kernel=kernel, num_inducing=num_inducing)\n",
    "\n",
    "# Optimize the model\n",
    "reg.optimize(messages=True)\n",
    "\n",
    "# # Make predictions\n",
    "# X_test = ...  # Test input data\n",
    "# Y_pred, Y_var = reg.predict(X_test)\n"
   ]
  }
 ],
 "metadata": {
  "kernelspec": {
   "display_name": "ml4sc",
   "language": "python",
   "name": "python3"
  },
  "language_info": {
   "codemirror_mode": {
    "name": "ipython",
    "version": 3
   },
   "file_extension": ".py",
   "mimetype": "text/x-python",
   "name": "python",
   "nbconvert_exporter": "python",
   "pygments_lexer": "ipython3",
   "version": "3.8.16"
  },
  "orig_nbformat": 4
 },
 "nbformat": 4,
 "nbformat_minor": 2
}
