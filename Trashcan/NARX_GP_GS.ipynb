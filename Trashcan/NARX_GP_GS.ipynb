{
 "cells": [
  {
   "attachments": {},
   "cell_type": "markdown",
   "id": "4d7fdd8c",
   "metadata": {},
   "source": [
    "# NARX GP Grid Search"
   ]
  },
  {
   "cell_type": "code",
   "execution_count": 1,
   "id": "62974d8c",
   "metadata": {},
   "outputs": [],
   "source": [
    "import pandas as pd\n",
    "import numpy as np\n",
    "import torch\n",
    "from torch import nn\n",
    "from matplotlib import pyplot as plt\n",
    "\n",
    "from sklearn.gaussian_process import GaussianProcessRegressor\n",
    "from sklearn.gaussian_process.kernels import RBF, WhiteKernel, RationalQuadratic, Product\n",
    "\n",
    "from scipy.sparse import csr_matrix\n",
    "\n",
    "from data import load_narx_data, load_data"
   ]
  },
  {
   "cell_type": "code",
   "execution_count": 2,
   "id": "48f3753b",
   "metadata": {},
   "outputs": [],
   "source": [
    "# Some usefull functions\n",
    "def NRMS(Yp, Yr):\n",
    "    NRMS = np.mean((Yp-Yr)**2)**0.5/np.std(Yr)\n",
    "    return NRMS\n",
    "\n",
    "def use_NARX_model_in_simulation(ulist, f, na, nb):\n",
    "    #init upast and ypast as lists.\n",
    "    upast = [0]*nb \n",
    "    ypast = [0]*na \n",
    "    \n",
    "    ylist = []\n",
    "    for unow in ulist:\n",
    "        #compute the current y given by f\n",
    "        ynow = f(upast,ypast) \n",
    "        \n",
    "        #update past arrays\n",
    "        upast.append(unow)\n",
    "        upast.pop(0)\n",
    "        ypast.append(ynow)\n",
    "        ypast.pop(0)\n",
    "        \n",
    "        #save result\n",
    "        ylist.append(ynow)\n",
    "    return np.array(ylist) #return result"
   ]
  },
  {
   "cell_type": "code",
   "execution_count": 3,
   "id": "97c09dc3",
   "metadata": {},
   "outputs": [],
   "source": [
    "# Initialize stationary parameters\n",
    "\n",
    "Split = [0.6, 0.2, 0.2] # split; [training, validation, test]\n",
    "total_number_of_points = 1668 # total number of points to consider from the larger dataset (starting from index 0)\n",
    "\n",
    "na_list=[*range(2,11)]\n",
    "nb_list=[*range(2,11)]\n",
    "\n",
    "kernel = RationalQuadratic() + WhiteKernel()\n",
    "reg = GaussianProcessRegressor(kernel, n_restarts_optimizer=5)\n",
    "\n",
    "val_pred_NRMSs=np.ndarray((len(na_list),len(nb_list)))\n",
    "val_sim_NRMSs=np.ndarray((len(na_list),len(nb_list)))\n",
    "test_pred_NRMSs=np.ndarray((len(na_list),len(nb_list)))\n",
    "test_sim_NRMSs=np.ndarray((len(na_list),len(nb_list)))"
   ]
  },
  {
   "cell_type": "code",
   "execution_count": 4,
   "id": "7853ccc2",
   "metadata": {},
   "outputs": [
    {
     "name": "stdout",
     "output_type": "stream",
     "text": [
      "Using 1000 datapoints for training set\n"
     ]
    }
   ],
   "source": [
    "#Load normal data\n",
    "Xtrain,Ytrain = load_data(section=\"train\", split=Split, total_number_of_points=total_number_of_points, as_tensor=False)\n",
    "Xval,Yval = load_data(section=\"validation\", split=Split, total_number_of_points=total_number_of_points, as_tensor=False)\n",
    "Xtest,Ytest = load_data(section=\"test\", split=Split, total_number_of_points=total_number_of_points, as_tensor=False)"
   ]
  },
  {
   "cell_type": "code",
   "execution_count": 5,
   "id": "e114a545",
   "metadata": {},
   "outputs": [
    {
     "name": "stdout",
     "output_type": "stream",
     "text": [
      "Currently running: na= 2, nb= 2\n",
      "Using 1000 datapoints for training set\n"
     ]
    },
    {
     "name": "stderr",
     "output_type": "stream",
     "text": [
      "c:\\Users\\20191695\\Anaconda3\\envs\\ml4sc\\lib\\site-packages\\sklearn\\gaussian_process\\_gpr.py:629: ConvergenceWarning: lbfgs failed to converge (status=2):\n",
      "ABNORMAL_TERMINATION_IN_LNSRCH.\n",
      "\n",
      "Increase the number of iterations (max_iter) or scale the data as shown in:\n",
      "    https://scikit-learn.org/stable/modules/preprocessing.html\n",
      "  _check_optimize_result(\"lbfgs\", opt_res)\n"
     ]
    },
    {
     "name": "stdout",
     "output_type": "stream",
     "text": [
      "Currently running: na= 2, nb= 3\n",
      "Using 1000 datapoints for training set\n",
      "Currently running: na= 2, nb= 4\n",
      "Using 1000 datapoints for training set\n",
      "Currently running: na= 2, nb= 5\n",
      "Using 1000 datapoints for training set\n"
     ]
    },
    {
     "name": "stderr",
     "output_type": "stream",
     "text": [
      "c:\\Users\\20191695\\Anaconda3\\envs\\ml4sc\\lib\\site-packages\\sklearn\\gaussian_process\\_gpr.py:629: ConvergenceWarning: lbfgs failed to converge (status=2):\n",
      "ABNORMAL_TERMINATION_IN_LNSRCH.\n",
      "\n",
      "Increase the number of iterations (max_iter) or scale the data as shown in:\n",
      "    https://scikit-learn.org/stable/modules/preprocessing.html\n",
      "  _check_optimize_result(\"lbfgs\", opt_res)\n"
     ]
    },
    {
     "name": "stdout",
     "output_type": "stream",
     "text": [
      "Currently running: na= 2, nb= 6\n",
      "Using 1000 datapoints for training set\n",
      "Currently running: na= 2, nb= 7\n",
      "Using 1000 datapoints for training set\n"
     ]
    },
    {
     "name": "stderr",
     "output_type": "stream",
     "text": [
      "c:\\Users\\20191695\\Anaconda3\\envs\\ml4sc\\lib\\site-packages\\sklearn\\gaussian_process\\_gpr.py:629: ConvergenceWarning: lbfgs failed to converge (status=2):\n",
      "ABNORMAL_TERMINATION_IN_LNSRCH.\n",
      "\n",
      "Increase the number of iterations (max_iter) or scale the data as shown in:\n",
      "    https://scikit-learn.org/stable/modules/preprocessing.html\n",
      "  _check_optimize_result(\"lbfgs\", opt_res)\n"
     ]
    },
    {
     "name": "stdout",
     "output_type": "stream",
     "text": [
      "Currently running: na= 2, nb= 8\n",
      "Using 1000 datapoints for training set\n"
     ]
    },
    {
     "name": "stderr",
     "output_type": "stream",
     "text": [
      "c:\\Users\\20191695\\Anaconda3\\envs\\ml4sc\\lib\\site-packages\\sklearn\\gaussian_process\\_gpr.py:629: ConvergenceWarning: lbfgs failed to converge (status=2):\n",
      "ABNORMAL_TERMINATION_IN_LNSRCH.\n",
      "\n",
      "Increase the number of iterations (max_iter) or scale the data as shown in:\n",
      "    https://scikit-learn.org/stable/modules/preprocessing.html\n",
      "  _check_optimize_result(\"lbfgs\", opt_res)\n"
     ]
    },
    {
     "name": "stdout",
     "output_type": "stream",
     "text": [
      "Currently running: na= 2, nb= 9\n",
      "Using 1000 datapoints for training set\n"
     ]
    },
    {
     "name": "stderr",
     "output_type": "stream",
     "text": [
      "c:\\Users\\20191695\\Anaconda3\\envs\\ml4sc\\lib\\site-packages\\sklearn\\gaussian_process\\_gpr.py:629: ConvergenceWarning: lbfgs failed to converge (status=2):\n",
      "ABNORMAL_TERMINATION_IN_LNSRCH.\n",
      "\n",
      "Increase the number of iterations (max_iter) or scale the data as shown in:\n",
      "    https://scikit-learn.org/stable/modules/preprocessing.html\n",
      "  _check_optimize_result(\"lbfgs\", opt_res)\n",
      "c:\\Users\\20191695\\Anaconda3\\envs\\ml4sc\\lib\\site-packages\\sklearn\\gaussian_process\\kernels.py:430: ConvergenceWarning: The optimal value found for dimension 0 of parameter k1__alpha is close to the specified upper bound 100000.0. Increasing the bound and calling fit again may find a better value.\n",
      "  warnings.warn(\n"
     ]
    },
    {
     "name": "stdout",
     "output_type": "stream",
     "text": [
      "Currently running: na= 2, nb= 10\n",
      "Using 1000 datapoints for training set\n"
     ]
    },
    {
     "name": "stderr",
     "output_type": "stream",
     "text": [
      "c:\\Users\\20191695\\Anaconda3\\envs\\ml4sc\\lib\\site-packages\\sklearn\\gaussian_process\\_gpr.py:629: ConvergenceWarning: lbfgs failed to converge (status=2):\n",
      "ABNORMAL_TERMINATION_IN_LNSRCH.\n",
      "\n",
      "Increase the number of iterations (max_iter) or scale the data as shown in:\n",
      "    https://scikit-learn.org/stable/modules/preprocessing.html\n",
      "  _check_optimize_result(\"lbfgs\", opt_res)\n",
      "c:\\Users\\20191695\\Anaconda3\\envs\\ml4sc\\lib\\site-packages\\sklearn\\gaussian_process\\kernels.py:430: ConvergenceWarning: The optimal value found for dimension 0 of parameter k1__alpha is close to the specified upper bound 100000.0. Increasing the bound and calling fit again may find a better value.\n",
      "  warnings.warn(\n"
     ]
    },
    {
     "name": "stdout",
     "output_type": "stream",
     "text": [
      "Currently running: na= 3, nb= 2\n",
      "Using 1000 datapoints for training set\n"
     ]
    },
    {
     "name": "stderr",
     "output_type": "stream",
     "text": [
      "c:\\Users\\20191695\\Anaconda3\\envs\\ml4sc\\lib\\site-packages\\sklearn\\gaussian_process\\_gpr.py:629: ConvergenceWarning: lbfgs failed to converge (status=2):\n",
      "ABNORMAL_TERMINATION_IN_LNSRCH.\n",
      "\n",
      "Increase the number of iterations (max_iter) or scale the data as shown in:\n",
      "    https://scikit-learn.org/stable/modules/preprocessing.html\n",
      "  _check_optimize_result(\"lbfgs\", opt_res)\n",
      "c:\\Users\\20191695\\Anaconda3\\envs\\ml4sc\\lib\\site-packages\\sklearn\\gaussian_process\\kernels.py:430: ConvergenceWarning: The optimal value found for dimension 0 of parameter k1__alpha is close to the specified upper bound 100000.0. Increasing the bound and calling fit again may find a better value.\n",
      "  warnings.warn(\n"
     ]
    },
    {
     "name": "stdout",
     "output_type": "stream",
     "text": [
      "Currently running: na= 3, nb= 3\n",
      "Using 1000 datapoints for training set\n"
     ]
    },
    {
     "name": "stderr",
     "output_type": "stream",
     "text": [
      "c:\\Users\\20191695\\Anaconda3\\envs\\ml4sc\\lib\\site-packages\\sklearn\\gaussian_process\\_gpr.py:629: ConvergenceWarning: lbfgs failed to converge (status=2):\n",
      "ABNORMAL_TERMINATION_IN_LNSRCH.\n",
      "\n",
      "Increase the number of iterations (max_iter) or scale the data as shown in:\n",
      "    https://scikit-learn.org/stable/modules/preprocessing.html\n",
      "  _check_optimize_result(\"lbfgs\", opt_res)\n"
     ]
    },
    {
     "name": "stdout",
     "output_type": "stream",
     "text": [
      "Currently running: na= 3, nb= 4\n",
      "Using 1000 datapoints for training set\n",
      "Currently running: na= 3, nb= 5\n",
      "Using 1000 datapoints for training set\n",
      "Currently running: na= 3, nb= 6\n",
      "Using 1000 datapoints for training set\n"
     ]
    },
    {
     "name": "stderr",
     "output_type": "stream",
     "text": [
      "c:\\Users\\20191695\\Anaconda3\\envs\\ml4sc\\lib\\site-packages\\sklearn\\gaussian_process\\_gpr.py:629: ConvergenceWarning: lbfgs failed to converge (status=2):\n",
      "ABNORMAL_TERMINATION_IN_LNSRCH.\n",
      "\n",
      "Increase the number of iterations (max_iter) or scale the data as shown in:\n",
      "    https://scikit-learn.org/stable/modules/preprocessing.html\n",
      "  _check_optimize_result(\"lbfgs\", opt_res)\n"
     ]
    },
    {
     "name": "stdout",
     "output_type": "stream",
     "text": [
      "Currently running: na= 3, nb= 7\n",
      "Using 1000 datapoints for training set\n"
     ]
    },
    {
     "name": "stderr",
     "output_type": "stream",
     "text": [
      "c:\\Users\\20191695\\Anaconda3\\envs\\ml4sc\\lib\\site-packages\\sklearn\\gaussian_process\\_gpr.py:629: ConvergenceWarning: lbfgs failed to converge (status=2):\n",
      "ABNORMAL_TERMINATION_IN_LNSRCH.\n",
      "\n",
      "Increase the number of iterations (max_iter) or scale the data as shown in:\n",
      "    https://scikit-learn.org/stable/modules/preprocessing.html\n",
      "  _check_optimize_result(\"lbfgs\", opt_res)\n"
     ]
    },
    {
     "name": "stdout",
     "output_type": "stream",
     "text": [
      "Currently running: na= 3, nb= 8\n",
      "Using 1000 datapoints for training set\n",
      "Currently running: na= 3, nb= 9\n",
      "Using 1000 datapoints for training set\n",
      "Currently running: na= 3, nb= 10\n",
      "Using 1000 datapoints for training set\n",
      "Currently running: na= 4, nb= 2\n",
      "Using 1000 datapoints for training set\n",
      "Currently running: na= 4, nb= 3\n",
      "Using 1000 datapoints for training set\n"
     ]
    },
    {
     "name": "stderr",
     "output_type": "stream",
     "text": [
      "c:\\Users\\20191695\\Anaconda3\\envs\\ml4sc\\lib\\site-packages\\sklearn\\gaussian_process\\kernels.py:420: ConvergenceWarning: The optimal value found for dimension 0 of parameter k2__noise_level is close to the specified lower bound 1e-05. Decreasing the bound and calling fit again may find a better value.\n",
      "  warnings.warn(\n"
     ]
    },
    {
     "name": "stdout",
     "output_type": "stream",
     "text": [
      "Currently running: na= 4, nb= 4\n",
      "Using 1000 datapoints for training set\n"
     ]
    },
    {
     "name": "stderr",
     "output_type": "stream",
     "text": [
      "c:\\Users\\20191695\\Anaconda3\\envs\\ml4sc\\lib\\site-packages\\sklearn\\gaussian_process\\kernels.py:420: ConvergenceWarning: The optimal value found for dimension 0 of parameter k2__noise_level is close to the specified lower bound 1e-05. Decreasing the bound and calling fit again may find a better value.\n",
      "  warnings.warn(\n"
     ]
    },
    {
     "name": "stdout",
     "output_type": "stream",
     "text": [
      "Currently running: na= 4, nb= 5\n",
      "Using 1000 datapoints for training set\n"
     ]
    },
    {
     "name": "stderr",
     "output_type": "stream",
     "text": [
      "c:\\Users\\20191695\\Anaconda3\\envs\\ml4sc\\lib\\site-packages\\sklearn\\gaussian_process\\kernels.py:420: ConvergenceWarning: The optimal value found for dimension 0 of parameter k2__noise_level is close to the specified lower bound 1e-05. Decreasing the bound and calling fit again may find a better value.\n",
      "  warnings.warn(\n"
     ]
    },
    {
     "name": "stdout",
     "output_type": "stream",
     "text": [
      "Currently running: na= 4, nb= 6\n",
      "Using 1000 datapoints for training set\n"
     ]
    },
    {
     "name": "stderr",
     "output_type": "stream",
     "text": [
      "c:\\Users\\20191695\\Anaconda3\\envs\\ml4sc\\lib\\site-packages\\sklearn\\gaussian_process\\_gpr.py:629: ConvergenceWarning: lbfgs failed to converge (status=2):\n",
      "ABNORMAL_TERMINATION_IN_LNSRCH.\n",
      "\n",
      "Increase the number of iterations (max_iter) or scale the data as shown in:\n",
      "    https://scikit-learn.org/stable/modules/preprocessing.html\n",
      "  _check_optimize_result(\"lbfgs\", opt_res)\n",
      "c:\\Users\\20191695\\Anaconda3\\envs\\ml4sc\\lib\\site-packages\\sklearn\\gaussian_process\\kernels.py:420: ConvergenceWarning: The optimal value found for dimension 0 of parameter k2__noise_level is close to the specified lower bound 1e-05. Decreasing the bound and calling fit again may find a better value.\n",
      "  warnings.warn(\n"
     ]
    },
    {
     "name": "stdout",
     "output_type": "stream",
     "text": [
      "Currently running: na= 4, nb= 7\n",
      "Using 1000 datapoints for training set\n",
      "Currently running: na= 4, nb= 8\n",
      "Using 1000 datapoints for training set\n",
      "Currently running: na= 4, nb= 9\n",
      "Using 1000 datapoints for training set\n",
      "Currently running: na= 4, nb= 10\n",
      "Using 1000 datapoints for training set\n"
     ]
    },
    {
     "name": "stderr",
     "output_type": "stream",
     "text": [
      "c:\\Users\\20191695\\Anaconda3\\envs\\ml4sc\\lib\\site-packages\\sklearn\\gaussian_process\\_gpr.py:629: ConvergenceWarning: lbfgs failed to converge (status=2):\n",
      "ABNORMAL_TERMINATION_IN_LNSRCH.\n",
      "\n",
      "Increase the number of iterations (max_iter) or scale the data as shown in:\n",
      "    https://scikit-learn.org/stable/modules/preprocessing.html\n",
      "  _check_optimize_result(\"lbfgs\", opt_res)\n"
     ]
    },
    {
     "name": "stdout",
     "output_type": "stream",
     "text": [
      "Currently running: na= 5, nb= 2\n",
      "Using 1000 datapoints for training set\n"
     ]
    },
    {
     "name": "stderr",
     "output_type": "stream",
     "text": [
      "c:\\Users\\20191695\\Anaconda3\\envs\\ml4sc\\lib\\site-packages\\sklearn\\gaussian_process\\kernels.py:420: ConvergenceWarning: The optimal value found for dimension 0 of parameter k2__noise_level is close to the specified lower bound 1e-05. Decreasing the bound and calling fit again may find a better value.\n",
      "  warnings.warn(\n"
     ]
    },
    {
     "name": "stdout",
     "output_type": "stream",
     "text": [
      "Currently running: na= 5, nb= 3\n",
      "Using 1000 datapoints for training set\n"
     ]
    },
    {
     "name": "stderr",
     "output_type": "stream",
     "text": [
      "c:\\Users\\20191695\\Anaconda3\\envs\\ml4sc\\lib\\site-packages\\sklearn\\gaussian_process\\kernels.py:420: ConvergenceWarning: The optimal value found for dimension 0 of parameter k2__noise_level is close to the specified lower bound 1e-05. Decreasing the bound and calling fit again may find a better value.\n",
      "  warnings.warn(\n"
     ]
    },
    {
     "name": "stdout",
     "output_type": "stream",
     "text": [
      "Currently running: na= 5, nb= 4\n",
      "Using 1000 datapoints for training set\n"
     ]
    },
    {
     "name": "stderr",
     "output_type": "stream",
     "text": [
      "c:\\Users\\20191695\\Anaconda3\\envs\\ml4sc\\lib\\site-packages\\sklearn\\gaussian_process\\kernels.py:420: ConvergenceWarning: The optimal value found for dimension 0 of parameter k2__noise_level is close to the specified lower bound 1e-05. Decreasing the bound and calling fit again may find a better value.\n",
      "  warnings.warn(\n"
     ]
    },
    {
     "name": "stdout",
     "output_type": "stream",
     "text": [
      "Currently running: na= 5, nb= 5\n",
      "Using 1000 datapoints for training set\n"
     ]
    },
    {
     "name": "stderr",
     "output_type": "stream",
     "text": [
      "c:\\Users\\20191695\\Anaconda3\\envs\\ml4sc\\lib\\site-packages\\sklearn\\gaussian_process\\kernels.py:420: ConvergenceWarning: The optimal value found for dimension 0 of parameter k2__noise_level is close to the specified lower bound 1e-05. Decreasing the bound and calling fit again may find a better value.\n",
      "  warnings.warn(\n"
     ]
    },
    {
     "name": "stdout",
     "output_type": "stream",
     "text": [
      "Currently running: na= 5, nb= 6\n",
      "Using 1000 datapoints for training set\n"
     ]
    },
    {
     "name": "stderr",
     "output_type": "stream",
     "text": [
      "c:\\Users\\20191695\\Anaconda3\\envs\\ml4sc\\lib\\site-packages\\sklearn\\gaussian_process\\kernels.py:420: ConvergenceWarning: The optimal value found for dimension 0 of parameter k2__noise_level is close to the specified lower bound 1e-05. Decreasing the bound and calling fit again may find a better value.\n",
      "  warnings.warn(\n"
     ]
    },
    {
     "name": "stdout",
     "output_type": "stream",
     "text": [
      "Currently running: na= 5, nb= 7\n",
      "Using 1000 datapoints for training set\n"
     ]
    },
    {
     "name": "stderr",
     "output_type": "stream",
     "text": [
      "c:\\Users\\20191695\\Anaconda3\\envs\\ml4sc\\lib\\site-packages\\sklearn\\gaussian_process\\kernels.py:420: ConvergenceWarning: The optimal value found for dimension 0 of parameter k2__noise_level is close to the specified lower bound 1e-05. Decreasing the bound and calling fit again may find a better value.\n",
      "  warnings.warn(\n"
     ]
    },
    {
     "name": "stdout",
     "output_type": "stream",
     "text": [
      "Currently running: na= 5, nb= 8\n",
      "Using 1000 datapoints for training set\n",
      "Currently running: na= 5, nb= 9\n",
      "Using 1000 datapoints for training set\n"
     ]
    },
    {
     "name": "stderr",
     "output_type": "stream",
     "text": [
      "c:\\Users\\20191695\\Anaconda3\\envs\\ml4sc\\lib\\site-packages\\sklearn\\gaussian_process\\_gpr.py:629: ConvergenceWarning: lbfgs failed to converge (status=2):\n",
      "ABNORMAL_TERMINATION_IN_LNSRCH.\n",
      "\n",
      "Increase the number of iterations (max_iter) or scale the data as shown in:\n",
      "    https://scikit-learn.org/stable/modules/preprocessing.html\n",
      "  _check_optimize_result(\"lbfgs\", opt_res)\n"
     ]
    },
    {
     "name": "stdout",
     "output_type": "stream",
     "text": [
      "Currently running: na= 5, nb= 10\n",
      "Using 1000 datapoints for training set\n",
      "Currently running: na= 6, nb= 2\n",
      "Using 1000 datapoints for training set\n"
     ]
    },
    {
     "name": "stderr",
     "output_type": "stream",
     "text": [
      "c:\\Users\\20191695\\Anaconda3\\envs\\ml4sc\\lib\\site-packages\\sklearn\\gaussian_process\\kernels.py:420: ConvergenceWarning: The optimal value found for dimension 0 of parameter k2__noise_level is close to the specified lower bound 1e-05. Decreasing the bound and calling fit again may find a better value.\n",
      "  warnings.warn(\n"
     ]
    },
    {
     "name": "stdout",
     "output_type": "stream",
     "text": [
      "Currently running: na= 6, nb= 3\n",
      "Using 1000 datapoints for training set\n"
     ]
    },
    {
     "name": "stderr",
     "output_type": "stream",
     "text": [
      "c:\\Users\\20191695\\Anaconda3\\envs\\ml4sc\\lib\\site-packages\\sklearn\\gaussian_process\\kernels.py:420: ConvergenceWarning: The optimal value found for dimension 0 of parameter k2__noise_level is close to the specified lower bound 1e-05. Decreasing the bound and calling fit again may find a better value.\n",
      "  warnings.warn(\n"
     ]
    },
    {
     "name": "stdout",
     "output_type": "stream",
     "text": [
      "Currently running: na= 6, nb= 4\n",
      "Using 1000 datapoints for training set\n"
     ]
    },
    {
     "name": "stderr",
     "output_type": "stream",
     "text": [
      "c:\\Users\\20191695\\Anaconda3\\envs\\ml4sc\\lib\\site-packages\\sklearn\\gaussian_process\\kernels.py:420: ConvergenceWarning: The optimal value found for dimension 0 of parameter k2__noise_level is close to the specified lower bound 1e-05. Decreasing the bound and calling fit again may find a better value.\n",
      "  warnings.warn(\n"
     ]
    },
    {
     "name": "stdout",
     "output_type": "stream",
     "text": [
      "Currently running: na= 6, nb= 5\n",
      "Using 1000 datapoints for training set\n"
     ]
    },
    {
     "name": "stderr",
     "output_type": "stream",
     "text": [
      "c:\\Users\\20191695\\Anaconda3\\envs\\ml4sc\\lib\\site-packages\\sklearn\\gaussian_process\\kernels.py:420: ConvergenceWarning: The optimal value found for dimension 0 of parameter k2__noise_level is close to the specified lower bound 1e-05. Decreasing the bound and calling fit again may find a better value.\n",
      "  warnings.warn(\n"
     ]
    },
    {
     "name": "stdout",
     "output_type": "stream",
     "text": [
      "Currently running: na= 6, nb= 6\n",
      "Using 1000 datapoints for training set\n"
     ]
    },
    {
     "name": "stderr",
     "output_type": "stream",
     "text": [
      "c:\\Users\\20191695\\Anaconda3\\envs\\ml4sc\\lib\\site-packages\\sklearn\\gaussian_process\\kernels.py:420: ConvergenceWarning: The optimal value found for dimension 0 of parameter k2__noise_level is close to the specified lower bound 1e-05. Decreasing the bound and calling fit again may find a better value.\n",
      "  warnings.warn(\n"
     ]
    },
    {
     "name": "stdout",
     "output_type": "stream",
     "text": [
      "Currently running: na= 6, nb= 7\n",
      "Using 1000 datapoints for training set\n"
     ]
    },
    {
     "name": "stderr",
     "output_type": "stream",
     "text": [
      "c:\\Users\\20191695\\Anaconda3\\envs\\ml4sc\\lib\\site-packages\\sklearn\\gaussian_process\\kernels.py:420: ConvergenceWarning: The optimal value found for dimension 0 of parameter k2__noise_level is close to the specified lower bound 1e-05. Decreasing the bound and calling fit again may find a better value.\n",
      "  warnings.warn(\n"
     ]
    },
    {
     "name": "stdout",
     "output_type": "stream",
     "text": [
      "Currently running: na= 6, nb= 8\n",
      "Using 1000 datapoints for training set\n"
     ]
    },
    {
     "name": "stderr",
     "output_type": "stream",
     "text": [
      "c:\\Users\\20191695\\Anaconda3\\envs\\ml4sc\\lib\\site-packages\\sklearn\\gaussian_process\\kernels.py:420: ConvergenceWarning: The optimal value found for dimension 0 of parameter k2__noise_level is close to the specified lower bound 1e-05. Decreasing the bound and calling fit again may find a better value.\n",
      "  warnings.warn(\n"
     ]
    },
    {
     "name": "stdout",
     "output_type": "stream",
     "text": [
      "Currently running: na= 6, nb= 9\n",
      "Using 1000 datapoints for training set\n",
      "Currently running: na= 6, nb= 10\n",
      "Using 1000 datapoints for training set\n"
     ]
    },
    {
     "name": "stderr",
     "output_type": "stream",
     "text": [
      "c:\\Users\\20191695\\Anaconda3\\envs\\ml4sc\\lib\\site-packages\\sklearn\\gaussian_process\\_gpr.py:629: ConvergenceWarning: lbfgs failed to converge (status=2):\n",
      "ABNORMAL_TERMINATION_IN_LNSRCH.\n",
      "\n",
      "Increase the number of iterations (max_iter) or scale the data as shown in:\n",
      "    https://scikit-learn.org/stable/modules/preprocessing.html\n",
      "  _check_optimize_result(\"lbfgs\", opt_res)\n"
     ]
    },
    {
     "name": "stdout",
     "output_type": "stream",
     "text": [
      "Currently running: na= 7, nb= 2\n",
      "Using 1000 datapoints for training set\n"
     ]
    },
    {
     "name": "stderr",
     "output_type": "stream",
     "text": [
      "c:\\Users\\20191695\\Anaconda3\\envs\\ml4sc\\lib\\site-packages\\sklearn\\gaussian_process\\_gpr.py:629: ConvergenceWarning: lbfgs failed to converge (status=2):\n",
      "ABNORMAL_TERMINATION_IN_LNSRCH.\n",
      "\n",
      "Increase the number of iterations (max_iter) or scale the data as shown in:\n",
      "    https://scikit-learn.org/stable/modules/preprocessing.html\n",
      "  _check_optimize_result(\"lbfgs\", opt_res)\n",
      "c:\\Users\\20191695\\Anaconda3\\envs\\ml4sc\\lib\\site-packages\\sklearn\\gaussian_process\\kernels.py:420: ConvergenceWarning: The optimal value found for dimension 0 of parameter k2__noise_level is close to the specified lower bound 1e-05. Decreasing the bound and calling fit again may find a better value.\n",
      "  warnings.warn(\n"
     ]
    },
    {
     "name": "stdout",
     "output_type": "stream",
     "text": [
      "Currently running: na= 7, nb= 3\n",
      "Using 1000 datapoints for training set\n"
     ]
    },
    {
     "name": "stderr",
     "output_type": "stream",
     "text": [
      "c:\\Users\\20191695\\Anaconda3\\envs\\ml4sc\\lib\\site-packages\\sklearn\\gaussian_process\\kernels.py:420: ConvergenceWarning: The optimal value found for dimension 0 of parameter k2__noise_level is close to the specified lower bound 1e-05. Decreasing the bound and calling fit again may find a better value.\n",
      "  warnings.warn(\n"
     ]
    },
    {
     "name": "stdout",
     "output_type": "stream",
     "text": [
      "Currently running: na= 7, nb= 4\n",
      "Using 1000 datapoints for training set\n"
     ]
    },
    {
     "name": "stderr",
     "output_type": "stream",
     "text": [
      "c:\\Users\\20191695\\Anaconda3\\envs\\ml4sc\\lib\\site-packages\\sklearn\\gaussian_process\\_gpr.py:629: ConvergenceWarning: lbfgs failed to converge (status=2):\n",
      "ABNORMAL_TERMINATION_IN_LNSRCH.\n",
      "\n",
      "Increase the number of iterations (max_iter) or scale the data as shown in:\n",
      "    https://scikit-learn.org/stable/modules/preprocessing.html\n",
      "  _check_optimize_result(\"lbfgs\", opt_res)\n",
      "c:\\Users\\20191695\\Anaconda3\\envs\\ml4sc\\lib\\site-packages\\sklearn\\gaussian_process\\kernels.py:420: ConvergenceWarning: The optimal value found for dimension 0 of parameter k2__noise_level is close to the specified lower bound 1e-05. Decreasing the bound and calling fit again may find a better value.\n",
      "  warnings.warn(\n"
     ]
    },
    {
     "name": "stdout",
     "output_type": "stream",
     "text": [
      "Currently running: na= 7, nb= 5\n",
      "Using 1000 datapoints for training set\n"
     ]
    },
    {
     "name": "stderr",
     "output_type": "stream",
     "text": [
      "c:\\Users\\20191695\\Anaconda3\\envs\\ml4sc\\lib\\site-packages\\sklearn\\gaussian_process\\kernels.py:420: ConvergenceWarning: The optimal value found for dimension 0 of parameter k2__noise_level is close to the specified lower bound 1e-05. Decreasing the bound and calling fit again may find a better value.\n",
      "  warnings.warn(\n"
     ]
    },
    {
     "name": "stdout",
     "output_type": "stream",
     "text": [
      "Currently running: na= 7, nb= 6\n",
      "Using 1000 datapoints for training set\n"
     ]
    },
    {
     "name": "stderr",
     "output_type": "stream",
     "text": [
      "c:\\Users\\20191695\\Anaconda3\\envs\\ml4sc\\lib\\site-packages\\sklearn\\gaussian_process\\_gpr.py:629: ConvergenceWarning: lbfgs failed to converge (status=2):\n",
      "ABNORMAL_TERMINATION_IN_LNSRCH.\n",
      "\n",
      "Increase the number of iterations (max_iter) or scale the data as shown in:\n",
      "    https://scikit-learn.org/stable/modules/preprocessing.html\n",
      "  _check_optimize_result(\"lbfgs\", opt_res)\n",
      "c:\\Users\\20191695\\Anaconda3\\envs\\ml4sc\\lib\\site-packages\\sklearn\\gaussian_process\\kernels.py:420: ConvergenceWarning: The optimal value found for dimension 0 of parameter k2__noise_level is close to the specified lower bound 1e-05. Decreasing the bound and calling fit again may find a better value.\n",
      "  warnings.warn(\n"
     ]
    },
    {
     "name": "stdout",
     "output_type": "stream",
     "text": [
      "Currently running: na= 7, nb= 7\n",
      "Using 1000 datapoints for training set\n"
     ]
    },
    {
     "name": "stderr",
     "output_type": "stream",
     "text": [
      "c:\\Users\\20191695\\Anaconda3\\envs\\ml4sc\\lib\\site-packages\\sklearn\\gaussian_process\\_gpr.py:629: ConvergenceWarning: lbfgs failed to converge (status=2):\n",
      "ABNORMAL_TERMINATION_IN_LNSRCH.\n",
      "\n",
      "Increase the number of iterations (max_iter) or scale the data as shown in:\n",
      "    https://scikit-learn.org/stable/modules/preprocessing.html\n",
      "  _check_optimize_result(\"lbfgs\", opt_res)\n",
      "c:\\Users\\20191695\\Anaconda3\\envs\\ml4sc\\lib\\site-packages\\sklearn\\gaussian_process\\kernels.py:420: ConvergenceWarning: The optimal value found for dimension 0 of parameter k2__noise_level is close to the specified lower bound 1e-05. Decreasing the bound and calling fit again may find a better value.\n",
      "  warnings.warn(\n"
     ]
    },
    {
     "name": "stdout",
     "output_type": "stream",
     "text": [
      "Currently running: na= 7, nb= 8\n",
      "Using 1000 datapoints for training set\n"
     ]
    },
    {
     "name": "stderr",
     "output_type": "stream",
     "text": [
      "c:\\Users\\20191695\\Anaconda3\\envs\\ml4sc\\lib\\site-packages\\sklearn\\gaussian_process\\_gpr.py:629: ConvergenceWarning: lbfgs failed to converge (status=2):\n",
      "ABNORMAL_TERMINATION_IN_LNSRCH.\n",
      "\n",
      "Increase the number of iterations (max_iter) or scale the data as shown in:\n",
      "    https://scikit-learn.org/stable/modules/preprocessing.html\n",
      "  _check_optimize_result(\"lbfgs\", opt_res)\n",
      "c:\\Users\\20191695\\Anaconda3\\envs\\ml4sc\\lib\\site-packages\\sklearn\\gaussian_process\\kernels.py:420: ConvergenceWarning: The optimal value found for dimension 0 of parameter k2__noise_level is close to the specified lower bound 1e-05. Decreasing the bound and calling fit again may find a better value.\n",
      "  warnings.warn(\n"
     ]
    },
    {
     "name": "stdout",
     "output_type": "stream",
     "text": [
      "Currently running: na= 7, nb= 9\n",
      "Using 1000 datapoints for training set\n"
     ]
    },
    {
     "name": "stderr",
     "output_type": "stream",
     "text": [
      "c:\\Users\\20191695\\Anaconda3\\envs\\ml4sc\\lib\\site-packages\\sklearn\\gaussian_process\\_gpr.py:629: ConvergenceWarning: lbfgs failed to converge (status=2):\n",
      "ABNORMAL_TERMINATION_IN_LNSRCH.\n",
      "\n",
      "Increase the number of iterations (max_iter) or scale the data as shown in:\n",
      "    https://scikit-learn.org/stable/modules/preprocessing.html\n",
      "  _check_optimize_result(\"lbfgs\", opt_res)\n",
      "c:\\Users\\20191695\\Anaconda3\\envs\\ml4sc\\lib\\site-packages\\sklearn\\gaussian_process\\kernels.py:420: ConvergenceWarning: The optimal value found for dimension 0 of parameter k2__noise_level is close to the specified lower bound 1e-05. Decreasing the bound and calling fit again may find a better value.\n",
      "  warnings.warn(\n"
     ]
    },
    {
     "name": "stdout",
     "output_type": "stream",
     "text": [
      "Currently running: na= 7, nb= 10\n",
      "Using 1000 datapoints for training set\n",
      "Currently running: na= 8, nb= 2\n",
      "Using 1000 datapoints for training set\n"
     ]
    },
    {
     "name": "stderr",
     "output_type": "stream",
     "text": [
      "c:\\Users\\20191695\\Anaconda3\\envs\\ml4sc\\lib\\site-packages\\sklearn\\gaussian_process\\kernels.py:420: ConvergenceWarning: The optimal value found for dimension 0 of parameter k2__noise_level is close to the specified lower bound 1e-05. Decreasing the bound and calling fit again may find a better value.\n",
      "  warnings.warn(\n"
     ]
    },
    {
     "name": "stdout",
     "output_type": "stream",
     "text": [
      "Currently running: na= 8, nb= 3\n",
      "Using 1000 datapoints for training set\n"
     ]
    },
    {
     "name": "stderr",
     "output_type": "stream",
     "text": [
      "c:\\Users\\20191695\\Anaconda3\\envs\\ml4sc\\lib\\site-packages\\sklearn\\gaussian_process\\_gpr.py:629: ConvergenceWarning: lbfgs failed to converge (status=2):\n",
      "ABNORMAL_TERMINATION_IN_LNSRCH.\n",
      "\n",
      "Increase the number of iterations (max_iter) or scale the data as shown in:\n",
      "    https://scikit-learn.org/stable/modules/preprocessing.html\n",
      "  _check_optimize_result(\"lbfgs\", opt_res)\n",
      "c:\\Users\\20191695\\Anaconda3\\envs\\ml4sc\\lib\\site-packages\\sklearn\\gaussian_process\\kernels.py:420: ConvergenceWarning: The optimal value found for dimension 0 of parameter k2__noise_level is close to the specified lower bound 1e-05. Decreasing the bound and calling fit again may find a better value.\n",
      "  warnings.warn(\n"
     ]
    },
    {
     "name": "stdout",
     "output_type": "stream",
     "text": [
      "Currently running: na= 8, nb= 4\n",
      "Using 1000 datapoints for training set\n"
     ]
    },
    {
     "name": "stderr",
     "output_type": "stream",
     "text": [
      "c:\\Users\\20191695\\Anaconda3\\envs\\ml4sc\\lib\\site-packages\\sklearn\\gaussian_process\\kernels.py:420: ConvergenceWarning: The optimal value found for dimension 0 of parameter k2__noise_level is close to the specified lower bound 1e-05. Decreasing the bound and calling fit again may find a better value.\n",
      "  warnings.warn(\n"
     ]
    },
    {
     "name": "stdout",
     "output_type": "stream",
     "text": [
      "Currently running: na= 8, nb= 5\n",
      "Using 1000 datapoints for training set\n"
     ]
    },
    {
     "name": "stderr",
     "output_type": "stream",
     "text": [
      "c:\\Users\\20191695\\Anaconda3\\envs\\ml4sc\\lib\\site-packages\\sklearn\\gaussian_process\\kernels.py:420: ConvergenceWarning: The optimal value found for dimension 0 of parameter k2__noise_level is close to the specified lower bound 1e-05. Decreasing the bound and calling fit again may find a better value.\n",
      "  warnings.warn(\n"
     ]
    },
    {
     "name": "stdout",
     "output_type": "stream",
     "text": [
      "Currently running: na= 8, nb= 6\n",
      "Using 1000 datapoints for training set\n"
     ]
    },
    {
     "name": "stderr",
     "output_type": "stream",
     "text": [
      "c:\\Users\\20191695\\Anaconda3\\envs\\ml4sc\\lib\\site-packages\\sklearn\\gaussian_process\\kernels.py:420: ConvergenceWarning: The optimal value found for dimension 0 of parameter k2__noise_level is close to the specified lower bound 1e-05. Decreasing the bound and calling fit again may find a better value.\n",
      "  warnings.warn(\n"
     ]
    },
    {
     "name": "stdout",
     "output_type": "stream",
     "text": [
      "Currently running: na= 8, nb= 7\n",
      "Using 1000 datapoints for training set\n"
     ]
    },
    {
     "name": "stderr",
     "output_type": "stream",
     "text": [
      "c:\\Users\\20191695\\Anaconda3\\envs\\ml4sc\\lib\\site-packages\\sklearn\\gaussian_process\\kernels.py:420: ConvergenceWarning: The optimal value found for dimension 0 of parameter k2__noise_level is close to the specified lower bound 1e-05. Decreasing the bound and calling fit again may find a better value.\n",
      "  warnings.warn(\n"
     ]
    },
    {
     "name": "stdout",
     "output_type": "stream",
     "text": [
      "Currently running: na= 8, nb= 8\n",
      "Using 1000 datapoints for training set\n"
     ]
    },
    {
     "name": "stderr",
     "output_type": "stream",
     "text": [
      "c:\\Users\\20191695\\Anaconda3\\envs\\ml4sc\\lib\\site-packages\\sklearn\\gaussian_process\\kernels.py:420: ConvergenceWarning: The optimal value found for dimension 0 of parameter k2__noise_level is close to the specified lower bound 1e-05. Decreasing the bound and calling fit again may find a better value.\n",
      "  warnings.warn(\n"
     ]
    },
    {
     "name": "stdout",
     "output_type": "stream",
     "text": [
      "Currently running: na= 8, nb= 9\n",
      "Using 1000 datapoints for training set\n"
     ]
    },
    {
     "name": "stderr",
     "output_type": "stream",
     "text": [
      "c:\\Users\\20191695\\Anaconda3\\envs\\ml4sc\\lib\\site-packages\\sklearn\\gaussian_process\\_gpr.py:629: ConvergenceWarning: lbfgs failed to converge (status=2):\n",
      "ABNORMAL_TERMINATION_IN_LNSRCH.\n",
      "\n",
      "Increase the number of iterations (max_iter) or scale the data as shown in:\n",
      "    https://scikit-learn.org/stable/modules/preprocessing.html\n",
      "  _check_optimize_result(\"lbfgs\", opt_res)\n",
      "c:\\Users\\20191695\\Anaconda3\\envs\\ml4sc\\lib\\site-packages\\sklearn\\gaussian_process\\kernels.py:420: ConvergenceWarning: The optimal value found for dimension 0 of parameter k2__noise_level is close to the specified lower bound 1e-05. Decreasing the bound and calling fit again may find a better value.\n",
      "  warnings.warn(\n"
     ]
    },
    {
     "name": "stdout",
     "output_type": "stream",
     "text": [
      "Currently running: na= 8, nb= 10\n",
      "Using 1000 datapoints for training set\n"
     ]
    },
    {
     "name": "stderr",
     "output_type": "stream",
     "text": [
      "c:\\Users\\20191695\\Anaconda3\\envs\\ml4sc\\lib\\site-packages\\sklearn\\gaussian_process\\kernels.py:420: ConvergenceWarning: The optimal value found for dimension 0 of parameter k2__noise_level is close to the specified lower bound 1e-05. Decreasing the bound and calling fit again may find a better value.\n",
      "  warnings.warn(\n"
     ]
    },
    {
     "name": "stdout",
     "output_type": "stream",
     "text": [
      "Currently running: na= 9, nb= 2\n",
      "Using 1000 datapoints for training set\n"
     ]
    },
    {
     "name": "stderr",
     "output_type": "stream",
     "text": [
      "c:\\Users\\20191695\\Anaconda3\\envs\\ml4sc\\lib\\site-packages\\sklearn\\gaussian_process\\_gpr.py:629: ConvergenceWarning: lbfgs failed to converge (status=2):\n",
      "ABNORMAL_TERMINATION_IN_LNSRCH.\n",
      "\n",
      "Increase the number of iterations (max_iter) or scale the data as shown in:\n",
      "    https://scikit-learn.org/stable/modules/preprocessing.html\n",
      "  _check_optimize_result(\"lbfgs\", opt_res)\n",
      "c:\\Users\\20191695\\Anaconda3\\envs\\ml4sc\\lib\\site-packages\\sklearn\\gaussian_process\\kernels.py:420: ConvergenceWarning: The optimal value found for dimension 0 of parameter k2__noise_level is close to the specified lower bound 1e-05. Decreasing the bound and calling fit again may find a better value.\n",
      "  warnings.warn(\n"
     ]
    },
    {
     "name": "stdout",
     "output_type": "stream",
     "text": [
      "Currently running: na= 9, nb= 3\n",
      "Using 1000 datapoints for training set\n"
     ]
    },
    {
     "name": "stderr",
     "output_type": "stream",
     "text": [
      "c:\\Users\\20191695\\Anaconda3\\envs\\ml4sc\\lib\\site-packages\\sklearn\\gaussian_process\\kernels.py:420: ConvergenceWarning: The optimal value found for dimension 0 of parameter k2__noise_level is close to the specified lower bound 1e-05. Decreasing the bound and calling fit again may find a better value.\n",
      "  warnings.warn(\n"
     ]
    },
    {
     "name": "stdout",
     "output_type": "stream",
     "text": [
      "Currently running: na= 9, nb= 4\n",
      "Using 1000 datapoints for training set\n"
     ]
    },
    {
     "name": "stderr",
     "output_type": "stream",
     "text": [
      "c:\\Users\\20191695\\Anaconda3\\envs\\ml4sc\\lib\\site-packages\\sklearn\\gaussian_process\\_gpr.py:629: ConvergenceWarning: lbfgs failed to converge (status=2):\n",
      "ABNORMAL_TERMINATION_IN_LNSRCH.\n",
      "\n",
      "Increase the number of iterations (max_iter) or scale the data as shown in:\n",
      "    https://scikit-learn.org/stable/modules/preprocessing.html\n",
      "  _check_optimize_result(\"lbfgs\", opt_res)\n",
      "c:\\Users\\20191695\\Anaconda3\\envs\\ml4sc\\lib\\site-packages\\sklearn\\gaussian_process\\kernels.py:420: ConvergenceWarning: The optimal value found for dimension 0 of parameter k2__noise_level is close to the specified lower bound 1e-05. Decreasing the bound and calling fit again may find a better value.\n",
      "  warnings.warn(\n"
     ]
    },
    {
     "name": "stdout",
     "output_type": "stream",
     "text": [
      "Currently running: na= 9, nb= 5\n",
      "Using 1000 datapoints for training set\n"
     ]
    },
    {
     "name": "stderr",
     "output_type": "stream",
     "text": [
      "c:\\Users\\20191695\\Anaconda3\\envs\\ml4sc\\lib\\site-packages\\sklearn\\gaussian_process\\_gpr.py:629: ConvergenceWarning: lbfgs failed to converge (status=2):\n",
      "ABNORMAL_TERMINATION_IN_LNSRCH.\n",
      "\n",
      "Increase the number of iterations (max_iter) or scale the data as shown in:\n",
      "    https://scikit-learn.org/stable/modules/preprocessing.html\n",
      "  _check_optimize_result(\"lbfgs\", opt_res)\n",
      "c:\\Users\\20191695\\Anaconda3\\envs\\ml4sc\\lib\\site-packages\\sklearn\\gaussian_process\\kernels.py:420: ConvergenceWarning: The optimal value found for dimension 0 of parameter k2__noise_level is close to the specified lower bound 1e-05. Decreasing the bound and calling fit again may find a better value.\n",
      "  warnings.warn(\n"
     ]
    },
    {
     "name": "stdout",
     "output_type": "stream",
     "text": [
      "Currently running: na= 9, nb= 6\n",
      "Using 1000 datapoints for training set\n"
     ]
    },
    {
     "name": "stderr",
     "output_type": "stream",
     "text": [
      "c:\\Users\\20191695\\Anaconda3\\envs\\ml4sc\\lib\\site-packages\\sklearn\\gaussian_process\\_gpr.py:629: ConvergenceWarning: lbfgs failed to converge (status=2):\n",
      "ABNORMAL_TERMINATION_IN_LNSRCH.\n",
      "\n",
      "Increase the number of iterations (max_iter) or scale the data as shown in:\n",
      "    https://scikit-learn.org/stable/modules/preprocessing.html\n",
      "  _check_optimize_result(\"lbfgs\", opt_res)\n",
      "c:\\Users\\20191695\\Anaconda3\\envs\\ml4sc\\lib\\site-packages\\sklearn\\gaussian_process\\kernels.py:420: ConvergenceWarning: The optimal value found for dimension 0 of parameter k2__noise_level is close to the specified lower bound 1e-05. Decreasing the bound and calling fit again may find a better value.\n",
      "  warnings.warn(\n"
     ]
    },
    {
     "name": "stdout",
     "output_type": "stream",
     "text": [
      "Currently running: na= 9, nb= 7\n",
      "Using 1000 datapoints for training set\n"
     ]
    },
    {
     "name": "stderr",
     "output_type": "stream",
     "text": [
      "c:\\Users\\20191695\\Anaconda3\\envs\\ml4sc\\lib\\site-packages\\sklearn\\gaussian_process\\kernels.py:420: ConvergenceWarning: The optimal value found for dimension 0 of parameter k2__noise_level is close to the specified lower bound 1e-05. Decreasing the bound and calling fit again may find a better value.\n",
      "  warnings.warn(\n"
     ]
    },
    {
     "name": "stdout",
     "output_type": "stream",
     "text": [
      "Currently running: na= 9, nb= 8\n",
      "Using 1000 datapoints for training set\n"
     ]
    },
    {
     "name": "stderr",
     "output_type": "stream",
     "text": [
      "c:\\Users\\20191695\\Anaconda3\\envs\\ml4sc\\lib\\site-packages\\sklearn\\gaussian_process\\_gpr.py:629: ConvergenceWarning: lbfgs failed to converge (status=2):\n",
      "ABNORMAL_TERMINATION_IN_LNSRCH.\n",
      "\n",
      "Increase the number of iterations (max_iter) or scale the data as shown in:\n",
      "    https://scikit-learn.org/stable/modules/preprocessing.html\n",
      "  _check_optimize_result(\"lbfgs\", opt_res)\n",
      "c:\\Users\\20191695\\Anaconda3\\envs\\ml4sc\\lib\\site-packages\\sklearn\\gaussian_process\\kernels.py:420: ConvergenceWarning: The optimal value found for dimension 0 of parameter k2__noise_level is close to the specified lower bound 1e-05. Decreasing the bound and calling fit again may find a better value.\n",
      "  warnings.warn(\n"
     ]
    },
    {
     "name": "stdout",
     "output_type": "stream",
     "text": [
      "Currently running: na= 9, nb= 9\n",
      "Using 1000 datapoints for training set\n"
     ]
    },
    {
     "name": "stderr",
     "output_type": "stream",
     "text": [
      "c:\\Users\\20191695\\Anaconda3\\envs\\ml4sc\\lib\\site-packages\\sklearn\\gaussian_process\\kernels.py:420: ConvergenceWarning: The optimal value found for dimension 0 of parameter k2__noise_level is close to the specified lower bound 1e-05. Decreasing the bound and calling fit again may find a better value.\n",
      "  warnings.warn(\n"
     ]
    },
    {
     "name": "stdout",
     "output_type": "stream",
     "text": [
      "Currently running: na= 9, nb= 10\n",
      "Using 1000 datapoints for training set\n"
     ]
    },
    {
     "name": "stderr",
     "output_type": "stream",
     "text": [
      "c:\\Users\\20191695\\Anaconda3\\envs\\ml4sc\\lib\\site-packages\\sklearn\\gaussian_process\\_gpr.py:629: ConvergenceWarning: lbfgs failed to converge (status=2):\n",
      "ABNORMAL_TERMINATION_IN_LNSRCH.\n",
      "\n",
      "Increase the number of iterations (max_iter) or scale the data as shown in:\n",
      "    https://scikit-learn.org/stable/modules/preprocessing.html\n",
      "  _check_optimize_result(\"lbfgs\", opt_res)\n",
      "c:\\Users\\20191695\\Anaconda3\\envs\\ml4sc\\lib\\site-packages\\sklearn\\gaussian_process\\kernels.py:420: ConvergenceWarning: The optimal value found for dimension 0 of parameter k2__noise_level is close to the specified lower bound 1e-05. Decreasing the bound and calling fit again may find a better value.\n",
      "  warnings.warn(\n"
     ]
    },
    {
     "name": "stdout",
     "output_type": "stream",
     "text": [
      "Currently running: na= 10, nb= 2\n",
      "Using 1000 datapoints for training set\n"
     ]
    },
    {
     "name": "stderr",
     "output_type": "stream",
     "text": [
      "c:\\Users\\20191695\\Anaconda3\\envs\\ml4sc\\lib\\site-packages\\sklearn\\gaussian_process\\kernels.py:420: ConvergenceWarning: The optimal value found for dimension 0 of parameter k2__noise_level is close to the specified lower bound 1e-05. Decreasing the bound and calling fit again may find a better value.\n",
      "  warnings.warn(\n"
     ]
    },
    {
     "name": "stdout",
     "output_type": "stream",
     "text": [
      "Currently running: na= 10, nb= 3\n",
      "Using 1000 datapoints for training set\n"
     ]
    },
    {
     "name": "stderr",
     "output_type": "stream",
     "text": [
      "c:\\Users\\20191695\\Anaconda3\\envs\\ml4sc\\lib\\site-packages\\sklearn\\gaussian_process\\kernels.py:420: ConvergenceWarning: The optimal value found for dimension 0 of parameter k2__noise_level is close to the specified lower bound 1e-05. Decreasing the bound and calling fit again may find a better value.\n",
      "  warnings.warn(\n"
     ]
    },
    {
     "name": "stdout",
     "output_type": "stream",
     "text": [
      "Currently running: na= 10, nb= 4\n",
      "Using 1000 datapoints for training set\n"
     ]
    },
    {
     "name": "stderr",
     "output_type": "stream",
     "text": [
      "c:\\Users\\20191695\\Anaconda3\\envs\\ml4sc\\lib\\site-packages\\sklearn\\gaussian_process\\kernels.py:420: ConvergenceWarning: The optimal value found for dimension 0 of parameter k2__noise_level is close to the specified lower bound 1e-05. Decreasing the bound and calling fit again may find a better value.\n",
      "  warnings.warn(\n"
     ]
    },
    {
     "name": "stdout",
     "output_type": "stream",
     "text": [
      "Currently running: na= 10, nb= 5\n",
      "Using 1000 datapoints for training set\n"
     ]
    },
    {
     "name": "stderr",
     "output_type": "stream",
     "text": [
      "c:\\Users\\20191695\\Anaconda3\\envs\\ml4sc\\lib\\site-packages\\sklearn\\gaussian_process\\kernels.py:420: ConvergenceWarning: The optimal value found for dimension 0 of parameter k2__noise_level is close to the specified lower bound 1e-05. Decreasing the bound and calling fit again may find a better value.\n",
      "  warnings.warn(\n"
     ]
    },
    {
     "name": "stdout",
     "output_type": "stream",
     "text": [
      "Currently running: na= 10, nb= 6\n",
      "Using 1000 datapoints for training set\n"
     ]
    },
    {
     "name": "stderr",
     "output_type": "stream",
     "text": [
      "c:\\Users\\20191695\\Anaconda3\\envs\\ml4sc\\lib\\site-packages\\sklearn\\gaussian_process\\kernels.py:420: ConvergenceWarning: The optimal value found for dimension 0 of parameter k2__noise_level is close to the specified lower bound 1e-05. Decreasing the bound and calling fit again may find a better value.\n",
      "  warnings.warn(\n"
     ]
    },
    {
     "name": "stdout",
     "output_type": "stream",
     "text": [
      "Currently running: na= 10, nb= 7\n",
      "Using 1000 datapoints for training set\n"
     ]
    },
    {
     "name": "stderr",
     "output_type": "stream",
     "text": [
      "c:\\Users\\20191695\\Anaconda3\\envs\\ml4sc\\lib\\site-packages\\sklearn\\gaussian_process\\_gpr.py:629: ConvergenceWarning: lbfgs failed to converge (status=2):\n",
      "ABNORMAL_TERMINATION_IN_LNSRCH.\n",
      "\n",
      "Increase the number of iterations (max_iter) or scale the data as shown in:\n",
      "    https://scikit-learn.org/stable/modules/preprocessing.html\n",
      "  _check_optimize_result(\"lbfgs\", opt_res)\n",
      "c:\\Users\\20191695\\Anaconda3\\envs\\ml4sc\\lib\\site-packages\\sklearn\\gaussian_process\\kernels.py:420: ConvergenceWarning: The optimal value found for dimension 0 of parameter k2__noise_level is close to the specified lower bound 1e-05. Decreasing the bound and calling fit again may find a better value.\n",
      "  warnings.warn(\n"
     ]
    },
    {
     "name": "stdout",
     "output_type": "stream",
     "text": [
      "Currently running: na= 10, nb= 8\n",
      "Using 1000 datapoints for training set\n"
     ]
    },
    {
     "name": "stderr",
     "output_type": "stream",
     "text": [
      "c:\\Users\\20191695\\Anaconda3\\envs\\ml4sc\\lib\\site-packages\\sklearn\\gaussian_process\\kernels.py:420: ConvergenceWarning: The optimal value found for dimension 0 of parameter k2__noise_level is close to the specified lower bound 1e-05. Decreasing the bound and calling fit again may find a better value.\n",
      "  warnings.warn(\n"
     ]
    },
    {
     "name": "stdout",
     "output_type": "stream",
     "text": [
      "Currently running: na= 10, nb= 9\n",
      "Using 1000 datapoints for training set\n"
     ]
    },
    {
     "name": "stderr",
     "output_type": "stream",
     "text": [
      "c:\\Users\\20191695\\Anaconda3\\envs\\ml4sc\\lib\\site-packages\\sklearn\\gaussian_process\\_gpr.py:629: ConvergenceWarning: lbfgs failed to converge (status=2):\n",
      "ABNORMAL_TERMINATION_IN_LNSRCH.\n",
      "\n",
      "Increase the number of iterations (max_iter) or scale the data as shown in:\n",
      "    https://scikit-learn.org/stable/modules/preprocessing.html\n",
      "  _check_optimize_result(\"lbfgs\", opt_res)\n",
      "c:\\Users\\20191695\\Anaconda3\\envs\\ml4sc\\lib\\site-packages\\sklearn\\gaussian_process\\kernels.py:420: ConvergenceWarning: The optimal value found for dimension 0 of parameter k2__noise_level is close to the specified lower bound 1e-05. Decreasing the bound and calling fit again may find a better value.\n",
      "  warnings.warn(\n"
     ]
    },
    {
     "name": "stdout",
     "output_type": "stream",
     "text": [
      "Currently running: na= 10, nb= 10\n",
      "Using 1000 datapoints for training set\n"
     ]
    },
    {
     "name": "stderr",
     "output_type": "stream",
     "text": [
      "c:\\Users\\20191695\\Anaconda3\\envs\\ml4sc\\lib\\site-packages\\sklearn\\gaussian_process\\_gpr.py:629: ConvergenceWarning: lbfgs failed to converge (status=2):\n",
      "ABNORMAL_TERMINATION_IN_LNSRCH.\n",
      "\n",
      "Increase the number of iterations (max_iter) or scale the data as shown in:\n",
      "    https://scikit-learn.org/stable/modules/preprocessing.html\n",
      "  _check_optimize_result(\"lbfgs\", opt_res)\n",
      "c:\\Users\\20191695\\Anaconda3\\envs\\ml4sc\\lib\\site-packages\\sklearn\\gaussian_process\\kernels.py:420: ConvergenceWarning: The optimal value found for dimension 0 of parameter k2__noise_level is close to the specified lower bound 1e-05. Decreasing the bound and calling fit again may find a better value.\n",
      "  warnings.warn(\n"
     ]
    }
   ],
   "source": [
    "for i, n_a in enumerate(na_list):\n",
    "    for j, n_b in enumerate(nb_list):\n",
    "        \n",
    "        print(f\"Currently running: na= {n_a}, nb= {n_b}\")\n",
    "        \n",
    "        #Construct NARX data\n",
    "        Xtrain_NARX,Ytrain_NARX = load_narx_data(n_a, n_b, total_number_of_points, section=\"train\", split=Split, as_tensor=False)\n",
    "        Xval_NARX,Yval_NARX = load_narx_data(n_a, n_b, total_number_of_points, section=\"validation\", split=Split, as_tensor=False)\n",
    "        Xtest_NARX,Ytest_NARX = load_narx_data(n_a, n_b, total_number_of_points, section=\"test\", split=Split, as_tensor=False)\n",
    "        \n",
    "        \n",
    "        #Convert to sparce matrices\n",
    "        XtrainSparse = csr_matrix(Xtrain_NARX).toarray()\n",
    "        YtrainSparse = csr_matrix(Ytrain_NARX).toarray().transpose()\n",
    "\n",
    "        #Fit the GP\n",
    "        reg.fit(XtrainSparse, YtrainSparse)\n",
    "        \n",
    "        #Initialize parameters for simulation\n",
    "        model_now = reg\n",
    "        fmodel = lambda u,y: model_now.predict(np.concatenate([u,y])[None,:])[0] \n",
    "        \n",
    "        #Prediction on validation set\n",
    "        Yval_pred, Yval_pred_std = reg.predict(Xval_NARX,return_std=True)\n",
    "        \n",
    "        #Simulation on validation set\n",
    "        Yval_sim = use_NARX_model_in_simulation(Xval, fmodel, n_a, n_b)\n",
    "        \n",
    "        #Prediction on test set\n",
    "        Ytest_pred, Ytest_pred_std = reg.predict(Xtest_NARX,return_std=True)\n",
    "        \n",
    "        #Simulation on test set\n",
    "        Ytest_sim = use_NARX_model_in_simulation(Xtest, fmodel, n_a, n_b)\n",
    "        \n",
    "        #Store results\n",
    "        val_pred_NRMSs[i,j] = NRMS(Yval_pred, Yval_NARX)\n",
    "        val_sim_NRMSs[i,j] = NRMS(Yval_sim, Yval)\n",
    "        test_pred_NRMSs[i,j] = NRMS(Ytest_pred, Ytest_NARX)\n",
    "        test_sim_NRMSs[i,j] = NRMS(Ytest_sim, Ytest)"
   ]
  },
  {
   "cell_type": "code",
   "execution_count": 6,
   "id": "f1814ad1",
   "metadata": {},
   "outputs": [
    {
     "name": "stderr",
     "output_type": "stream",
     "text": [
      "C:\\Users\\20191695\\AppData\\Local\\Temp\\ipykernel_20268\\3538378983.py:14: UserWarning: FixedFormatter should only be used together with FixedLocator\n",
      "  ax1.set_yticklabels([0]+na_list)\n",
      "C:\\Users\\20191695\\AppData\\Local\\Temp\\ipykernel_20268\\3538378983.py:16: UserWarning: FixedFormatter should only be used together with FixedLocator\n",
      "  ax2.set_yticklabels([0]+na_list)\n"
     ]
    },
    {
     "name": "stdout",
     "output_type": "stream",
     "text": [
      "Best parameters by prediction NRMS: na= 10.0, nb= 2.0\n",
      "Best parameters by simulation NRMS: na= 10.0, nb= 3.0\n"
     ]
    },
    {
     "data": {
      "image/png": "[encoded data removed]",
      "text/plain": [
       "<Figure size 1500x500 with 2 Axes>"
      ]
     },
     "metadata": {},
     "output_type": "display_data"
    }
   ],
   "source": [
    "# Plot results for validation data\n",
    "fs=15\n",
    "fig = plt.figure(figsize=(15, 5),layout='constrained')\n",
    "ax1=fig.add_subplot(121)\n",
    "ax1.imshow(val_pred_NRMSs, interpolation='none', norm='log')\n",
    "ax2=fig.add_subplot(122)\n",
    "ax2.imshow(val_sim_NRMSs, interpolation='none', norm='log')\n",
    "ax1.set_title('Prediction NRMS',fontsize=fs)\n",
    "ax2.set_title('Simulation NRMS',fontsize=fs)\n",
    "fig.suptitle('Prediction and simulation validation NRMS for different combinations of na and nb', fontsize=25)\n",
    "ax1.set_ylabel('na',fontsize=fs)\n",
    "ax1.set_xlabel('nb',fontsize=fs)\n",
    "ax2.set_xlabel('nb',fontsize=fs)\n",
    "ax1.set_yticklabels([0]+na_list)\n",
    "ax1.set_xticks([*range(len(nb_list))],nb_list)\n",
    "ax2.set_yticklabels([0]+na_list)\n",
    "ax2.set_xticks([*range(len(nb_list))],nb_list)\n",
    "\n",
    "params = np.zeros((len(na_list), len(nb_list), 2))\n",
    "for i, n_a in enumerate(na_list):\n",
    "    for j, n_b in enumerate(nb_list):\n",
    "        params[i, j, :] = [n_a, n_b]\n",
    "\n",
    "min_arg = np.unravel_index(val_pred_NRMSs.argmin(keepdims=True), val_pred_NRMSs.shape)\n",
    "best_na, best_nb = params[min_arg].ravel()\n",
    "print(f\"Best parameters by prediction NRMS: na= {best_na}, nb= {best_nb}\")\n",
    "\n",
    "min_arg = np.unravel_index(val_sim_NRMSs.argmin(keepdims=True), val_sim_NRMSs.shape)\n",
    "best_na, best_nb = params[min_arg].ravel()\n",
    "print(f\"Best parameters by simulation NRMS: na= {best_na}, nb= {best_nb}\")"
   ]
  },
  {
   "cell_type": "code",
   "execution_count": 7,
   "id": "c13df093",
   "metadata": {},
   "outputs": [
    {
     "name": "stderr",
     "output_type": "stream",
     "text": [
      "C:\\Users\\20191695\\AppData\\Local\\Temp\\ipykernel_20268\\923331101.py:14: UserWarning: FixedFormatter should only be used together with FixedLocator\n",
      "  ax1.set_yticklabels([0]+na_list)\n",
      "C:\\Users\\20191695\\AppData\\Local\\Temp\\ipykernel_20268\\923331101.py:16: UserWarning: FixedFormatter should only be used together with FixedLocator\n",
      "  ax2.set_yticklabels([0]+na_list)\n"
     ]
    },
    {
     "name": "stdout",
     "output_type": "stream",
     "text": [
      "Best parameters by prediction NRMS: na= 7.0, nb= 3.0\n",
      "Best parameters by simulation NRMS: na= 9.0, nb= 2.0\n"
     ]
    },
    {
     "data": {
      "image/png": "[encoded data removed]",
      "text/plain": [
       "<Figure size 1500x500 with 2 Axes>"
      ]
     },
     "metadata": {},
     "output_type": "display_data"
    }
   ],
   "source": [
    "# Plot results for test data\n",
    "fs=15\n",
    "fig = plt.figure(figsize=(15, 5),layout='constrained')\n",
    "ax1=fig.add_subplot(121)\n",
    "ax1.imshow(test_pred_NRMSs, interpolation='none', norm='log')\n",
    "ax2=fig.add_subplot(122)\n",
    "ax2.imshow(test_sim_NRMSs, interpolation='none', norm='log')\n",
    "ax1.set_title('Prediction NRMS',fontsize=fs)\n",
    "ax2.set_title('Simulation NRMS',fontsize=fs)\n",
    "fig.suptitle('Prediction and simulation test NRMS for different combinations of na and nb', fontsize=25)\n",
    "ax1.set_ylabel('na',fontsize=fs)\n",
    "ax1.set_xlabel('nb',fontsize=fs)\n",
    "ax2.set_xlabel('nb',fontsize=fs)\n",
    "ax1.set_yticklabels([0]+na_list)\n",
    "ax1.set_xticks([*range(len(nb_list))],nb_list)\n",
    "ax2.set_yticklabels([0]+na_list)\n",
    "ax2.set_xticks([*range(len(nb_list))],nb_list)\n",
    "\n",
    "params = np.zeros((len(na_list), len(nb_list), 2))\n",
    "for i, n_a in enumerate(na_list):\n",
    "    for j, n_b in enumerate(nb_list):\n",
    "        params[i, j, :] = [n_a, n_b]\n",
    "\n",
    "min_arg = np.unravel_index(test_pred_NRMSs.argmin(keepdims=True), test_pred_NRMSs.shape)\n",
    "best_na, best_nb = params[min_arg].ravel()\n",
    "print(f\"Best parameters by prediction NRMS: na= {best_na}, nb= {best_nb}\")\n",
    "\n",
    "min_arg = np.unravel_index(test_sim_NRMSs.argmin(keepdims=True), test_sim_NRMSs.shape)\n",
    "best_na, best_nb = params[min_arg].ravel()\n",
    "print(f\"Best parameters by simulation NRMS: na= {best_na}, nb= {best_nb}\")"
   ]
  },
  {
   "cell_type": "code",
   "execution_count": 8,
   "id": "ccf6d809",
   "metadata": {},
   "outputs": [
    {
     "name": "stdout",
     "output_type": "stream",
     "text": [
      "Best test simulation NRMS found: 0.3079250409557008\n"
     ]
    }
   ],
   "source": [
    "print(f\"Best test simulation NRMS found: {test_sim_NRMSs[8, 1]}\")"
   ]
  },
  {
   "cell_type": "code",
   "execution_count": 9,
   "id": "9349dafd",
   "metadata": {},
   "outputs": [
    {
     "data": {
      "text/plain": [
       "array([[0.30976359, 0.31633818, 0.33511705, 0.35406577, 0.38066776,\n",
       "        0.38418334, 0.38522025, 0.38351582, 0.38355056],\n",
       "       [0.31252193, 0.3108793 , 0.3177166 , 0.32935231, 0.34563273,\n",
       "        0.35651605, 0.35611904, 0.35414874, 0.35548651],\n",
       "       [0.31481305, 0.31428513, 0.31951084, 0.32457108, 0.33962117,\n",
       "        0.3485385 , 0.35334828, 0.35064574, 0.35160167],\n",
       "       [0.30886547, 0.31267268, 0.32066499, 0.32530407, 0.33842618,\n",
       "        0.34561259, 0.34967435, 0.34960875, 0.35303205],\n",
       "       [0.30802911, 0.31121646, 0.32036315, 0.32744007, 0.3380234 ,\n",
       "        0.34311894, 0.34546819, 0.3443946 , 0.34692528],\n",
       "       [0.30677274, 0.30988579, 0.31813715, 0.32742911, 0.33757896,\n",
       "        0.34185899, 0.34219112, 0.34017087, 0.33989171],\n",
       "       [0.3061927 , 0.30909482, 0.31624966, 0.32548246, 0.33633254,\n",
       "        0.33926152, 0.33960859, 0.33696339, 0.3360368 ],\n",
       "       [0.30570219, 0.30816261, 0.31452934, 0.32320697, 0.33344067,\n",
       "        0.33647088, 0.33703382, 0.33483391, 0.33353662],\n",
       "       [0.30619571, 0.30792504, 0.31351289, 0.32130794, 0.33028767,\n",
       "        0.33336756, 0.33450173, 0.33313185, 0.33147066]])"
      ]
     },
     "execution_count": 9,
     "metadata": {},
     "output_type": "execute_result"
    }
   ],
   "source": [
    "test_sim_NRMSs"
   ]
  }
 ],
 "metadata": {
  "kernelspec": {
   "display_name": "Python 3 (ipykernel)",
   "language": "python",
   "name": "python3"
  },
  "language_info": {
   "codemirror_mode": {
    "name": "ipython",
    "version": 3
   },
   "file_extension": ".py",
   "mimetype": "text/x-python",
   "name": "python",
   "nbconvert_exporter": "python",
   "pygments_lexer": "ipython3",
   "version": "3.8.16"
  }
 },
 "nbformat": 4,
 "nbformat_minor": 5
}
