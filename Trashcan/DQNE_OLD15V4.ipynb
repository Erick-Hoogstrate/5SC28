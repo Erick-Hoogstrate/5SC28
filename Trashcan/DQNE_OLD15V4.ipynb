{
 "cells": [
  {
   "cell_type": "code",
   "execution_count": null,
   "id": "9b34da09",
   "metadata": {},
   "outputs": [],
   "source": [
    "import sys\n",
    "sys.path.append('gym-unbalanced-disk/gym_unbalanced_disk/')\n",
    "from torch import nn\n",
    "import torch, gym, gym_unbalanced_disk, time, gym.wrappers\n",
    "import numpy as np\n",
    "from matplotlib import pyplot as plt\n",
    "from copy import deepcopy\n",
    "import os\n",
    "import datetime"
   ]
  },
  {
   "attachments": {},
   "cell_type": "markdown",
   "id": "273de2f7",
   "metadata": {},
   "source": [
    "# QFUNCTION NOG AANPASSEN"
   ]
  },
  {
   "cell_type": "code",
   "execution_count": null,
   "id": "4b693827",
   "metadata": {},
   "outputs": [],
   "source": [
    "class Qfunction(nn.Module):\n",
    "    def __init__(self, env):\n",
    "        super(Qfunction,self).__init__()\n",
    "        self.lay1 = nn.Linear(env.observation_space.shape[0], 40)\n",
    "        self.F1 =  nn.Tanh() #a)\n",
    "        self.lay2 = nn.Linear(40,env.action_space.n)\n",
    "    \n",
    "    def forward(self, obs):\n",
    "        return self.lay2(self.F1(self.lay1(obs)))"
   ]
  },
  {
   "cell_type": "code",
   "execution_count": null,
   "id": "e83e83b3",
   "metadata": {},
   "outputs": [],
   "source": [
    "def show(Q,env):\n",
    "    u = []\n",
    "    theta = []\n",
    "    omega = []\n",
    "    with torch.no_grad():\n",
    "        #you can use Qfun(obs) as a shorthand for the q function.\n",
    "        Qfun = lambda x: Q(torch.tensor(x[None,:],dtype=torch.float32))[0].numpy() #convert x to torch.tensor -> put in the Q function -> back to numpy\n",
    "        try:\n",
    "            obs = env.reset() #b)\n",
    "            env.render() #b)\n",
    "            time.sleep(10) # give time to open window\n",
    "            while True: #b)\n",
    "                action = np.argmax(Qfun(obs)) #b)\n",
    "                obs, reward, done, info = env.step(action) #b)\n",
    "                time.sleep(1/60) #b)\n",
    "                env.render() #b)\n",
    "                u.append(env.u)\n",
    "                theta.append(env.th)\n",
    "                omega.append(env.omega)\n",
    "                if done: #b)\n",
    "                    time.sleep(0.5)  #b)\n",
    "                    break  #b)\n",
    "        finally: #this will always run even when an error occurs\n",
    "            env.close()\n",
    "            return u,theta,omega"
   ]
  },
  {
   "cell_type": "code",
   "execution_count": null,
   "id": "1eeb0f15",
   "metadata": {},
   "outputs": [],
   "source": [
    "def rollout(Q, env, epsilon=0.1, N_rollout=10_000): \n",
    "    #save the following (use .append)\n",
    "    Start_state = [] #hold an array of (x_t)\n",
    "    Actions = [] #hold an array of (u_t)\n",
    "    Rewards = [] #hold an array of (r_{t+1})\n",
    "    End_state = [] #hold an array of (x_{t+1})\n",
    "    Terminal = [] #hold an array of (terminal_{t+1})\n",
    "    # Qfun( a numpy array of the obs) -> a numpy array of Q values\n",
    "    Qfun = lambda x: Q(torch.tensor(x[None,:],dtype=torch.float32))[0].numpy() \n",
    "    with torch.no_grad():\n",
    "        \n",
    "        obs = env.reset() #c)\n",
    "        for i in range(N_rollout): #c)\n",
    "            if np.random.uniform()>epsilon: #c)\n",
    "                Qnow = Qfun(obs) #c)\n",
    "                action = np.argmax(Qnow) #c)\n",
    "            else: #c)\n",
    "                action = env.action_space.sample() #c)\n",
    "            Start_state.append(obs) #c)\n",
    "            Actions.append(action) #c)\n",
    "\n",
    "            obs_next, reward, done, info = env.step(action) #c)\n",
    "            terminal = done and not info.get('TimeLimit.truncated', False) #c)\n",
    "\n",
    "            Terminal.append(terminal) #c)\n",
    "            Rewards.append(reward) #c)\n",
    "            End_state.append(obs_next) #c)\n",
    "\n",
    "            if done: #c)\n",
    "                obs = env.reset() #c)\n",
    "            else: #c)\n",
    "                obs = obs_next #c)\n",
    "                \n",
    "    #error checking:\n",
    "    assert len(Start_state)==len(Actions)==len(Rewards)==len(End_state)==len(Terminal), f'error in lengths: {len(Start_state)}=={len(Actions)}=={len(Rewards)}=={len(End_state)}=={len(Dones)}'\n",
    "    return np.array(Start_state), np.array(Actions), np.array(Rewards), np.array(End_state), np.array(Terminal).astype(int)"
   ]
  },
  {
   "cell_type": "code",
   "execution_count": null,
   "id": "d6431873",
   "metadata": {},
   "outputs": [],
   "source": [
    "def eval_Q(Q,env):\n",
    "    with torch.no_grad():\n",
    "        Qfun = lambda x: Q(torch.tensor(x[None,:],dtype=torch.float32))[0].numpy()\n",
    "        rewards_acc = 0 #d)\n",
    "        obs = env.reset() #d)\n",
    "        while True: #d)\n",
    "            action = np.argmax(Qfun(obs)) #d)\n",
    "            obs, reward, done, info = env.step(action) #d)\n",
    "            rewards_acc += reward #d)\n",
    "            if done: #d)\n",
    "                return rewards_acc #d)"
   ]
  },
  {
   "cell_type": "code",
   "execution_count": null,
   "id": "0e55a71f",
   "metadata": {},
   "outputs": [],
   "source": [
    "def DQN_rollout(Q, optimizer, env, gamma=0.98, use_target_net=False, N_iterations=21, N_rollout=20000, \\\n",
    "                N_epochs=10, batch_size=32, N_evals=10, target_net_update_feq=100):\n",
    "    best = -float('inf')\n",
    "    torch.save(Q.state_dict(),'Q-checkpoint')\n",
    "    try:\n",
    "        for iteration in range(N_iterations):\n",
    "            epsilon = 1.0 - iteration/(N_iterations-1) #e=) 1.\n",
    "            print(f'rollout iteration {iteration} with epsilon={epsilon:.2%}...')\n",
    "            \n",
    "            #2. rollout\n",
    "            Start_state, Actions, Rewards, End_state, Dones = rollout(Q, env, epsilon=epsilon, N_rollout=N_rollout) #e) 2.\n",
    "            \n",
    "            #Data conversion, no changes required\n",
    "            convert = lambda x: [torch.tensor(xi,dtype=torch.float32) for xi in x]\n",
    "            Start_state, Rewards, End_state, Dones = convert([Start_state, Rewards, End_state, Dones])\n",
    "            Actions = Actions.astype(int)\n",
    "\n",
    "            print('starting training on rollout information...')\n",
    "            t = 0\n",
    "            for epoch in range(N_epochs): \n",
    "                for i in range(batch_size,len(Start_state)+1,batch_size): \n",
    "                    if t%target_net_update_feq==0:\n",
    "                        Qtarget = deepcopy(Q) #g)\n",
    "                        pass\n",
    "                    t += 1\n",
    "                    \n",
    "                    Start_state_batch, Actions_batch, Rewards_batch, End_state_batch, Dones_batch = [d[i-batch_size:i] for d in [Start_state, Actions, Rewards, End_state, Dones]] #e=) 3.\n",
    "                    \n",
    "                    with torch.no_grad(): #3.\n",
    "                        if use_target_net:\n",
    "                            maxQ = torch.max(Qtarget(End_state_batch),dim=1)[0] #g)\n",
    "                        else:\n",
    "                            maxQ = torch.max(Q(End_state_batch),dim=1)[0] #e=) 3.\n",
    "                    \n",
    "                    action_index = np.stack((np.arange(batch_size),Actions_batch),axis=0)\n",
    "                    Qnow = Q(Start_state_batch)[action_index] #Q(x_t,u_t) is given\n",
    "                    \n",
    "                    Loss = torch.mean((Rewards_batch + gamma*maxQ*(1-Dones_batch) - Qnow)**2) #e) 3.\n",
    "                    optimizer.zero_grad() #e) 3.\n",
    "                    Loss.backward() #e) 3.\n",
    "                    optimizer.step() #e) 3.\n",
    "                \n",
    "                score = np.mean([eval_Q(Q,env) for i in range(N_evals)]) #e=) 3.\n",
    "                \n",
    "                print(f'iteration={iteration} epoch={epoch} Average Reward per episode:',score)\n",
    "                if score>best:\n",
    "                    best = score\n",
    "                    print('################################# \\n new best',best,'saving Q... \\n#################################')\n",
    "                    torch.save(Q.state_dict(),'Q-checkpoint8')\n",
    "            \n",
    "            print('loading best result')\n",
    "            Q.load_state_dict(torch.load('Q-checkpoint8'))\n",
    "    finally: #this will always run even when using the a KeyBoard Interrupt. \n",
    "        print('loading best result')\n",
    "        Q.load_state_dict(torch.load('Q-checkpoint8'))"
   ]
  },
  {
   "cell_type": "code",
   "execution_count": null,
   "id": "ab7a990a",
   "metadata": {},
   "outputs": [],
   "source": [
    "target_angle = np.pi # target set to be balanced on top"
   ]
  },
  {
   "cell_type": "code",
   "execution_count": null,
   "id": "5be7795f",
   "metadata": {},
   "outputs": [],
   "source": [
    "angle_reward = lambda self: ((np.cos(self.th-target_angle)+1.5)**2 - 0.25)\n",
    "correctVelocity_reward = lambda self: 0.05*(((np.cos(self.th)+1)/2)*(self.omega)**2)\n",
    "voltage_penalty = lambda self: -0.05*((self.u)**2)\n",
    "incorrectAngle_penalty = lambda self: -0.5*np.abs(self.th-target_angle)\n",
    "\n",
    "reward_function = lambda self: angle_reward(self) + correctVelocity_reward(self) + voltage_penalty(self) + incorrectAngle_penalty(self)\n",
    "\n",
    "max_episode_steps = 300\n",
    "gamma = 0.98\n",
    "batch_size = 32\n",
    "N_iterations = 15\n",
    "N_rollout = 10000\n",
    "N_epochs = 10\n",
    "N_evals = 5\n",
    "lr = 0.0005"
   ]
  },
  {
   "cell_type": "code",
   "execution_count": null,
   "id": "5881133e",
   "metadata": {},
   "outputs": [],
   "source": [
    "env = gym.make('unbalanced-disk-sincos-v0', dt=0.025, umax=3.)\n",
    "env = gym.wrappers.time_limit.TimeLimit(env,max_episode_steps=max_episode_steps)\n",
    "env.change_reward_function(reward_function)"
   ]
  },
  {
   "cell_type": "code",
   "execution_count": null,
   "id": "503e3ed3",
   "metadata": {},
   "outputs": [],
   "source": [
    "# env.set_discrete_values(discrete_size = 9, minmax = 3.0, div = 2.5, rnd = 2)\n",
    "# env.set_discrete_values_manual([-3.0, -1.5, -0.75, -0.5, -0.25, -0.15, -0.1, 0, 0.1, 0.15, 0.25, 0.5, 0.75, 1.5, 3.0])\n",
    "env.set_discrete_values_manual([-3.0, -0.9, 0, 0.9, 3.0])"
   ]
  },
  {
   "cell_type": "code",
   "execution_count": 32,
   "id": "b0010be1",
   "metadata": {},
   "outputs": [
    {
     "name": "stdout",
     "output_type": "stream",
     "text": [
      "iteration=0 epoch=2 Average Reward per episode: -2994.219960408528\n",
      "iteration=0 epoch=3 Average Reward per episode: -3014.877466223915\n",
      "iteration=0 epoch=4 Average Reward per episode: -3014.632445685145\n",
      "iteration=0 epoch=5 Average Reward per episode: -3014.965152189867\n",
      "iteration=0 epoch=6 Average Reward per episode: -3077.53347423118\n",
      "iteration=0 epoch=7 Average Reward per episode: -3077.9337465025656\n",
      "iteration=0 epoch=8 Average Reward per episode: -3137.3279169666425\n",
      "iteration=0 epoch=9 Average Reward per episode: -3157.740318776585\n",
      "loading best result\n",
      "rollout iteration 1 with epsilon=92.86%...\n",
      "starting training on rollout information...\n",
      "iteration=1 epoch=0 Average Reward per episode: -2973.059762404349\n",
      "################################# \n",
      " new best -2973.059762404349 saving Q... \n",
      "#################################\n",
      "iteration=1 epoch=1 Average Reward per episode: -2994.4340343366557\n",
      "iteration=1 epoch=2 Average Reward per episode: -3014.89841967588\n",
      "iteration=1 epoch=3 Average Reward per episode: -3015.0706111879435\n",
      "iteration=1 epoch=4 Average Reward per episode: -3027.077663287716\n",
      "iteration=1 epoch=5 Average Reward per episode: -3026.7524928482394\n",
      "iteration=1 epoch=6 Average Reward per episode: -3087.95497225479\n",
      "iteration=1 epoch=7 Average Reward per episode: -3132.068810242369\n",
      "iteration=1 epoch=8 Average Reward per episode: -3132.2549272556776\n",
      "iteration=1 epoch=9 Average Reward per episode: -3130.6312192256873\n",
      "loading best result\n",
      "rollout iteration 2 with epsilon=85.71%...\n",
      "starting training on rollout information...\n",
      "iteration=2 epoch=0 Average Reward per episode: -2994.3194603575566\n",
      "iteration=2 epoch=1 Average Reward per episode: -2999.32267158241\n",
      "iteration=2 epoch=2 Average Reward per episode: -3014.934487893126\n",
      "iteration=2 epoch=3 Average Reward per episode: -3014.7572333966514\n",
      "iteration=2 epoch=4 Average Reward per episode: -3014.909582114476\n",
      "iteration=2 epoch=5 Average Reward per episode: -3033.3955282199095\n",
      "iteration=2 epoch=6 Average Reward per episode: -3033.152687375921\n",
      "iteration=2 epoch=7 Average Reward per episode: -3094.6207064156165\n",
      "iteration=2 epoch=8 Average Reward per episode: -3131.5801206495826\n",
      "iteration=2 epoch=9 Average Reward per episode: -471.2298474987521\n",
      "################################# \n",
      " new best -471.2298474987521 saving Q... \n",
      "#################################\n",
      "loading best result\n",
      "rollout iteration 3 with epsilon=78.57%...\n",
      "starting training on rollout information...\n",
      "iteration=3 epoch=0 Average Reward per episode: -3157.5542465354893\n",
      "iteration=3 epoch=1 Average Reward per episode: -3158.796416630171\n",
      "iteration=3 epoch=2 Average Reward per episode: -3158.795030324921\n",
      "iteration=3 epoch=3 Average Reward per episode: -3114.379196038854\n",
      "iteration=3 epoch=4 Average Reward per episode: -3049.499286136391\n",
      "iteration=3 epoch=5 Average Reward per episode: -3045.920706950938\n",
      "iteration=3 epoch=6 Average Reward per episode: -3045.925691970094\n",
      "iteration=3 epoch=7 Average Reward per episode: -1703.0174675632147\n",
      "iteration=3 epoch=8 Average Reward per episode: -1703.010378952063\n",
      "iteration=3 epoch=9 Average Reward per episode: -1689.6712803112969\n",
      "loading best result\n",
      "rollout iteration 4 with epsilon=71.43%...\n",
      "starting training on rollout information...\n",
      "iteration=4 epoch=0 Average Reward per episode: -3159.1289265588475\n",
      "iteration=4 epoch=1 Average Reward per episode: -3130.0190065398087\n",
      "iteration=4 epoch=2 Average Reward per episode: -3077.062281913525\n",
      "iteration=4 epoch=3 Average Reward per episode: -3051.957556140773\n",
      "iteration=4 epoch=4 Average Reward per episode: -1576.6700093575982\n",
      "iteration=4 epoch=5 Average Reward per episode: -1576.8897550423626\n",
      "iteration=4 epoch=6 Average Reward per episode: -1576.776409786547\n",
      "iteration=4 epoch=7 Average Reward per episode: -1576.7246124251667\n",
      "iteration=4 epoch=8 Average Reward per episode: -1486.2382368628973\n",
      "iteration=4 epoch=9 Average Reward per episode: -1486.403885719304\n",
      "loading best result\n",
      "rollout iteration 5 with epsilon=64.29%...\n",
      "starting training on rollout information...\n",
      "iteration=5 epoch=0 Average Reward per episode: -3131.0960093467597\n",
      "iteration=5 epoch=1 Average Reward per episode: -3130.6934151641935\n",
      "iteration=5 epoch=2 Average Reward per episode: -1522.499246729008\n",
      "iteration=5 epoch=3 Average Reward per episode: -1450.9891879385475\n",
      "iteration=5 epoch=4 Average Reward per episode: -1937.7975019695018\n",
      "iteration=5 epoch=5 Average Reward per episode: 692.1955659051389\n",
      "################################# \n",
      " new best 692.1955659051389 saving Q... \n",
      "#################################\n",
      "iteration=5 epoch=6 Average Reward per episode: 914.6206403414556\n",
      "################################# \n",
      " new best 914.6206403414556 saving Q... \n",
      "#################################\n",
      "iteration=5 epoch=7 Average Reward per episode: 783.2767041371438\n",
      "iteration=5 epoch=8 Average Reward per episode: 2274.7661326786974\n",
      "################################# \n",
      " new best 2274.7661326786974 saving Q... \n",
      "#################################\n",
      "iteration=5 epoch=9 Average Reward per episode: 2025.6574315174996\n",
      "loading best result\n",
      "rollout iteration 6 with epsilon=57.14%...\n",
      "starting training on rollout information...\n",
      "iteration=6 epoch=0 Average Reward per episode: -1544.2880429263412\n",
      "iteration=6 epoch=1 Average Reward per episode: -471.19792191438137\n",
      "iteration=6 epoch=2 Average Reward per episode: -471.3708607156511\n",
      "iteration=6 epoch=3 Average Reward per episode: -471.2705341111714\n",
      "iteration=6 epoch=4 Average Reward per episode: -471.21295155975184\n",
      "iteration=6 epoch=5 Average Reward per episode: -471.1953432970957\n",
      "iteration=6 epoch=6 Average Reward per episode: -471.09571334713127\n",
      "iteration=6 epoch=7 Average Reward per episode: -471.2755890086167\n",
      "iteration=6 epoch=8 Average Reward per episode: -471.31532369062006\n",
      "iteration=6 epoch=9 Average Reward per episode: -271.22507344356507\n",
      "loading best result\n",
      "rollout iteration 7 with epsilon=50.00%...\n",
      "starting training on rollout information...\n",
      "iteration=7 epoch=0 Average Reward per episode: -1645.212042074219\n",
      "iteration=7 epoch=1 Average Reward per episode: -1812.6434834690656\n",
      "iteration=7 epoch=2 Average Reward per episode: -1789.8731200346872\n",
      "iteration=7 epoch=3 Average Reward per episode: -1434.9926694216415\n",
      "iteration=7 epoch=4 Average Reward per episode: -1952.4637449951028\n",
      "iteration=7 epoch=5 Average Reward per episode: -1952.4889458944763\n",
      "iteration=7 epoch=6 Average Reward per episode: 208.58533117293172\n",
      "iteration=7 epoch=7 Average Reward per episode: 85.01030020615335\n",
      "iteration=7 epoch=8 Average Reward per episode: 274.12838747466674\n",
      "iteration=7 epoch=9 Average Reward per episode: 274.3215809529114\n",
      "loading best result\n",
      "rollout iteration 8 with epsilon=42.86%...\n",
      "starting training on rollout information...\n",
      "iteration=8 epoch=0 Average Reward per episode: -1696.0281527110444\n",
      "iteration=8 epoch=1 Average Reward per episode: -1812.5376600577606\n",
      "iteration=8 epoch=2 Average Reward per episode: -1812.7252144998965\n",
      "iteration=8 epoch=3 Average Reward per episode: -1665.8420537739207\n",
      "iteration=8 epoch=4 Average Reward per episode: -1813.8219673058386\n",
      "iteration=8 epoch=5 Average Reward per episode: -1096.9177266256606\n",
      "iteration=8 epoch=6 Average Reward per episode: -618.8627526559281\n",
      "iteration=8 epoch=7 Average Reward per episode: -618.8850209676632\n",
      "iteration=8 epoch=8 Average Reward per episode: -618.8509338563559\n",
      "iteration=8 epoch=9 Average Reward per episode: -618.8163042596987\n",
      "loading best result\n",
      "rollout iteration 9 with epsilon=35.71%...\n",
      "starting training on rollout information...\n",
      "iteration=9 epoch=0 Average Reward per episode: -2543.608643170265\n",
      "iteration=9 epoch=1 Average Reward per episode: -2525.535373381878\n",
      "iteration=9 epoch=2 Average Reward per episode: -2525.4841257669136\n",
      "iteration=9 epoch=3 Average Reward per episode: -2648.067869905163\n",
      "iteration=9 epoch=4 Average Reward per episode: -2648.0624335009425\n",
      "iteration=9 epoch=5 Average Reward per episode: -1075.5084961782836\n",
      "iteration=9 epoch=6 Average Reward per episode: -618.9109581213089\n",
      "iteration=9 epoch=7 Average Reward per episode: -618.7816982645007\n",
      "iteration=9 epoch=8 Average Reward per episode: -618.721125523866\n",
      "iteration=9 epoch=9 Average Reward per episode: -1011.914380455078\n",
      "loading best result\n",
      "rollout iteration 10 with epsilon=28.57%...\n",
      "starting training on rollout information...\n",
      "iteration=10 epoch=0 Average Reward per episode: -2394.623846208229\n",
      "iteration=10 epoch=1 Average Reward per episode: -2394.6254170970674\n",
      "iteration=10 epoch=2 Average Reward per episode: -2394.663482645739\n",
      "iteration=10 epoch=3 Average Reward per episode: -2543.6048234239083\n",
      "iteration=10 epoch=4 Average Reward per episode: -2543.2340837214733\n",
      "iteration=10 epoch=5 Average Reward per episode: -2570.3962393444936\n",
      "iteration=10 epoch=6 Average Reward per episode: -2570.283594309271\n",
      "iteration=10 epoch=7 Average Reward per episode: -808.122952071303\n",
      "iteration=10 epoch=8 Average Reward per episode: -566.0083972536966\n",
      "iteration=10 epoch=9 Average Reward per episode: -1011.81572339123\n",
      "loading best result\n",
      "rollout iteration 11 with epsilon=21.43%...\n",
      "starting training on rollout information...\n",
      "iteration=11 epoch=0 Average Reward per episode: -2543.5942934138584\n",
      "iteration=11 epoch=1 Average Reward per episode: -2444.853747208245\n",
      "iteration=11 epoch=2 Average Reward per episode: -2543.4840663842238\n",
      "iteration=11 epoch=3 Average Reward per episode: -2543.4425318643393\n",
      "iteration=11 epoch=4 Average Reward per episode: -630.6218814521469\n",
      "iteration=11 epoch=5 Average Reward per episode: -239.49194735589126\n",
      "iteration=11 epoch=6 Average Reward per episode: -239.40966989554167\n",
      "iteration=11 epoch=7 Average Reward per episode: -356.6264609038647\n",
      "iteration=11 epoch=8 Average Reward per episode: -213.73754054477172\n",
      "iteration=11 epoch=9 Average Reward per episode: 1478.0241136770876\n",
      "loading best result\n",
      "rollout iteration 12 with epsilon=14.29%...\n",
      "starting training on rollout information...\n",
      "iteration=12 epoch=0 Average Reward per episode: -3524.484330890875\n",
      "iteration=12 epoch=1 Average Reward per episode: -4848.795286116581\n",
      "iteration=12 epoch=2 Average Reward per episode: -5868.561371572636\n",
      "iteration=12 epoch=3 Average Reward per episode: -5857.039061300776\n",
      "iteration=12 epoch=4 Average Reward per episode: -5077.428839255197\n",
      "iteration=12 epoch=5 Average Reward per episode: -4699.720781880848\n",
      "iteration=12 epoch=6 Average Reward per episode: -3789.403342847104\n",
      "iteration=12 epoch=7 Average Reward per episode: -1770.8739518484376\n",
      "iteration=12 epoch=8 Average Reward per episode: 4188.972461225711\n",
      "################################# \n",
      " new best 4188.972461225711 saving Q... \n",
      "#################################\n",
      "iteration=12 epoch=9 Average Reward per episode: 3230.880611002485\n",
      "loading best result\n",
      "rollout iteration 13 with epsilon=7.14%...\n",
      "starting training on rollout information...\n",
      "iteration=13 epoch=0 Average Reward per episode: 2726.9550758040473\n",
      "iteration=13 epoch=1 Average Reward per episode: 2726.9916683071024\n",
      "iteration=13 epoch=2 Average Reward per episode: 2715.6260472150307\n",
      "iteration=13 epoch=3 Average Reward per episode: 2821.213807964633\n",
      "iteration=13 epoch=4 Average Reward per episode: 2780.73622148426\n",
      "iteration=13 epoch=5 Average Reward per episode: 2769.084855771931\n",
      "iteration=13 epoch=6 Average Reward per episode: 2621.096566354544\n",
      "iteration=13 epoch=7 Average Reward per episode: 2463.5509731274556\n",
      "iteration=13 epoch=8 Average Reward per episode: 2631.13040732792\n",
      "iteration=13 epoch=9 Average Reward per episode: 2715.8296167774265\n",
      "loading best result\n",
      "rollout iteration 14 with epsilon=0.00%...\n",
      "starting training on rollout information...\n",
      "iteration=14 epoch=0 Average Reward per episode: 5251.217155931709\n",
      "################################# \n",
      " new best 5251.217155931709 saving Q... \n",
      "#################################\n",
      "iteration=14 epoch=1 Average Reward per episode: 3805.777697431398\n",
      "iteration=14 epoch=2 Average Reward per episode: 4384.743050345742\n",
      "iteration=14 epoch=3 Average Reward per episode: 5251.24805053777\n",
      "################################# \n",
      " new best 5251.24805053777 saving Q... \n",
      "#################################\n",
      "iteration=14 epoch=4 Average Reward per episode: 5251.228506034678\n",
      "iteration=14 epoch=5 Average Reward per episode: 5251.229704834737\n",
      "iteration=14 epoch=6 Average Reward per episode: 5251.219706402335\n",
      "iteration=14 epoch=7 Average Reward per episode: 5251.203397771633\n",
      "iteration=14 epoch=8 Average Reward per episode: 5251.20716346118\n",
      "iteration=14 epoch=9 Average Reward per episode: 5251.194179428448\n",
      "loading best result\n",
      "loading best result\n"
     ]
    }
   ],
   "source": [
    "assert isinstance(env.action_space,gym.spaces.Discrete), 'action space requires to be discrete'\n",
    "Q = Qfunction(env)\n",
    "optimizer = torch.optim.Adam(Q.parameters(),lr=lr) #low learning rate\n",
    "DQN_rollout(Q, optimizer, env, use_target_net=True, gamma=gamma, N_iterations=N_iterations, \\\n",
    "            N_rollout=N_rollout, N_epochs=N_epochs, N_evals=N_evals)"
   ]
  },
  {
   "cell_type": "code",
   "execution_count": 33,
   "id": "63af2e56",
   "metadata": {},
   "outputs": [],
   "source": [
    "# # reward_function =  lambda self: np.exp(-(self.th%(2*np.pi)-np.pi)**2/(2*(np.pi/7)**2))\n",
    "# # reward_function =  lambda self: (np.cos(self.th - target_angle)+1)**2  - np.cos(self.th-(np.pi+target_angle)) - 0.01*(self.omega)**2 - 0.01*(self.u)**2\n",
    "# # reward_function =  lambda self: ((np.cos(self.th-target_angle)+1.5)**2 - 0.25) + 0.00125*(((np.cos(self.th)+1)/2)*(self.omega)**2) - 0.0075*((self.u)**2) - 0.0025*((self.omega)**2)\n",
    "\n",
    "# # Washing machine (Qfunction2)\n",
    "# # reward_function = lambda self: np.exp(-(self.th % (2 * np.pi) - np.pi) ** 2 / (2 * (np.pi / 7) ** 2)) + (1.0 if np.abs(self.th % (2 * np.pi) - np.pi) < np.pi / 2 else 0.0) - 0.001 * self.u ** 2\n",
    "# # stuck at u=3\n",
    "# # reward_function = lambda self: ((np.cos(self.th-target_angle)+1.6)** 2 - 0.25) - 0.0025*(self.omega)** 2 - 0.0075*(self.u)**2\n",
    "\n",
    "# # reward_function = lambda self: np.exp(-(self.th % (2 * np.pi) - np.pi) ** 2 / (2 * (np.pi / 7) ** 2)) + (1.0 if np.abs(self.th % (2 * np.pi) - np.pi) < np.pi / 2 else -0.5) - 0.001 * self.u ** 2\n",
    "\n",
    "# # Yann best\n",
    "# reward_function =  lambda self: ((np.cos(self.th-target_angle)+1.5)**2 - 0.25) + 0.00125*(((np.cos(self.th)+1)/2)*(self.omega)**2) - 0.01*((self.u)**2)"
   ]
  },
  {
   "cell_type": "code",
   "execution_count": 34,
   "id": "180bf35c",
   "metadata": {},
   "outputs": [],
   "source": [
    "u,theta,omega = show(Q,env)"
   ]
  },
  {
   "cell_type": "code",
   "execution_count": 35,
   "id": "f026d854",
   "metadata": {},
   "outputs": [
    {
     "data": {
      "image/png": "[encoded data removed]",
      "text/plain": [
       "<Figure size 1200x400 with 3 Axes>"
      ]
     },
     "metadata": {},
     "output_type": "display_data"
    }
   ],
   "source": [
    "target_angle = np.pi # target set to be balanced on top\n",
    "\n",
    "# Create a figure with three subplots\n",
    "fig, axs = plt.subplots(1, 3, figsize=(12, 4))\n",
    "\n",
    "# Plot theta\n",
    "axs[0].plot([i*env.dt for i in range(max_episode_steps)], theta, '.')\n",
    "axs[0].set_title('Theta')\n",
    "axs[0].set_xlabel('Time (s)')\n",
    "axs[0].set_ylabel('Angle (Rad)')\n",
    "axs[0].axhline(y=target_angle, color='r', linestyle='-')\n",
    "axs[0].axhline(y=-target_angle, color='r', linestyle='-')\n",
    "axs[0].grid(True)\n",
    "\n",
    "# Plot u\n",
    "axs[1].plot([i*env.dt for i in range(max_episode_steps)], u, '.')\n",
    "axs[1].set_title('u')\n",
    "axs[1].set_xlabel('Time (s)')\n",
    "axs[1].set_ylabel('Input voltage (V)')\n",
    "axs[1].grid(True)\n",
    "\n",
    "# Plot omega\n",
    "axs[2].plot([i*env.dt for i in range(max_episode_steps)], omega, '.')\n",
    "axs[2].set_title('Omega')\n",
    "axs[2].set_xlabel('Time (s)')\n",
    "axs[2].set_ylabel('Angular velocity (rad/s)')\n",
    "axs[2].grid(True)\n",
    "\n",
    "# Adjust spacing between subplots\n",
    "plt.tight_layout()\n",
    "\n",
    "# Show the plot\n",
    "plt.show()"
   ]
  },
  {
   "cell_type": "code",
   "execution_count": 36,
   "id": "21de9071",
   "metadata": {},
   "outputs": [],
   "source": [
    "# Save Q to a file\n",
    "date = datetime.datetime.now().strftime(\"%d_%H_%M\")\n",
    "torch.save(Q.state_dict(), 'Qfunction' + date + '.pt')"
   ]
  },
  {
   "cell_type": "code",
   "execution_count": 37,
   "id": "8139785d",
   "metadata": {},
   "outputs": [
    {
     "data": {
      "text/plain": [
       "5251.174268616066"
      ]
     },
     "execution_count": 37,
     "metadata": {},
     "output_type": "execute_result"
    }
   ],
   "source": [
    "eval_Q(Q,env)"
   ]
  },
  {
   "cell_type": "code",
   "execution_count": 38,
   "id": "dc7a5889",
   "metadata": {},
   "outputs": [
    {
     "data": {
      "image/png": "[encoded data removed]",
      "text/plain": [
       "<Figure size 640x480 with 1 Axes>"
      ]
     },
     "metadata": {},
     "output_type": "display_data"
    }
   ],
   "source": [
    "Rewards = [eval_Q(Q,env) for i in range(100)]\n",
    "plt.plot(Rewards,'.')\n",
    "plt.title(f'mean={np.mean(Rewards)}')\n",
    "plt.xlabel('instance')\n",
    "plt.ylabel('Reward per episode')\n",
    "plt.show()"
   ]
  },
  {
   "cell_type": "code",
   "execution_count": 39,
   "id": "617e0298",
   "metadata": {},
   "outputs": [
    {
     "data": {
      "image/png": "[encoded data removed]",
      "text/plain": [
       "<Figure size 640x480 with 1 Axes>"
      ]
     },
     "metadata": {},
     "output_type": "display_data"
    }
   ],
   "source": [
    "Rewards = [eval_Q(Q,env) for i in range(100)]\n",
    "plt.plot(Rewards,'.')\n",
    "plt.title(f'mean={np.mean(Rewards)}')\n",
    "plt.xlabel('instance')\n",
    "plt.ylabel('Reward per episode')\n",
    "plt.ylim(np.min(Rewards)-2.5, np.max(Rewards)+2.5)\n",
    "plt.axhline(y=np.mean(Rewards), color='r', linestyle='-')\n",
    "plt.grid(True)\n",
    "plt.show()"
   ]
  },
  {
   "cell_type": "code",
   "execution_count": 40,
   "id": "53918060",
   "metadata": {},
   "outputs": [
    {
     "data": {
      "text/plain": [
       "Qfunction(\n",
       "  (lay1): Linear(in_features=3, out_features=40, bias=True)\n",
       "  (F1): Tanh()\n",
       "  (lay2): Linear(in_features=40, out_features=5, bias=True)\n",
       ")"
      ]
     },
     "execution_count": 40,
     "metadata": {},
     "output_type": "execute_result"
    }
   ],
   "source": [
    "Q"
   ]
  },
  {
   "cell_type": "code",
   "execution_count": 41,
   "id": "c0b8e503",
   "metadata": {},
   "outputs": [
    {
     "data": {
      "text/plain": [
       "5"
      ]
     },
     "execution_count": 41,
     "metadata": {},
     "output_type": "execute_result"
    }
   ],
   "source": [
    "env.action_space.n"
   ]
  }
 ],
 "metadata": {
  "kernelspec": {
   "display_name": "Python 3 (ipykernel)",
   "language": "python",
   "name": "python3"
  },
  "language_info": {
   "codemirror_mode": {
    "name": "ipython",
    "version": 3
   },
   "file_extension": ".py",
   "mimetype": "text/x-python",
   "name": "python",
   "nbconvert_exporter": "python",
   "pygments_lexer": "ipython3",
   "version": "3.8.16"
  }
 },
 "nbformat": 4,
 "nbformat_minor": 5
}
