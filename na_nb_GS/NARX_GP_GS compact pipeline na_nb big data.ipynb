{
 "cells": [
  {
   "attachments": {},
   "cell_type": "markdown",
   "id": "4d7fdd8c",
   "metadata": {},
   "source": [
    "# NARX GP Grid Search"
   ]
  },
  {
   "cell_type": "code",
   "execution_count": 1,
   "id": "62974d8c",
   "metadata": {},
   "outputs": [],
   "source": [
    "import pandas as pd\n",
    "import numpy as np\n",
    "import torch\n",
    "from torch import nn\n",
    "from matplotlib import pyplot as plt\n",
    "\n",
    "from sklearn.gaussian_process import GaussianProcessRegressor\n",
    "from sklearn.gaussian_process.kernels import RBF, WhiteKernel, RationalQuadratic, Product\n",
    "\n",
    "from scipy.sparse import csr_matrix\n",
    "\n",
    "from data import load_narx_data, load_data\n",
    "from util_fun import calculate_error_nrms, use_NARX_model_in_simulation, plot_NRMS_Pred_vs_Sim"
   ]
  },
  {
   "attachments": {},
   "cell_type": "markdown",
   "id": "036d2481",
   "metadata": {},
   "source": [
    "### Chang settings for gridsearch here"
   ]
  },
  {
   "cell_type": "code",
   "execution_count": 2,
   "id": "97c09dc3",
   "metadata": {},
   "outputs": [],
   "source": [
    "# Initialize stationary parameters\n",
    "\n",
    "Split = [0.6, 0.2, 0.2] # split; [training, validation, test]\n",
    "total_number_of_points = 300 # total number of points to consider from the larger dataset (starting from index 0)\n",
    "\n",
    "na_list=[*range(2,11)]\n",
    "nb_list=[*range(2,6)]\n",
    "restarts = 0\n",
    "\n",
    "val_pred_NRMSs=np.ndarray((len(na_list),len(nb_list)))\n",
    "val_sim_NRMSs=np.ndarray((len(na_list),len(nb_list)))\n",
    "test_pred_NRMSs=np.ndarray((len(na_list),len(nb_list)))\n",
    "test_sim_NRMSs=np.ndarray((len(na_list),len(nb_list)))"
   ]
  },
  {
   "attachments": {},
   "cell_type": "markdown",
   "id": "65cd611d",
   "metadata": {},
   "source": [
    "## Define your kernel here"
   ]
  },
  {
   "cell_type": "code",
   "execution_count": 3,
   "id": "a6b13d73",
   "metadata": {},
   "outputs": [],
   "source": [
    "kernel = RBF(length_scale_bounds=[1e-2,1e2]) + WhiteKernel(noise_level_bounds=[1e-10,1e3])\n",
    "reg = GaussianProcessRegressor(kernel, n_restarts_optimizer=restarts)"
   ]
  },
  {
   "cell_type": "code",
   "execution_count": 4,
   "id": "7853ccc2",
   "metadata": {},
   "outputs": [
    {
     "name": "stdout",
     "output_type": "stream",
     "text": [
      "Using 180 datapoints for training set\n"
     ]
    }
   ],
   "source": [
    "#Load normal data\n",
    "Xtrain,Ytrain = load_data(section=\"train\", split=Split, total_number_of_points=total_number_of_points, as_tensor=False)\n",
    "Xval,Yval = load_data(section=\"validation\", split=Split, total_number_of_points=total_number_of_points, as_tensor=False)\n",
    "Xtest,Ytest = load_data(section=\"test\", split=Split, total_number_of_points=total_number_of_points, as_tensor=False)"
   ]
  },
  {
   "cell_type": "code",
   "execution_count": 5,
   "id": "e114a545",
   "metadata": {},
   "outputs": [
    {
     "name": "stdout",
     "output_type": "stream",
     "text": [
      "Currently running: na= 2, nb= 2\n",
      "Using 180 datapoints for training set\n",
      "RBF(length_scale=3.97) + WhiteKernel(noise_level=1.02e-05)\n",
      "Currently running: na= 2, nb= 3\n",
      "Using 180 datapoints for training set\n",
      "RBF(length_scale=5.6) + WhiteKernel(noise_level=1.61e-05)\n",
      "Currently running: na= 2, nb= 4\n",
      "Using 180 datapoints for training set\n",
      "RBF(length_scale=6.82) + WhiteKernel(noise_level=1.75e-05)\n",
      "Currently running: na= 2, nb= 5\n",
      "Using 180 datapoints for training set\n",
      "RBF(length_scale=7.5) + WhiteKernel(noise_level=1.54e-05)\n",
      "Currently running: na= 3, nb= 2\n",
      "Using 180 datapoints for training set\n",
      "RBF(length_scale=4.47) + WhiteKernel(noise_level=9.93e-06)\n",
      "Currently running: na= 3, nb= 3\n",
      "Using 180 datapoints for training set\n",
      "RBF(length_scale=7.11) + WhiteKernel(noise_level=1.4e-05)\n",
      "Currently running: na= 3, nb= 4\n",
      "Using 180 datapoints for training set\n",
      "RBF(length_scale=9.05) + WhiteKernel(noise_level=1.56e-05)\n",
      "Currently running: na= 3, nb= 5\n",
      "Using 180 datapoints for training set\n",
      "RBF(length_scale=10) + WhiteKernel(noise_level=1.32e-05)\n",
      "Currently running: na= 4, nb= 2\n",
      "Using 180 datapoints for training set\n",
      "RBF(length_scale=4.96) + WhiteKernel(noise_level=8.43e-06)\n",
      "Currently running: na= 4, nb= 3\n",
      "Using 180 datapoints for training set\n",
      "RBF(length_scale=6.96) + WhiteKernel(noise_level=1.15e-05)\n",
      "Currently running: na= 4, nb= 4\n",
      "Using 180 datapoints for training set\n",
      "RBF(length_scale=10.3) + WhiteKernel(noise_level=1.85e-05)\n",
      "Currently running: na= 4, nb= 5\n",
      "Using 180 datapoints for training set\n",
      "RBF(length_scale=11.4) + WhiteKernel(noise_level=1.61e-05)\n",
      "Currently running: na= 5, nb= 2\n",
      "Using 180 datapoints for training set\n",
      "RBF(length_scale=5.35) + WhiteKernel(noise_level=8.25e-06)\n",
      "Currently running: na= 5, nb= 3\n",
      "Using 180 datapoints for training set\n",
      "RBF(length_scale=7.28) + WhiteKernel(noise_level=1.12e-05)\n",
      "Currently running: na= 5, nb= 4\n",
      "Using 180 datapoints for training set\n",
      "RBF(length_scale=10.4) + WhiteKernel(noise_level=1.91e-05)\n",
      "Currently running: na= 5, nb= 5\n",
      "Using 180 datapoints for training set\n",
      "RBF(length_scale=12.2) + WhiteKernel(noise_level=1.99e-05)\n",
      "Currently running: na= 6, nb= 2\n",
      "Using 180 datapoints for training set\n",
      "RBF(length_scale=5.75) + WhiteKernel(noise_level=8.12e-06)\n",
      "Currently running: na= 6, nb= 3\n",
      "Using 180 datapoints for training set\n",
      "RBF(length_scale=7.41) + WhiteKernel(noise_level=9.91e-06)\n",
      "Currently running: na= 6, nb= 4\n",
      "Using 180 datapoints for training set\n",
      "RBF(length_scale=10.5) + WhiteKernel(noise_level=1.75e-05)\n",
      "Currently running: na= 6, nb= 5\n",
      "Using 180 datapoints for training set\n",
      "RBF(length_scale=12.4) + WhiteKernel(noise_level=2e-05)\n",
      "Currently running: na= 7, nb= 2\n",
      "Using 180 datapoints for training set\n",
      "RBF(length_scale=6.07) + WhiteKernel(noise_level=8.28e-06)\n",
      "Currently running: na= 7, nb= 3\n",
      "Using 180 datapoints for training set\n",
      "RBF(length_scale=7.93) + WhiteKernel(noise_level=1.06e-05)\n",
      "Currently running: na= 7, nb= 4\n",
      "Using 180 datapoints for training set\n",
      "RBF(length_scale=10.7) + WhiteKernel(noise_level=1.71e-05)\n",
      "Currently running: na= 7, nb= 5\n",
      "Using 180 datapoints for training set\n",
      "RBF(length_scale=12.5) + WhiteKernel(noise_level=1.92e-05)\n",
      "Currently running: na= 8, nb= 2\n",
      "Using 180 datapoints for training set\n",
      "RBF(length_scale=6.31) + WhiteKernel(noise_level=8.04e-06)\n",
      "Currently running: na= 8, nb= 3\n",
      "Using 180 datapoints for training set\n",
      "RBF(length_scale=8.43) + WhiteKernel(noise_level=1.14e-05)\n",
      "Currently running: na= 8, nb= 4\n",
      "Using 180 datapoints for training set\n",
      "RBF(length_scale=10.8) + WhiteKernel(noise_level=1.6e-05)\n",
      "Currently running: na= 8, nb= 5\n",
      "Using 180 datapoints for training set\n",
      "RBF(length_scale=12.6) + WhiteKernel(noise_level=1.85e-05)\n",
      "Currently running: na= 9, nb= 2\n",
      "Using 180 datapoints for training set\n",
      "RBF(length_scale=6.38) + WhiteKernel(noise_level=7.63e-06)\n",
      "Currently running: na= 9, nb= 3\n",
      "Using 180 datapoints for training set\n",
      "RBF(length_scale=8.91) + WhiteKernel(noise_level=1.21e-05)\n",
      "Currently running: na= 9, nb= 4\n",
      "Using 180 datapoints for training set\n",
      "RBF(length_scale=11.1) + WhiteKernel(noise_level=1.56e-05)\n",
      "Currently running: na= 9, nb= 5\n",
      "Using 180 datapoints for training set\n",
      "RBF(length_scale=12.8) + WhiteKernel(noise_level=1.73e-05)\n",
      "Currently running: na= 10, nb= 2\n",
      "Using 180 datapoints for training set\n",
      "RBF(length_scale=6.58) + WhiteKernel(noise_level=7.77e-06)\n",
      "Currently running: na= 10, nb= 3\n",
      "Using 180 datapoints for training set\n",
      "RBF(length_scale=9.24) + WhiteKernel(noise_level=1.28e-05)\n",
      "Currently running: na= 10, nb= 4\n",
      "Using 180 datapoints for training set\n",
      "RBF(length_scale=11.3) + WhiteKernel(noise_level=1.55e-05)\n",
      "Currently running: na= 10, nb= 5\n",
      "Using 180 datapoints for training set\n",
      "RBF(length_scale=12.8) + WhiteKernel(noise_level=1.64e-05)\n"
     ]
    }
   ],
   "source": [
    "for i, n_a in enumerate(na_list):\n",
    "    for j, n_b in enumerate(nb_list):\n",
    "        \n",
    "        print(f\"Currently running: na= {n_a}, nb= {n_b}\")\n",
    "        \n",
    "        #Construct NARX data\n",
    "        Xtrain_NARX,Ytrain_NARX = load_narx_data(n_a, n_b, total_number_of_points, section=\"train\", split=Split, as_tensor=False)\n",
    "        Xval_NARX,Yval_NARX = load_narx_data(n_a, n_b, total_number_of_points, section=\"validation\", split=Split, as_tensor=False)\n",
    "        Xtest_NARX,Ytest_NARX = load_narx_data(n_a, n_b, total_number_of_points, section=\"test\", split=Split, as_tensor=False)\n",
    "        \n",
    "\n",
    "        #Convert to sparce matrices\n",
    "        XtrainSparse = csr_matrix(Xtrain_NARX).toarray()\n",
    "        YtrainSparse = csr_matrix(Ytrain_NARX).toarray().transpose()\n",
    "\n",
    "        #Fit the GP\n",
    "        reg.fit(XtrainSparse, YtrainSparse)\n",
    "        print(reg.kernel_)\n",
    "        \n",
    "        #Initialize parameters for simulation\n",
    "        fmodel = lambda u,y: reg.predict(np.concatenate([u,y])[None,:])[0] \n",
    "        \n",
    "        #Prediction on validation set\n",
    "        Yval_pred, Yval_pred_std = reg.predict(Xval_NARX,return_std=True)\n",
    "        \n",
    "        #Simulation on validation set\n",
    "        Yval_sim = use_NARX_model_in_simulation(Xval, fmodel, n_a, n_b)\n",
    "        \n",
    "        #Prediction on test set\n",
    "        Ytest_pred, Ytest_pred_std = reg.predict(Xtest_NARX,return_std=True)\n",
    "        \n",
    "        #Simulation on test set\n",
    "        Ytest_sim = use_NARX_model_in_simulation(Xtest, fmodel, n_a, n_b)\n",
    "        \n",
    "        #Store results\n",
    "        val_pred_NRMSs[i,j] = calculate_error_nrms(Yval_pred, Yval_NARX)\n",
    "        val_sim_NRMSs[i,j] = calculate_error_nrms(Yval_sim, Yval)\n",
    "        test_pred_NRMSs[i,j] = calculate_error_nrms(Ytest_pred, Ytest_NARX)\n",
    "        test_sim_NRMSs[i,j] = calculate_error_nrms(Ytest_sim, Ytest)"
   ]
  },
  {
   "attachments": {},
   "cell_type": "markdown",
   "id": "93dc64c3",
   "metadata": {},
   "source": [
    "# Validation data"
   ]
  },
  {
   "cell_type": "code",
   "execution_count": 6,
   "id": "67785fff",
   "metadata": {},
   "outputs": [
    {
     "name": "stderr",
     "output_type": "stream",
     "text": [
      "c:\\Users\\20191695\\Desktop\\TUe\\Master\\Year1\\Q4\\5SC28\\5SC28\\util_fun.py:47: UserWarning: FixedFormatter should only be used together with FixedLocator\n",
      "  ax1.set_yticklabels([0]+na_list)\n",
      "c:\\Users\\20191695\\Desktop\\TUe\\Master\\Year1\\Q4\\5SC28\\5SC28\\util_fun.py:49: UserWarning: FixedFormatter should only be used together with FixedLocator\n",
      "  ax2.set_yticklabels([0]+na_list)\n"
     ]
    },
    {
     "name": "stdout",
     "output_type": "stream",
     "text": [
      "Best parameters by prediction NRMS: na= 6, nb= 2\n",
      "Best parameters by simulation NRMS: na= 2, nb= 2\n"
     ]
    },
    {
     "data": {
      "image/png": "[encoded data removed]",
      "text/plain": [
       "<Figure size 1500x500 with 2 Axes>"
      ]
     },
     "metadata": {},
     "output_type": "display_data"
    }
   ],
   "source": [
    "best_na_nb_val_pred, best_na_nb_val_sim = plot_NRMS_Pred_vs_Sim(val_pred_NRMSs, val_sim_NRMSs, na_list, nb_list)"
   ]
  },
  {
   "attachments": {},
   "cell_type": "markdown",
   "id": "5e39ed47",
   "metadata": {},
   "source": [
    "# Test data"
   ]
  },
  {
   "cell_type": "code",
   "execution_count": 7,
   "id": "c13df093",
   "metadata": {},
   "outputs": [
    {
     "name": "stdout",
     "output_type": "stream",
     "text": [
      "Best parameters by prediction NRMS: na= 5, nb= 2\n",
      "Best parameters by simulation NRMS: na= 6, nb= 2\n"
     ]
    },
    {
     "data": {
      "image/png": "[encoded data removed]",
      "text/plain": [
       "<Figure size 1500x500 with 2 Axes>"
      ]
     },
     "metadata": {},
     "output_type": "display_data"
    }
   ],
   "source": [
    "best_na_nb_test_pred, best_na_nb_test_sim = plot_NRMS_Pred_vs_Sim(test_pred_NRMSs, test_sim_NRMSs, na_list, nb_list)"
   ]
  },
  {
   "cell_type": "code",
   "execution_count": 8,
   "id": "ccf6d809",
   "metadata": {},
   "outputs": [
    {
     "name": "stdout",
     "output_type": "stream",
     "text": [
      "Best test prediction NRMS found: 1.1902366553301469\n",
      "Best test simulation NRMS found: 14.288884923106204\n"
     ]
    }
   ],
   "source": [
    "print(f\"Best test prediction NRMS found: {test_pred_NRMSs.min()}\")\n",
    "print(f\"Best test simulation NRMS found: {test_sim_NRMSs.min()}\")"
   ]
  },
  {
   "attachments": {},
   "cell_type": "markdown",
   "id": "14a72ec3",
   "metadata": {},
   "source": [
    "# Run best na and nb again on larger dataset"
   ]
  },
  {
   "attachments": {},
   "cell_type": "markdown",
   "id": "284c8148",
   "metadata": {},
   "source": [
    "### Change settings for optimization"
   ]
  },
  {
   "cell_type": "code",
   "execution_count": 9,
   "id": "b20b48f3",
   "metadata": {},
   "outputs": [],
   "source": [
    "n_a, n_b = best_na_nb_val_sim\n",
    "Split = [0.6, 0.2, 0.2] # split; [training, validation, test]\n",
    "total_number_of_points = [1000, 3000, 5000, 10000] # total number of points to consider from the larger dataset (starting from index 0)\n",
    "restart = [1,5,10]"
   ]
  },
  {
   "cell_type": "code",
   "execution_count": 10,
   "id": "a6674f51",
   "metadata": {},
   "outputs": [
    {
     "name": "stdout",
     "output_type": "stream",
     "text": [
      "Going to use na=2 and nb=2\n"
     ]
    }
   ],
   "source": [
    "print('Going to use na={} and nb={}'.format(n_a,n_b))"
   ]
  },
  {
   "cell_type": "code",
   "execution_count": 11,
   "id": "14c8275b",
   "metadata": {},
   "outputs": [],
   "source": [
    "NRMS_train_pred = np.ndarray((len(total_number_of_points),len(restart)))\n",
    "NRMS_train_sim = np.ndarray((len(total_number_of_points),len(restart)))\n",
    "NRMS_val_pred = np.ndarray((len(total_number_of_points),len(restart)))\n",
    "NRMS_val_sim = np.ndarray((len(total_number_of_points),len(restart)))\n",
    "NRMS_test_pred = np.ndarray((len(total_number_of_points),len(restart)))\n",
    "NRMS_test_sim = np.ndarray((len(total_number_of_points),len(restart)))"
   ]
  },
  {
   "cell_type": "code",
   "execution_count": 12,
   "id": "9e19318d",
   "metadata": {},
   "outputs": [
    {
     "name": "stdout",
     "output_type": "stream",
     "text": [
      "Using 600 datapoints for training set\n",
      "RBF(length_scale=4.33) + WhiteKernel(noise_level=1.19e-05)\n",
      "Train prediction NRMS: 0.94 %\n",
      "Validation prediction NRMS: 1.49 %\n",
      "Test prediction NRMS: 0.94 %\n",
      "Using 600 datapoints for training set\n",
      "Train simulation NRMS: 9.18 %\n",
      "Validation simulation NRMS: 33.72 %\n",
      "Test simulation NRMS: 20.85 %\n",
      "Using 600 datapoints for training set\n",
      "RBF(length_scale=4.33) + WhiteKernel(noise_level=1.19e-05)\n",
      "Train prediction NRMS: 0.94 %\n",
      "Validation prediction NRMS: 1.49 %\n",
      "Test prediction NRMS: 0.94 %\n",
      "Using 600 datapoints for training set\n",
      "Train simulation NRMS: 9.18 %\n",
      "Validation simulation NRMS: 33.72 %\n",
      "Test simulation NRMS: 20.85 %\n",
      "Using 600 datapoints for training set\n",
      "RBF(length_scale=4.33) + WhiteKernel(noise_level=1.19e-05)\n",
      "Train prediction NRMS: 0.94 %\n",
      "Validation prediction NRMS: 1.49 %\n",
      "Test prediction NRMS: 0.94 %\n",
      "Using 600 datapoints for training set\n",
      "Train simulation NRMS: 9.18 %\n",
      "Validation simulation NRMS: 33.72 %\n",
      "Test simulation NRMS: 20.85 %\n",
      "Using 1800 datapoints for training set\n",
      "RBF(length_scale=4.27) + WhiteKernel(noise_level=2.33e-05)\n",
      "Train prediction NRMS: 1.07 %\n",
      "Validation prediction NRMS: 0.88 %\n",
      "Test prediction NRMS: 1.13 %\n",
      "Using 1800 datapoints for training set\n",
      "Train simulation NRMS: 12.11 %\n",
      "Validation simulation NRMS: 21.42 %\n",
      "Test simulation NRMS: 21.29 %\n",
      "Using 1800 datapoints for training set\n",
      "RBF(length_scale=4.27) + WhiteKernel(noise_level=2.33e-05)\n",
      "Train prediction NRMS: 1.07 %\n",
      "Validation prediction NRMS: 0.88 %\n",
      "Test prediction NRMS: 1.13 %\n",
      "Using 1800 datapoints for training set\n",
      "Train simulation NRMS: 12.11 %\n",
      "Validation simulation NRMS: 21.42 %\n",
      "Test simulation NRMS: 21.29 %\n",
      "Using 1800 datapoints for training set\n",
      "RBF(length_scale=4.27) + WhiteKernel(noise_level=2.33e-05)\n",
      "Train prediction NRMS: 1.07 %\n",
      "Validation prediction NRMS: 0.88 %\n",
      "Test prediction NRMS: 1.13 %\n",
      "Using 1800 datapoints for training set\n",
      "Train simulation NRMS: 12.11 %\n",
      "Validation simulation NRMS: 21.42 %\n",
      "Test simulation NRMS: 21.29 %\n",
      "Using 3000 datapoints for training set\n",
      "RBF(length_scale=4.1) + WhiteKernel(noise_level=2.14e-05)\n",
      "Train prediction NRMS: 1.02 %\n",
      "Validation prediction NRMS: 0.86 %\n",
      "Test prediction NRMS: 0.89 %\n",
      "Using 3000 datapoints for training set\n",
      "Train simulation NRMS: 10.59 %\n",
      "Validation simulation NRMS: 12.13 %\n",
      "Test simulation NRMS: 22.86 %\n",
      "Using 3000 datapoints for training set\n",
      "RBF(length_scale=4.1) + WhiteKernel(noise_level=2.14e-05)\n",
      "Train prediction NRMS: 1.02 %\n",
      "Validation prediction NRMS: 0.86 %\n",
      "Test prediction NRMS: 0.89 %\n",
      "Using 3000 datapoints for training set\n",
      "Train simulation NRMS: 10.59 %\n",
      "Validation simulation NRMS: 12.13 %\n",
      "Test simulation NRMS: 22.86 %\n",
      "Using 3000 datapoints for training set\n",
      "RBF(length_scale=4.1) + WhiteKernel(noise_level=2.14e-05)\n",
      "Train prediction NRMS: 1.02 %\n",
      "Validation prediction NRMS: 0.86 %\n",
      "Test prediction NRMS: 0.89 %\n",
      "Using 3000 datapoints for training set\n",
      "Train simulation NRMS: 10.59 %\n",
      "Validation simulation NRMS: 12.13 %\n",
      "Test simulation NRMS: 22.86 %\n",
      "Using 6000 datapoints for training set\n"
     ]
    }
   ],
   "source": [
    "for i,points in enumerate(total_number_of_points):\n",
    "    for j,res in enumerate(restart):\n",
    "\n",
    "        Xtrain_NARX, Ytrain_NARX = load_narx_data(n_a, n_b, points, section=\"train\", split=Split, as_tensor=False)\n",
    "        Xval_NARX, Yval_NARX = load_narx_data(n_a, n_b, points, section=\"validation\", split=Split, as_tensor=False)\n",
    "        Xtest_NARX, Ytest_NARX = load_narx_data(n_a, n_b, points, section=\"test\", split=Split, as_tensor=False)\n",
    "\n",
    "        XtrainNARXSparse = csr_matrix(Xtrain_NARX).toarray()\n",
    "        YtrainNARXSparse = csr_matrix(Ytrain_NARX).toarray().transpose()\n",
    "\n",
    "        kernel = RBF(length_scale_bounds=[1,50]) + WhiteKernel(noise_level_bounds=[1e-6,1e-2])\n",
    "        # kernel = RationalQuadratic() + WhiteKernel()\n",
    "        reg = GaussianProcessRegressor(kernel, n_restarts_optimizer=res)\n",
    "\n",
    "        reg.fit(XtrainNARXSparse, YtrainNARXSparse)\n",
    "\n",
    "        print(reg.kernel_)\n",
    "\n",
    "        Ytrain_pred, Ytrain_pred_std = reg.predict(Xtrain_NARX,return_std=True)\n",
    "        NRMS_train_pred[i,j] = calculate_error_nrms(Ytrain_pred, Ytrain_NARX)\n",
    "        print(f'Train prediction NRMS: {NRMS_train_pred[i,j]:.2f} %')\n",
    "\n",
    "        Yval_pred, Yval_pred_std = reg.predict(Xval_NARX,return_std=True)\n",
    "        NRMS_val_pred[i,j] = calculate_error_nrms(Yval_pred, Yval_NARX)\n",
    "        print(f'Validation prediction NRMS: {NRMS_val_pred[i,j]:.2f} %')\n",
    "\n",
    "        Ytest_pred, Ytest_pred_std = reg.predict(Xtest_NARX,return_std=True)\n",
    "        NRMS_test_pred[i,j] = calculate_error_nrms(Ytest_pred, Ytest_NARX)\n",
    "        print(f'Test prediction NRMS: {NRMS_test_pred[i,j]:.2f} %')\n",
    "\n",
    "\n",
    "        # Simulation\n",
    "        Xtrain,Ytrain = load_data(section=\"train\", split=Split, total_number_of_points=points, as_tensor=False)\n",
    "        Xval,Yval = load_data(section=\"validation\", split=Split, total_number_of_points=points, as_tensor=False)\n",
    "        Xtest,Ytest = load_data(section=\"test\", split=Split, total_number_of_points=points, as_tensor=False)\n",
    "\n",
    "        sim_model = lambda u,y: reg.predict(np.concatenate([u,y])[None,:])[0] \n",
    "\n",
    "        Ytrain_sim = use_NARX_model_in_simulation(Xtrain, sim_model, n_a, n_b)\n",
    "        NRMS_train_sim[i,j] = calculate_error_nrms(Ytrain_sim, Ytrain)\n",
    "        print(f'Train simulation NRMS: {NRMS_train_sim[i,j]:.2f} %')\n",
    "\n",
    "        Yval_sim = use_NARX_model_in_simulation(Xval, sim_model, n_a, n_b)\n",
    "        NRMS_val_sim[i,j] = calculate_error_nrms(Yval_sim, Yval)\n",
    "        print(f'Validation simulation NRMS: {NRMS_val_sim[i,j]:.2f} %')\n",
    "\n",
    "        Ytest_sim = use_NARX_model_in_simulation(Xtest, sim_model, n_a, n_b)\n",
    "        NRMS_test_sim[i,j] = calculate_error_nrms(Ytest_sim, Ytest)\n",
    "        print(f'Test simulation NRMS: {NRMS_test_sim[i,j]:.2f} %')"
   ]
  },
  {
   "attachments": {},
   "cell_type": "markdown",
   "id": "f99cd909",
   "metadata": {},
   "source": [
    "## Final results"
   ]
  },
  {
   "cell_type": "code",
   "execution_count": null,
   "id": "8961a471",
   "metadata": {},
   "outputs": [],
   "source": [
    "# Create empty DataFrames\n",
    "df_pred = pd.DataFrame(columns=['Train', 'Validation', 'Test'])\n",
    "df_sim = pd.DataFrame(columns=['Train', 'Validation', 'Test'])\n",
    "\n",
    "# Fill DataFrames with Pred and Sim data\n",
    "df_pred['Train'] = NRMS_train_pred.ravel()\n",
    "df_pred['Validation'] = NRMS_val_pred.ravel()\n",
    "df_pred['Test'] = NRMS_test_pred.ravel()\n",
    "\n",
    "df_sim['Train'] = NRMS_train_sim.ravel()\n",
    "df_sim['Validation'] = NRMS_val_sim.ravel()\n",
    "df_sim['Test'] = NRMS_test_sim.ravel()\n",
    "\n",
    "# Create the index\n",
    "index = ['{} points; {} restarts'.format(points, res) for points in total_number_of_points for res in restart]\n",
    "\n",
    "# Concatenate DataFrames horizontally\n",
    "df_combined = pd.concat([df_pred, df_sim], axis=1, keys=['Pred', 'Sim'])\n",
    "\n",
    "# Set the index\n",
    "df_combined.index = index\n",
    "\n",
    "# Display the DataFrame\n",
    "display(df_combined)\n"
   ]
  }
 ],
 "metadata": {
  "kernelspec": {
   "display_name": "Python 3 (ipykernel)",
   "language": "python",
   "name": "python3"
  },
  "language_info": {
   "codemirror_mode": {
    "name": "ipython",
    "version": 3
   },
   "file_extension": ".py",
   "mimetype": "text/x-python",
   "name": "python",
   "nbconvert_exporter": "python",
   "pygments_lexer": "ipython3",
   "version": "3.8.16"
  }
 },
 "nbformat": 4,
 "nbformat_minor": 5
}
