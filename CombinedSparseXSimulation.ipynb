{
 "cells": [
  {
   "attachments": {},
   "cell_type": "markdown",
   "metadata": {},
   "source": [
    "### Imports"
   ]
  },
  {
   "cell_type": "code",
   "execution_count": 1,
   "metadata": {},
   "outputs": [],
   "source": [
    "from matplotlib import pyplot as plt\n",
    "from data import load_data, load_narx_data\n",
    "from matplotlib import pyplot as plt\n",
    "import numpy as np\n",
    "import torch\n",
    "from data import load_narx_data\n",
    "from sklearn.gaussian_process import GaussianProcessRegressor\n",
    "from sklearn.gaussian_process.kernels import RBF, WhiteKernel, ExpSineSquared, Matern, Product\n",
    "from scipy.sparse import csr_matrix"
   ]
  },
  {
   "cell_type": "code",
   "execution_count": 2,
   "metadata": {},
   "outputs": [],
   "source": [
    "n_a, n_b = 2, 2\n",
    "Split = [0.6, 0.2, 0.2] # split; [training, validation, test]\n",
    "total_number_of_points = 1000 # total number of points to consider from the larger dataset (starting from index 0)\n",
    "restart = 2"
   ]
  },
  {
   "cell_type": "code",
   "execution_count": 3,
   "metadata": {},
   "outputs": [
    {
     "name": "stdout",
     "output_type": "stream",
     "text": [
      "Considering 1000 datapoints\n",
      "Using 600 datapoints for training set\n",
      "Considering 1000 datapoints\n",
      "Using 200 datapoints for validation set\n",
      "Considering 1000 datapoints\n",
      "Using 200 datapoints for test set\n"
     ]
    }
   ],
   "source": [
    "Xtrain,Ytrain = load_narx_data(n_a, n_b, total_number_of_points, section=\"train\", split=Split, as_tensor=True)\n",
    "Xval,Yval = load_narx_data(n_a, n_b, total_number_of_points, section=\"validation\", split=Split, as_tensor=True)\n",
    "Xtest,Ytest = load_narx_data(n_a, n_b, total_number_of_points, section=\"test\", split=Split, as_tensor=True)"
   ]
  },
  {
   "cell_type": "code",
   "execution_count": 4,
   "metadata": {},
   "outputs": [],
   "source": [
    "# Standard settings\n",
    "kernel = RBF(length_scale=1) + WhiteKernel(noise_level=0.1)\n",
    "reg = GaussianProcessRegressor(kernel, n_restarts_optimizer=restart)"
   ]
  },
  {
   "attachments": {},
   "cell_type": "markdown",
   "metadata": {},
   "source": [
    "Create sparse matrices"
   ]
  },
  {
   "cell_type": "code",
   "execution_count": 5,
   "metadata": {},
   "outputs": [],
   "source": [
    "XtrainSparse = csr_matrix(Xtrain)\n",
    "YtrainSparse = csr_matrix(Ytrain)"
   ]
  },
  {
   "cell_type": "code",
   "execution_count": 6,
   "metadata": {},
   "outputs": [],
   "source": [
    "Yval = Yval.numpy()  # Convert Yval from Tensor to NumPy array\n",
    "Ytest = Ytest.numpy()  # Convert Ytest from Tensor to NumPy array"
   ]
  },
  {
   "attachments": {},
   "cell_type": "markdown",
   "metadata": {},
   "source": [
    "## Fit the GP"
   ]
  },
  {
   "cell_type": "code",
   "execution_count": 7,
   "metadata": {},
   "outputs": [
    {
     "data": {
      "text/html": [
       "<style>#sk-container-id-1 {color: black;background-color: white;}#sk-container-id-1 pre{padding: 0;}#sk-container-id-1 div.sk-toggleable {background-color: white;}#sk-container-id-1 label.sk-toggleable__label {cursor: pointer;display: block;width: 100%;margin-bottom: 0;padding: 0.3em;box-sizing: border-box;text-align: center;}#sk-container-id-1 label.sk-toggleable__label-arrow:before {content: \"▸\";float: left;margin-right: 0.25em;color: #696969;}#sk-container-id-1 label.sk-toggleable__label-arrow:hover:before {color: black;}#sk-container-id-1 div.sk-estimator:hover label.sk-toggleable__label-arrow:before {color: black;}#sk-container-id-1 div.sk-toggleable__content {max-height: 0;max-width: 0;overflow: hidden;text-align: left;background-color: #f0f8ff;}#sk-container-id-1 div.sk-toggleable__content pre {margin: 0.2em;color: black;border-radius: 0.25em;background-color: #f0f8ff;}#sk-container-id-1 input.sk-toggleable__control:checked~div.sk-toggleable__content {max-height: 200px;max-width: 100%;overflow: auto;}#sk-container-id-1 input.sk-toggleable__control:checked~label.sk-toggleable__label-arrow:before {content: \"▾\";}#sk-container-id-1 div.sk-estimator input.sk-toggleable__control:checked~label.sk-toggleable__label {background-color: #d4ebff;}#sk-container-id-1 div.sk-label input.sk-toggleable__control:checked~label.sk-toggleable__label {background-color: #d4ebff;}#sk-container-id-1 input.sk-hidden--visually {border: 0;clip: rect(1px 1px 1px 1px);clip: rect(1px, 1px, 1px, 1px);height: 1px;margin: -1px;overflow: hidden;padding: 0;position: absolute;width: 1px;}#sk-container-id-1 div.sk-estimator {font-family: monospace;background-color: #f0f8ff;border: 1px dotted black;border-radius: 0.25em;box-sizing: border-box;margin-bottom: 0.5em;}#sk-container-id-1 div.sk-estimator:hover {background-color: #d4ebff;}#sk-container-id-1 div.sk-parallel-item::after {content: \"\";width: 100%;border-bottom: 1px solid gray;flex-grow: 1;}#sk-container-id-1 div.sk-label:hover label.sk-toggleable__label {background-color: #d4ebff;}#sk-container-id-1 div.sk-serial::before {content: \"\";position: absolute;border-left: 1px solid gray;box-sizing: border-box;top: 0;bottom: 0;left: 50%;z-index: 0;}#sk-container-id-1 div.sk-serial {display: flex;flex-direction: column;align-items: center;background-color: white;padding-right: 0.2em;padding-left: 0.2em;position: relative;}#sk-container-id-1 div.sk-item {position: relative;z-index: 1;}#sk-container-id-1 div.sk-parallel {display: flex;align-items: stretch;justify-content: center;background-color: white;position: relative;}#sk-container-id-1 div.sk-item::before, #sk-container-id-1 div.sk-parallel-item::before {content: \"\";position: absolute;border-left: 1px solid gray;box-sizing: border-box;top: 0;bottom: 0;left: 50%;z-index: -1;}#sk-container-id-1 div.sk-parallel-item {display: flex;flex-direction: column;z-index: 1;position: relative;background-color: white;}#sk-container-id-1 div.sk-parallel-item:first-child::after {align-self: flex-end;width: 50%;}#sk-container-id-1 div.sk-parallel-item:last-child::after {align-self: flex-start;width: 50%;}#sk-container-id-1 div.sk-parallel-item:only-child::after {width: 0;}#sk-container-id-1 div.sk-dashed-wrapped {border: 1px dashed gray;margin: 0 0.4em 0.5em 0.4em;box-sizing: border-box;padding-bottom: 0.4em;background-color: white;}#sk-container-id-1 div.sk-label label {font-family: monospace;font-weight: bold;display: inline-block;line-height: 1.2em;}#sk-container-id-1 div.sk-label-container {text-align: center;}#sk-container-id-1 div.sk-container {/* jupyter's `normalize.less` sets `[hidden] { display: none; }` but bootstrap.min.css set `[hidden] { display: none !important; }` so we also need the `!important` here to be able to override the default hidden behavior on the sphinx rendered scikit-learn.org. See: https://github.com/scikit-learn/scikit-learn/issues/21755 */display: inline-block !important;position: relative;}#sk-container-id-1 div.sk-text-repr-fallback {display: none;}</style><div id=\"sk-container-id-1\" class=\"sk-top-container\"><div class=\"sk-text-repr-fallback\"><pre>GaussianProcessRegressor(kernel=RBF(length_scale=1) + WhiteKernel(noise_level=0.1),\n",
       "                         n_restarts_optimizer=2)</pre><b>In a Jupyter environment, please rerun this cell to show the HTML representation or trust the notebook. <br />On GitHub, the HTML representation is unable to render, please try loading this page with nbviewer.org.</b></div><div class=\"sk-container\" hidden><div class=\"sk-item\"><div class=\"sk-estimator sk-toggleable\"><input class=\"sk-toggleable__control sk-hidden--visually\" id=\"sk-estimator-id-1\" type=\"checkbox\" checked><label for=\"sk-estimator-id-1\" class=\"sk-toggleable__label sk-toggleable__label-arrow\">GaussianProcessRegressor</label><div class=\"sk-toggleable__content\"><pre>GaussianProcessRegressor(kernel=RBF(length_scale=1) + WhiteKernel(noise_level=0.1),\n",
       "                         n_restarts_optimizer=2)</pre></div></div></div></div></div>"
      ],
      "text/plain": [
       "GaussianProcessRegressor(kernel=RBF(length_scale=1) + WhiteKernel(noise_level=0.1),\n",
       "                         n_restarts_optimizer=2)"
      ]
     },
     "execution_count": 7,
     "metadata": {},
     "output_type": "execute_result"
    }
   ],
   "source": [
    "reg.fit(XtrainSparse.toarray(), Ytrain)"
   ]
  },
  {
   "cell_type": "code",
   "execution_count": 8,
   "metadata": {},
   "outputs": [
    {
     "name": "stdout",
     "output_type": "stream",
     "text": [
      "Problems detected\n"
     ]
    }
   ],
   "source": [
    "F = lambda u,y: reg.predict(np.concatenate([u,y])[None,:])[0] \n",
    "\n",
    "try:\n",
    "    yval_sim = load_narx_data(2,2,Xval, F)\n",
    "    error_val = np.mean((yval_sim-Yval)**2)**0.5/np.std(Yval)\n",
    "except:\n",
    "    print(\"Problems detected\")"
   ]
  },
  {
   "cell_type": "code",
   "execution_count": 13,
   "metadata": {},
   "outputs": [],
   "source": [
    "def get_NARX_data(ulist, data, na, nb):\n",
    "    # iteratively uses the given f to find the new output.\n",
    "    \n",
    "    # init upast and ypast as lists.\n",
    "    upast = [0]*nb\n",
    "    ypast = [0]*na\n",
    "    \n",
    "    ylist = []\n",
    "    for index,unow in enumerate(ulist):\n",
    "        #compute the current y given by f\n",
    "        print(unow)\n",
    "        ynow = data[index]\n",
    "        \n",
    "        #update past arrays\n",
    "        upast.append(unow) #add an element on the end\n",
    "        upast.pop(0)       #remove the fist element\n",
    "        ypast.append(ynow)\n",
    "        ypast.pop(0)\n",
    "        \n",
    "        #save result\n",
    "        ylist.append(ynow)\n",
    "    return np.array(ylist) #return result"
   ]
  },
  {
   "cell_type": "code",
   "execution_count": 14,
   "metadata": {},
   "outputs": [
    {
     "name": "stdout",
     "output_type": "stream",
     "text": [
      "Considering 1000 datapoints\n",
      "Using 200 datapoints for test set\n",
      "NRMS test prediction: 0.009406777310260567\n",
      "tensor([-1.9307, -1.1234, -0.3110, -0.2293], dtype=torch.float64)\n"
     ]
    },
    {
     "ename": "IndexError",
     "evalue": "too many indices for array: array is 1-dimensional, but 2 were indexed",
     "output_type": "error",
     "traceback": [
      "\u001b[1;31m---------------------------------------------------------------------------\u001b[0m",
      "\u001b[1;31mIndexError\u001b[0m                                Traceback (most recent call last)",
      "Cell \u001b[1;32mIn[14], line 8\u001b[0m\n\u001b[0;32m      5\u001b[0m \u001b[39mprint\u001b[39m(\u001b[39m'\u001b[39m\u001b[39mNRMS test prediction:\u001b[39m\u001b[39m'\u001b[39m, np\u001b[39m.\u001b[39mmean((Ytest\u001b[39m-\u001b[39mYtest_pred)\u001b[39m*\u001b[39m\u001b[39m*\u001b[39m\u001b[39m2\u001b[39m)\u001b[39m*\u001b[39m\u001b[39m*\u001b[39m\u001b[39m0.5\u001b[39m\u001b[39m/\u001b[39mnp\u001b[39m.\u001b[39mstd(Ytest))\n\u001b[0;32m      7\u001b[0m \u001b[39m# try:\u001b[39;00m\n\u001b[1;32m----> 8\u001b[0m ytest_sim \u001b[39m=\u001b[39m get_NARX_data(Xtest,Ytest, n_a, n_b) \u001b[39m#explodes\u001b[39;00m\n\u001b[0;32m      9\u001b[0m NRMS_sim \u001b[39m=\u001b[39m np\u001b[39m.\u001b[39mmean((Ytest\u001b[39m-\u001b[39mytest_sim)\u001b[39m*\u001b[39m\u001b[39m*\u001b[39m\u001b[39m2\u001b[39m)\u001b[39m*\u001b[39m\u001b[39m*\u001b[39m\u001b[39m0.5\u001b[39m\u001b[39m/\u001b[39mnp\u001b[39m.\u001b[39mstd(Ytest)\n\u001b[0;32m     10\u001b[0m plt\u001b[39m.\u001b[39mplot(Ytest)\n",
      "Cell \u001b[1;32mIn[13], line 12\u001b[0m, in \u001b[0;36mget_NARX_data\u001b[1;34m(ulist, data, na, nb)\u001b[0m\n\u001b[0;32m      9\u001b[0m \u001b[39mfor\u001b[39;00m index,unow \u001b[39min\u001b[39;00m \u001b[39menumerate\u001b[39m(ulist):\n\u001b[0;32m     10\u001b[0m     \u001b[39m#compute the current y given by f\u001b[39;00m\n\u001b[0;32m     11\u001b[0m     \u001b[39mprint\u001b[39m(unow)\n\u001b[1;32m---> 12\u001b[0m     ynow \u001b[39m=\u001b[39m data[index,:]\n\u001b[0;32m     14\u001b[0m     \u001b[39m#update past arrays\u001b[39;00m\n\u001b[0;32m     15\u001b[0m     upast\u001b[39m.\u001b[39mappend(unow) \u001b[39m#add an element on the end\u001b[39;00m\n",
      "\u001b[1;31mIndexError\u001b[0m: too many indices for array: array is 1-dimensional, but 2 were indexed"
     ]
    }
   ],
   "source": [
    "model_now = reg\n",
    "Xtest, Ytest = load_narx_data(n_a, n_b, total_number_of_points, section=\"test\", split=Split, as_tensor=True)\n",
    "Ytest_pred = model_now.predict(Xtest)\n",
    "Ytest = Ytest.numpy()  # Convert Ytest from Tensor to NumPy array\n",
    "print('NRMS test prediction:', np.mean((Ytest-Ytest_pred)**2)**0.5/np.std(Ytest))\n",
    "\n",
    "# try:\n",
    "ytest_sim = get_NARX_data(Xtest,Ytest, n_a, n_b) #explodes\n",
    "NRMS_sim = np.mean((Ytest-ytest_sim)**2)**0.5/np.std(Ytest)\n",
    "plt.plot(Ytest)\n",
    "plt.plot(Ytest-ytest_sim)\n",
    "plt.show()\n",
    "# except ValueError:\n",
    "#     NRMS_sim = float('inf')\n",
    "print('NRMS test simulation:', NRMS_sim)"
   ]
  },
  {
   "cell_type": "code",
   "execution_count": null,
   "metadata": {},
   "outputs": [],
   "source": [
    "Yval_pred, Yval_pred_std = reg.predict(Xval, return_std=True) \n",
    "\n",
    "NRMS = np.mean((Yval_pred-Yval)**2)**0.5/np.std(Yval)\n",
    "\n",
    "print(f'Validation NRMS= {NRMS}')"
   ]
  },
  {
   "cell_type": "code",
   "execution_count": null,
   "metadata": {},
   "outputs": [],
   "source": [
    "print(reg.kernel_)"
   ]
  },
  {
   "attachments": {},
   "cell_type": "markdown",
   "metadata": {},
   "source": [
    "Make some nice plots"
   ]
  },
  {
   "cell_type": "code",
   "execution_count": null,
   "metadata": {},
   "outputs": [],
   "source": [
    "# Plotting\n",
    "Ytrain_pred, Ytrain_pred_std = reg.predict(Xtrain, return_std=True) \n",
    "plt.figure(figsize=(12, 5)) \n",
    "plt.plot(Ytrain) \n",
    "plt.title('Prediction on the training set')\n",
    "plt.errorbar(np.arange(len(Xtrain)), Ytrain_pred, yerr=2 * Ytrain_pred_std, fmt='.r') \n",
    "plt.grid()\n",
    "plt.xlabel('Sample')\n",
    "plt.ylabel('y')\n",
    "plt.legend(['Measured', 'Pred'])\n",
    "plt.xlim([0, 250])\n",
    "plt.show()\n",
    "\n",
    "plt.figure(figsize=(12, 5)) \n",
    "plt.title('Prediction on the validation set')\n",
    "plt.plot(Yval) \n",
    "Yval_pred, Yval_pred_std = reg.predict(Xval, return_std=True) \n",
    "plt.errorbar(np.arange(len(Xval)), Yval_pred, yerr=2 * Yval_pred_std, fmt='.r') \n",
    "plt.grid()\n",
    "plt.xlabel('Sample')\n",
    "plt.ylabel('y')\n",
    "plt.legend(['Measured', 'Pred']) \n",
    "plt.xlim([0, 250])\n",
    "plt.show()\n",
    "\n",
    "\n",
    "print(f'Validation NRMS= {np.mean((Yval_pred-Yval)**2)**0.5/np.std(Yval)}')\n",
    "\n",
    "plt.figure(figsize=(12, 5))\n",
    "plt.title('Prediction on the test set')\n",
    "plt.plot(Ytest)\n",
    "ytest_pred, ytest_pred_std = reg.predict(Xtest, return_std=True)\n",
    "plt.errorbar(np.arange(len(Xtest)), ytest_pred, yerr=2 * ytest_pred_std, fmt='.r')\n",
    "plt.grid()\n",
    "plt.xlabel('Sample')\n",
    "plt.ylabel('y')\n",
    "plt.legend(['Measured', 'Pred'])\n",
    "plt.xlim([0, 250])\n",
    "plt.show()\n",
    "\n",
    "print(f'Test NRMS = {np.mean((ytest_pred - Ytest) ** 2, axis=0) ** 0.5 / np.std(Ytest)}')"
   ]
  },
  {
   "attachments": {},
   "cell_type": "markdown",
   "metadata": {},
   "source": [
    "# Results"
   ]
  },
  {
   "attachments": {},
   "cell_type": "markdown",
   "metadata": {},
   "source": [
    "Time calculation: <br>\n",
    "1000 items takes 0.7 sec"
   ]
  }
 ],
 "metadata": {
  "kernelspec": {
   "display_name": "ml4sc",
   "language": "python",
   "name": "python3"
  },
  "language_info": {
   "codemirror_mode": {
    "name": "ipython",
    "version": 3
   },
   "file_extension": ".py",
   "mimetype": "text/x-python",
   "name": "python",
   "nbconvert_exporter": "python",
   "pygments_lexer": "ipython3",
   "version": "3.8.16"
  },
  "orig_nbformat": 4
 },
 "nbformat": 4,
 "nbformat_minor": 2
}
