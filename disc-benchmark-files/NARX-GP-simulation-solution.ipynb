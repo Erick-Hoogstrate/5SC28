{
 "cells": [
  {
   "cell_type": "code",
   "execution_count": 1,
   "id": "b1e8c313",
   "metadata": {},
   "outputs": [
    {
     "name": "stdout",
     "output_type": "stream",
     "text": [
      "RBF(length_scale=4.31) + WhiteKernel(noise_level=9.56e-06)\n",
      "train prediction errors:\n",
      "RMS: 0.004013156526155631 radians\n",
      "RMS: 0.22993693147410038 degrees\n",
      "NRMS: 0.818188634684261 %\n",
      "train simulation errors:\n",
      "RMS: 2.2012439084068665 radians\n",
      "RMS: 126.1219856305954 degrees\n",
      "NRMS: 448.8037932070168 %\n"
     ]
    }
   ],
   "source": [
    "import numpy as np\n",
    "\n",
    "out = np.load('training-data.npz')\n",
    "th_train = out['th'] #th[0],th[1],th[2],th[3],...\n",
    "u_train = out['u'] #u[0],u[1],u[2],u[3],...\n",
    "\n",
    "data = np.load('test-simulation-submission-file.npz')\n",
    "u_test = data['u']\n",
    "th_test = data['th'] #only the first 50 values are filled the rest are zeros\n",
    "\n",
    "def create_IO_data(u,y,na,nb):\n",
    "    X = []\n",
    "    Y = []\n",
    "    for k in range(max(na,nb), len(y)):\n",
    "        X.append(np.concatenate([u[k-nb:k],y[k-na:k]]))\n",
    "        Y.append(y[k])\n",
    "    return np.array(X), np.array(Y)\n",
    "\n",
    "na = 8\n",
    "nb = 3\n",
    "Xtrain, Ytrain = create_IO_data(u_train, th_train, na, nb)\n",
    "\n",
    "import pickle\n",
    "# Load the saved model and kernel using pickle\n",
    "with open('GPmodel.dump', 'rb') as file:\n",
    "    reg = pickle.load(file)\n",
    "\n",
    "# Print the kernel configuration\n",
    "print(reg.kernel_)\n",
    "\n",
    "Ytrain_pred = reg.predict(Xtrain)\n",
    "print('train prediction errors:')\n",
    "print('RMS:', np.mean((Ytrain_pred-Ytrain)**2)**0.5,'radians')\n",
    "print('RMS:', np.mean((Ytrain_pred-Ytrain)**2)**0.5/(2*np.pi)*360,'degrees')\n",
    "print('NRMS:', np.mean((Ytrain_pred-Ytrain)**2)**0.5/Ytrain.std()*100,'%')\n",
    "\n",
    "\n",
    "def simulation_IO_model(f, ulist, ylist, skip=50):\n",
    "\n",
    "    upast = ulist[skip-na:skip].tolist() #good initialization\n",
    "    ypast = ylist[skip-nb:skip].tolist()\n",
    "    Y = ylist[:skip].tolist()\n",
    "    for u in ulist[skip:]:\n",
    "        x = np.concatenate([upast,ypast],axis=0)\n",
    "        ypred = f(x)\n",
    "        Y.append(ypred)\n",
    "        upast.append(u)\n",
    "        upast.pop(0)\n",
    "        ypast.append(ypred)\n",
    "        ypast.pop(0)\n",
    "    return np.array(Y)\n",
    "\n",
    "skip = max(na,nb)\n",
    "th_train_sim = simulation_IO_model(lambda x: reg.predict(x[None,:])[0], u_train, th_train, skip=skip)\n",
    "print('train simulation errors:')\n",
    "print('RMS:', np.mean((th_train_sim[skip:]-th_train[skip:])**2)**0.5,'radians')\n",
    "print('RMS:', np.mean((th_train_sim[skip:]-th_train[skip:])**2)**0.5/(2*np.pi)*360,'degrees')\n",
    "print('NRMS:', np.mean((th_train_sim[skip:]-th_train[skip:])**2)**0.5/th_train.std()*100,'%')\n",
    "\n",
    "\n",
    "skip = 50\n",
    "th_test_sim = simulation_IO_model(lambda x: reg.predict(x[None,:])[0], u_test, th_test, skip=skip)\n",
    "\n",
    "assert len(th_test_sim)==len(th_test)\n",
    "np.savez('NARX-GP-simulation-submission-file2.npz', th=th_test_sim, u=u_test)"
   ]
  },
  {
   "cell_type": "code",
   "execution_count": null,
   "id": "dc74cb7c",
   "metadata": {},
   "outputs": [],
   "source": []
  }
 ],
 "metadata": {
  "kernelspec": {
   "display_name": "Python 3 (ipykernel)",
   "language": "python",
   "name": "python3"
  },
  "language_info": {
   "codemirror_mode": {
    "name": "ipython",
    "version": 3
   },
   "file_extension": ".py",
   "mimetype": "text/x-python",
   "name": "python",
   "nbconvert_exporter": "python",
   "pygments_lexer": "ipython3",
   "version": "3.8.16"
  }
 },
 "nbformat": 4,
 "nbformat_minor": 5
}
