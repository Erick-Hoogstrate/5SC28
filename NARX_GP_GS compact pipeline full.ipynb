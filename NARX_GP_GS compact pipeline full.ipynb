{
 "cells": [
  {
   "attachments": {},
   "cell_type": "markdown",
   "id": "4d7fdd8c",
   "metadata": {},
   "source": [
    "# NARX GP Grid Search"
   ]
  },
  {
   "cell_type": "code",
   "execution_count": 1,
   "id": "62974d8c",
   "metadata": {},
   "outputs": [],
   "source": [
    "import pandas as pd\n",
    "import numpy as np\n",
    "import torch\n",
    "from torch import nn\n",
    "from matplotlib import pyplot as plt\n",
    "\n",
    "from sklearn.gaussian_process import GaussianProcessRegressor\n",
    "from sklearn.gaussian_process.kernels import RBF, WhiteKernel, RationalQuadratic, Product\n",
    "\n",
    "from scipy.sparse import csr_matrix\n",
    "\n",
    "from data import load_narx_data, load_data\n",
    "from util_fun import calculate_error_nrms, use_NARX_model_in_simulation, plot_NRMS_Pred_vs_Sim"
   ]
  },
  {
   "cell_type": "code",
   "execution_count": 2,
   "id": "97c09dc3",
   "metadata": {},
   "outputs": [],
   "source": [
    "# Initialize stationary parameters\n",
    "\n",
    "Split = [0.6, 0.2, 0.2] # split; [training, validation, test]\n",
    "total_number_of_points = 500 # total number of points to consider from the larger dataset (starting from index 0)\n",
    "\n",
    "na_list=[*range(2,5)]\n",
    "nb_list=[*range(2,5)]\n",
    "restarts = 1\n",
    "\n",
    "val_pred_NRMSs=np.ndarray((len(na_list),len(nb_list)))\n",
    "val_sim_NRMSs=np.ndarray((len(na_list),len(nb_list)))\n",
    "test_pred_NRMSs=np.ndarray((len(na_list),len(nb_list)))\n",
    "test_sim_NRMSs=np.ndarray((len(na_list),len(nb_list)))"
   ]
  },
  {
   "attachments": {},
   "cell_type": "markdown",
   "id": "65cd611d",
   "metadata": {},
   "source": [
    "## Define your kernel here"
   ]
  },
  {
   "cell_type": "code",
   "execution_count": 3,
   "id": "a6b13d73",
   "metadata": {},
   "outputs": [],
   "source": [
    "kernel = RationalQuadratic() + WhiteKernel()\n",
    "reg = GaussianProcessRegressor(kernel, n_restarts_optimizer=restarts)"
   ]
  },
  {
   "cell_type": "code",
   "execution_count": 4,
   "id": "7853ccc2",
   "metadata": {},
   "outputs": [
    {
     "name": "stdout",
     "output_type": "stream",
     "text": [
      "Using 300 datapoints for training set\n"
     ]
    }
   ],
   "source": [
    "#Load normal data\n",
    "Xtrain,Ytrain = load_data(section=\"train\", split=Split, total_number_of_points=total_number_of_points, as_tensor=False)\n",
    "Xval,Yval = load_data(section=\"validation\", split=Split, total_number_of_points=total_number_of_points, as_tensor=False)\n",
    "Xtest,Ytest = load_data(section=\"test\", split=Split, total_number_of_points=total_number_of_points, as_tensor=False)"
   ]
  },
  {
   "cell_type": "code",
   "execution_count": 5,
   "id": "e114a545",
   "metadata": {},
   "outputs": [
    {
     "name": "stdout",
     "output_type": "stream",
     "text": [
      "Currently running: na= 2, nb= 2\n",
      "Using 300 datapoints for training set\n"
     ]
    },
    {
     "name": "stderr",
     "output_type": "stream",
     "text": [
      "c:\\Users\\20191695\\Anaconda3\\envs\\ml4sc\\lib\\site-packages\\sklearn\\gaussian_process\\_gpr.py:629: ConvergenceWarning: lbfgs failed to converge (status=2):\n",
      "ABNORMAL_TERMINATION_IN_LNSRCH.\n",
      "\n",
      "Increase the number of iterations (max_iter) or scale the data as shown in:\n",
      "    https://scikit-learn.org/stable/modules/preprocessing.html\n",
      "  _check_optimize_result(\"lbfgs\", opt_res)\n"
     ]
    },
    {
     "name": "stdout",
     "output_type": "stream",
     "text": [
      "Currently running: na= 2, nb= 3\n",
      "Using 300 datapoints for training set\n",
      "Currently running: na= 2, nb= 4\n",
      "Using 300 datapoints for training set\n"
     ]
    },
    {
     "name": "stderr",
     "output_type": "stream",
     "text": [
      "c:\\Users\\20191695\\Anaconda3\\envs\\ml4sc\\lib\\site-packages\\sklearn\\gaussian_process\\_gpr.py:629: ConvergenceWarning: lbfgs failed to converge (status=2):\n",
      "ABNORMAL_TERMINATION_IN_LNSRCH.\n",
      "\n",
      "Increase the number of iterations (max_iter) or scale the data as shown in:\n",
      "    https://scikit-learn.org/stable/modules/preprocessing.html\n",
      "  _check_optimize_result(\"lbfgs\", opt_res)\n",
      "c:\\Users\\20191695\\Anaconda3\\envs\\ml4sc\\lib\\site-packages\\sklearn\\gaussian_process\\kernels.py:430: ConvergenceWarning: The optimal value found for dimension 0 of parameter k1__alpha is close to the specified upper bound 100000.0. Increasing the bound and calling fit again may find a better value.\n",
      "  warnings.warn(\n"
     ]
    },
    {
     "name": "stdout",
     "output_type": "stream",
     "text": [
      "Currently running: na= 3, nb= 2\n",
      "Using 300 datapoints for training set\n"
     ]
    },
    {
     "name": "stderr",
     "output_type": "stream",
     "text": [
      "c:\\Users\\20191695\\Anaconda3\\envs\\ml4sc\\lib\\site-packages\\sklearn\\gaussian_process\\_gpr.py:629: ConvergenceWarning: lbfgs failed to converge (status=2):\n",
      "ABNORMAL_TERMINATION_IN_LNSRCH.\n",
      "\n",
      "Increase the number of iterations (max_iter) or scale the data as shown in:\n",
      "    https://scikit-learn.org/stable/modules/preprocessing.html\n",
      "  _check_optimize_result(\"lbfgs\", opt_res)\n",
      "c:\\Users\\20191695\\Anaconda3\\envs\\ml4sc\\lib\\site-packages\\sklearn\\gaussian_process\\kernels.py:430: ConvergenceWarning: The optimal value found for dimension 0 of parameter k1__alpha is close to the specified upper bound 100000.0. Increasing the bound and calling fit again may find a better value.\n",
      "  warnings.warn(\n"
     ]
    },
    {
     "name": "stdout",
     "output_type": "stream",
     "text": [
      "Currently running: na= 3, nb= 3\n",
      "Using 300 datapoints for training set\n"
     ]
    },
    {
     "name": "stderr",
     "output_type": "stream",
     "text": [
      "c:\\Users\\20191695\\Anaconda3\\envs\\ml4sc\\lib\\site-packages\\sklearn\\gaussian_process\\kernels.py:420: ConvergenceWarning: The optimal value found for dimension 0 of parameter k2__noise_level is close to the specified lower bound 1e-05. Decreasing the bound and calling fit again may find a better value.\n",
      "  warnings.warn(\n"
     ]
    },
    {
     "name": "stdout",
     "output_type": "stream",
     "text": [
      "Currently running: na= 3, nb= 4\n",
      "Using 300 datapoints for training set\n",
      "Currently running: na= 4, nb= 2\n",
      "Using 300 datapoints for training set\n"
     ]
    },
    {
     "name": "stderr",
     "output_type": "stream",
     "text": [
      "c:\\Users\\20191695\\Anaconda3\\envs\\ml4sc\\lib\\site-packages\\sklearn\\gaussian_process\\_gpr.py:629: ConvergenceWarning: lbfgs failed to converge (status=2):\n",
      "ABNORMAL_TERMINATION_IN_LNSRCH.\n",
      "\n",
      "Increase the number of iterations (max_iter) or scale the data as shown in:\n",
      "    https://scikit-learn.org/stable/modules/preprocessing.html\n",
      "  _check_optimize_result(\"lbfgs\", opt_res)\n",
      "c:\\Users\\20191695\\Anaconda3\\envs\\ml4sc\\lib\\site-packages\\sklearn\\gaussian_process\\kernels.py:430: ConvergenceWarning: The optimal value found for dimension 0 of parameter k1__alpha is close to the specified upper bound 100000.0. Increasing the bound and calling fit again may find a better value.\n",
      "  warnings.warn(\n",
      "c:\\Users\\20191695\\Anaconda3\\envs\\ml4sc\\lib\\site-packages\\sklearn\\gaussian_process\\kernels.py:420: ConvergenceWarning: The optimal value found for dimension 0 of parameter k2__noise_level is close to the specified lower bound 1e-05. Decreasing the bound and calling fit again may find a better value.\n",
      "  warnings.warn(\n"
     ]
    },
    {
     "name": "stdout",
     "output_type": "stream",
     "text": [
      "Currently running: na= 4, nb= 3\n",
      "Using 300 datapoints for training set\n"
     ]
    },
    {
     "name": "stderr",
     "output_type": "stream",
     "text": [
      "c:\\Users\\20191695\\Anaconda3\\envs\\ml4sc\\lib\\site-packages\\sklearn\\gaussian_process\\_gpr.py:629: ConvergenceWarning: lbfgs failed to converge (status=2):\n",
      "ABNORMAL_TERMINATION_IN_LNSRCH.\n",
      "\n",
      "Increase the number of iterations (max_iter) or scale the data as shown in:\n",
      "    https://scikit-learn.org/stable/modules/preprocessing.html\n",
      "  _check_optimize_result(\"lbfgs\", opt_res)\n",
      "c:\\Users\\20191695\\Anaconda3\\envs\\ml4sc\\lib\\site-packages\\sklearn\\gaussian_process\\kernels.py:420: ConvergenceWarning: The optimal value found for dimension 0 of parameter k2__noise_level is close to the specified lower bound 1e-05. Decreasing the bound and calling fit again may find a better value.\n",
      "  warnings.warn(\n"
     ]
    },
    {
     "name": "stdout",
     "output_type": "stream",
     "text": [
      "Currently running: na= 4, nb= 4\n",
      "Using 300 datapoints for training set\n"
     ]
    }
   ],
   "source": [
    "for i, n_a in enumerate(na_list):\n",
    "    for j, n_b in enumerate(nb_list):\n",
    "        \n",
    "        print(f\"Currently running: na= {n_a}, nb= {n_b}\")\n",
    "        \n",
    "        #Construct NARX data\n",
    "        Xtrain_NARX,Ytrain_NARX = load_narx_data(n_a, n_b, total_number_of_points, section=\"train\", split=Split, as_tensor=False)\n",
    "        Xval_NARX,Yval_NARX = load_narx_data(n_a, n_b, total_number_of_points, section=\"validation\", split=Split, as_tensor=False)\n",
    "        Xtest_NARX,Ytest_NARX = load_narx_data(n_a, n_b, total_number_of_points, section=\"test\", split=Split, as_tensor=False)\n",
    "        \n",
    "\n",
    "        #Convert to sparce matrices\n",
    "        XtrainSparse = csr_matrix(Xtrain_NARX).toarray()\n",
    "        YtrainSparse = csr_matrix(Ytrain_NARX).toarray().transpose()\n",
    "\n",
    "        #Fit the GP\n",
    "        reg.fit(XtrainSparse, YtrainSparse)\n",
    "        \n",
    "        #Initialize parameters for simulation\n",
    "        fmodel = lambda u,y: reg.predict(np.concatenate([u,y])[None,:])[0] \n",
    "        \n",
    "        #Prediction on validation set\n",
    "        Yval_pred, Yval_pred_std = reg.predict(Xval_NARX,return_std=True)\n",
    "        \n",
    "        #Simulation on validation set\n",
    "        Yval_sim = use_NARX_model_in_simulation(Xval, fmodel, n_a, n_b)\n",
    "        \n",
    "        #Prediction on test set\n",
    "        Ytest_pred, Ytest_pred_std = reg.predict(Xtest_NARX,return_std=True)\n",
    "        \n",
    "        #Simulation on test set\n",
    "        Ytest_sim = use_NARX_model_in_simulation(Xtest, fmodel, n_a, n_b)\n",
    "        \n",
    "        #Store results\n",
    "        val_pred_NRMSs[i,j] = calculate_error_nrms(Yval_pred, Yval_NARX)\n",
    "        val_sim_NRMSs[i,j] = calculate_error_nrms(Yval_sim, Yval)\n",
    "        test_pred_NRMSs[i,j] = calculate_error_nrms(Ytest_pred, Ytest_NARX)\n",
    "        test_sim_NRMSs[i,j] = calculate_error_nrms(Ytest_sim, Ytest)"
   ]
  },
  {
   "attachments": {},
   "cell_type": "markdown",
   "id": "93dc64c3",
   "metadata": {},
   "source": [
    "# Validation data"
   ]
  },
  {
   "cell_type": "code",
   "execution_count": 6,
   "id": "67785fff",
   "metadata": {},
   "outputs": [
    {
     "name": "stderr",
     "output_type": "stream",
     "text": [
      "c:\\Users\\20191695\\Desktop\\TUe\\Master\\Year1\\Q4\\5SC28\\5SC28\\util_fun.py:47: UserWarning: FixedFormatter should only be used together with FixedLocator\n",
      "  ax1.set_yticklabels([0]+na_list)\n",
      "c:\\Users\\20191695\\Desktop\\TUe\\Master\\Year1\\Q4\\5SC28\\5SC28\\util_fun.py:49: UserWarning: FixedFormatter should only be used together with FixedLocator\n",
      "  ax2.set_yticklabels([0]+na_list)\n"
     ]
    },
    {
     "name": "stdout",
     "output_type": "stream",
     "text": [
      "Best parameters by prediction NRMS: na= 4, nb= 2\n",
      "Best parameters by simulation NRMS: na= 4, nb= 4\n"
     ]
    },
    {
     "data": {
      "image/png": "[encoded data removed]",
      "text/plain": [
       "<Figure size 1500x500 with 2 Axes>"
      ]
     },
     "metadata": {},
     "output_type": "display_data"
    }
   ],
   "source": [
    "best_na_nb_val_pred, best_na_nb_val_sim = plot_NRMS_Pred_vs_Sim(val_pred_NRMSs, val_sim_NRMSs, na_list, nb_list)"
   ]
  },
  {
   "attachments": {},
   "cell_type": "markdown",
   "id": "5e39ed47",
   "metadata": {},
   "source": [
    "# Test data"
   ]
  },
  {
   "cell_type": "code",
   "execution_count": 7,
   "id": "c13df093",
   "metadata": {},
   "outputs": [
    {
     "name": "stdout",
     "output_type": "stream",
     "text": [
      "Best parameters by prediction NRMS: na= 4, nb= 2\n",
      "Best parameters by simulation NRMS: na= 2, nb= 3\n"
     ]
    },
    {
     "data": {
      "image/png": "[encoded data removed]",
      "text/plain": [
       "<Figure size 1500x500 with 2 Axes>"
      ]
     },
     "metadata": {},
     "output_type": "display_data"
    }
   ],
   "source": [
    "best_na_nb_test_pred, best_na_nb_test_sim = plot_NRMS_Pred_vs_Sim(test_pred_NRMSs, test_sim_NRMSs, na_list, nb_list)"
   ]
  },
  {
   "cell_type": "code",
   "execution_count": 8,
   "id": "ccf6d809",
   "metadata": {},
   "outputs": [
    {
     "name": "stdout",
     "output_type": "stream",
     "text": [
      "Best test prediction NRMS found: 1.0373057226020523\n",
      "Best test simulation NRMS found: 22.770270999841923\n"
     ]
    }
   ],
   "source": [
    "print(f\"Best test prediction NRMS found: {test_pred_NRMSs.min()}\")\n",
    "print(f\"Best test simulation NRMS found: {test_sim_NRMSs.min()}\")"
   ]
  },
  {
   "attachments": {},
   "cell_type": "markdown",
   "id": "14a72ec3",
   "metadata": {},
   "source": [
    "# Run best na and nb again on larger dataset"
   ]
  },
  {
   "cell_type": "code",
   "execution_count": 9,
   "id": "b20b48f3",
   "metadata": {},
   "outputs": [],
   "source": [
    "n_a, n_b = best_na_nb_val_sim\n",
    "Split = [0.6, 0.2, 0.2] # split; [training, validation, test]\n",
    "total_number_of_points = [300,1000] # total number of points to consider from the larger dataset (starting from index 0)\n",
    "restart = [0,1,5,10]"
   ]
  },
  {
   "cell_type": "code",
   "execution_count": 14,
   "id": "a6674f51",
   "metadata": {},
   "outputs": [
    {
     "name": "stdout",
     "output_type": "stream",
     "text": [
      "Going to use na=4 and nb=4\n"
     ]
    }
   ],
   "source": [
    "print('Going to use na={} and nb={}'.format(n_a,n_b))"
   ]
  },
  {
   "cell_type": "code",
   "execution_count": 10,
   "id": "14c8275b",
   "metadata": {},
   "outputs": [],
   "source": [
    "NRMS_train_pred = np.ndarray((len(total_number_of_points),len(restart)))\n",
    "NRMS_train_sim = np.ndarray((len(total_number_of_points),len(restart)))\n",
    "NRMS_val_pred = np.ndarray((len(total_number_of_points),len(restart)))\n",
    "NRMS_val_sim = np.ndarray((len(total_number_of_points),len(restart)))\n",
    "NRMS_test_pred = np.ndarray((len(total_number_of_points),len(restart)))\n",
    "NRMS_test_sim = np.ndarray((len(total_number_of_points),len(restart)))"
   ]
  },
  {
   "cell_type": "code",
   "execution_count": 11,
   "id": "9e19318d",
   "metadata": {},
   "outputs": [
    {
     "name": "stdout",
     "output_type": "stream",
     "text": [
      "Using 180 datapoints for training set\n",
      "RBF(length_scale=10.3) + WhiteKernel(noise_level=1.85e-05)\n",
      "Train prediction NRMS: 1.06 %\n",
      "Validation prediction NRMS: 1.79 %\n",
      "Test prediction NRMS: 2.20 %\n",
      "Using 180 datapoints for training set\n",
      "Train simulation NRMS: 6.22 %\n",
      "Validation simulation NRMS: 66.00 %\n",
      "Test simulation NRMS: 20.86 %\n",
      "Using 180 datapoints for training set\n",
      "RBF(length_scale=10.3) + WhiteKernel(noise_level=1.85e-05)\n",
      "Train prediction NRMS: 1.06 %\n",
      "Validation prediction NRMS: 1.79 %\n",
      "Test prediction NRMS: 2.20 %\n",
      "Using 180 datapoints for training set\n",
      "Train simulation NRMS: 6.22 %\n",
      "Validation simulation NRMS: 66.00 %\n",
      "Test simulation NRMS: 20.86 %\n",
      "Using 180 datapoints for training set\n",
      "RBF(length_scale=10.3) + WhiteKernel(noise_level=1.85e-05)\n",
      "Train prediction NRMS: 1.06 %\n",
      "Validation prediction NRMS: 1.79 %\n",
      "Test prediction NRMS: 2.20 %\n",
      "Using 180 datapoints for training set\n",
      "Train simulation NRMS: 6.22 %\n",
      "Validation simulation NRMS: 66.00 %\n",
      "Test simulation NRMS: 20.86 %\n",
      "Using 180 datapoints for training set\n",
      "RBF(length_scale=10.3) + WhiteKernel(noise_level=1.85e-05)\n",
      "Train prediction NRMS: 1.06 %\n",
      "Validation prediction NRMS: 1.79 %\n",
      "Test prediction NRMS: 2.20 %\n",
      "Using 180 datapoints for training set\n",
      "Train simulation NRMS: 6.22 %\n",
      "Validation simulation NRMS: 66.00 %\n",
      "Test simulation NRMS: 20.86 %\n",
      "Using 600 datapoints for training set\n",
      "RBF(length_scale=7.91) + WhiteKernel(noise_level=9.83e-06)\n",
      "Train prediction NRMS: 0.81 %\n",
      "Validation prediction NRMS: 1.76 %\n",
      "Test prediction NRMS: 1.00 %\n",
      "Using 600 datapoints for training set\n",
      "Train simulation NRMS: 7.58 %\n",
      "Validation simulation NRMS: 31.64 %\n",
      "Test simulation NRMS: 21.28 %\n",
      "Using 600 datapoints for training set\n",
      "RBF(length_scale=7.91) + WhiteKernel(noise_level=9.83e-06)\n",
      "Train prediction NRMS: 0.81 %\n",
      "Validation prediction NRMS: 1.76 %\n",
      "Test prediction NRMS: 1.00 %\n",
      "Using 600 datapoints for training set\n",
      "Train simulation NRMS: 7.58 %\n",
      "Validation simulation NRMS: 31.64 %\n",
      "Test simulation NRMS: 21.28 %\n",
      "Using 600 datapoints for training set\n",
      "RBF(length_scale=7.91) + WhiteKernel(noise_level=9.83e-06)\n",
      "Train prediction NRMS: 0.81 %\n",
      "Validation prediction NRMS: 1.76 %\n",
      "Test prediction NRMS: 1.00 %\n",
      "Using 600 datapoints for training set\n",
      "Train simulation NRMS: 7.58 %\n",
      "Validation simulation NRMS: 31.64 %\n",
      "Test simulation NRMS: 21.28 %\n",
      "Using 600 datapoints for training set\n"
     ]
    },
    {
     "name": "stderr",
     "output_type": "stream",
     "text": [
      "c:\\Users\\20191695\\Anaconda3\\envs\\ml4sc\\lib\\site-packages\\sklearn\\gaussian_process\\_gpr.py:629: ConvergenceWarning: lbfgs failed to converge (status=2):\n",
      "ABNORMAL_TERMINATION_IN_LNSRCH.\n",
      "\n",
      "Increase the number of iterations (max_iter) or scale the data as shown in:\n",
      "    https://scikit-learn.org/stable/modules/preprocessing.html\n",
      "  _check_optimize_result(\"lbfgs\", opt_res)\n"
     ]
    },
    {
     "name": "stdout",
     "output_type": "stream",
     "text": [
      "RBF(length_scale=7.91) + WhiteKernel(noise_level=9.83e-06)\n",
      "Train prediction NRMS: 0.81 %\n",
      "Validation prediction NRMS: 1.76 %\n",
      "Test prediction NRMS: 1.00 %\n",
      "Using 600 datapoints for training set\n",
      "Train simulation NRMS: 7.58 %\n",
      "Validation simulation NRMS: 31.64 %\n",
      "Test simulation NRMS: 21.28 %\n"
     ]
    }
   ],
   "source": [
    "for i,points in enumerate(total_number_of_points):\n",
    "    for j,res in enumerate(restart):\n",
    "\n",
    "        Xtrain_NARX, Ytrain_NARX = load_narx_data(n_a, n_b, points, section=\"train\", split=Split, as_tensor=False)\n",
    "        Xval_NARX, Yval_NARX = load_narx_data(n_a, n_b, points, section=\"validation\", split=Split, as_tensor=False)\n",
    "        Xtest_NARX, Ytest_NARX = load_narx_data(n_a, n_b, points, section=\"test\", split=Split, as_tensor=False)\n",
    "\n",
    "        XtrainNARXSparse = csr_matrix(Xtrain_NARX).toarray()\n",
    "        YtrainNARXSparse = csr_matrix(Ytrain_NARX).toarray().transpose()\n",
    "\n",
    "        kernel = RBF(length_scale_bounds=[1,50]) + WhiteKernel(noise_level_bounds=[1e-6,1e-2])\n",
    "        # kernelRational = RationalQuadratic() + WhiteKernel()\n",
    "        # kernels = [kernelRBF, kernelRational]\n",
    "        reg = GaussianProcessRegressor(kernel, n_restarts_optimizer=res)\n",
    "\n",
    "        reg.fit(XtrainNARXSparse, YtrainNARXSparse)\n",
    "\n",
    "        print(reg.kernel_)\n",
    "\n",
    "        Ytrain_pred, Ytrain_pred_std = reg.predict(Xtrain_NARX,return_std=True)\n",
    "        NRMS_train_pred[i,j] = calculate_error_nrms(Ytrain_pred, Ytrain_NARX)\n",
    "        print(f'Train prediction NRMS: {NRMS_train_pred[i,j]:.2f} %')\n",
    "\n",
    "        Yval_pred, Yval_pred_std = reg.predict(Xval_NARX,return_std=True)\n",
    "        NRMS_val_pred[i,j] = calculate_error_nrms(Yval_pred, Yval_NARX)\n",
    "        print(f'Validation prediction NRMS: {NRMS_val_pred[i,j]:.2f} %')\n",
    "\n",
    "        Ytest_pred, Ytest_pred_std = reg.predict(Xtest_NARX,return_std=True)\n",
    "        NRMS_test_pred[i,j] = calculate_error_nrms(Ytest_pred, Ytest_NARX)\n",
    "        print(f'Test prediction NRMS: {NRMS_test_pred[i,j]:.2f} %')\n",
    "\n",
    "\n",
    "        # Simulation\n",
    "        Xtrain,Ytrain = load_data(section=\"train\", split=Split, total_number_of_points=points, as_tensor=False)\n",
    "        Xval,Yval = load_data(section=\"validation\", split=Split, total_number_of_points=points, as_tensor=False)\n",
    "        Xtest,Ytest = load_data(section=\"test\", split=Split, total_number_of_points=points, as_tensor=False)\n",
    "\n",
    "        sim_model = lambda u,y: reg.predict(np.concatenate([u,y])[None,:])[0] \n",
    "\n",
    "        Ytrain_sim = use_NARX_model_in_simulation(Xtrain, sim_model, n_a, n_b)\n",
    "        NRMS_train_sim[i,j] = calculate_error_nrms(Ytrain_sim, Ytrain)\n",
    "        print(f'Train simulation NRMS: {NRMS_train_sim[i,j]:.2f} %')\n",
    "\n",
    "        Yval_sim = use_NARX_model_in_simulation(Xval, sim_model, n_a, n_b)\n",
    "        NRMS_val_sim[i,j] = calculate_error_nrms(Yval_sim, Yval)\n",
    "        print(f'Validation simulation NRMS: {NRMS_val_sim[i,j]:.2f} %')\n",
    "\n",
    "        Ytest_sim = use_NARX_model_in_simulation(Xtest, sim_model, n_a, n_b)\n",
    "        NRMS_test_sim[i,j] = calculate_error_nrms(Ytest_sim, Ytest)\n",
    "        print(f'Test simulation NRMS: {NRMS_test_sim[i,j]:.2f} %')"
   ]
  },
  {
   "attachments": {},
   "cell_type": "markdown",
   "id": "f99cd909",
   "metadata": {},
   "source": [
    "## Final results"
   ]
  },
  {
   "cell_type": "code",
   "execution_count": 12,
   "id": "8961a471",
   "metadata": {},
   "outputs": [
    {
     "data": {
      "text/html": [
       "<div>\n",
       "<style scoped>\n",
       "    .dataframe tbody tr th:only-of-type {\n",
       "        vertical-align: middle;\n",
       "    }\n",
       "\n",
       "    .dataframe tbody tr th {\n",
       "        vertical-align: top;\n",
       "    }\n",
       "\n",
       "    .dataframe thead tr th {\n",
       "        text-align: left;\n",
       "    }\n",
       "</style>\n",
       "<table border=\"1\" class=\"dataframe\">\n",
       "  <thead>\n",
       "    <tr>\n",
       "      <th></th>\n",
       "      <th colspan=\"3\" halign=\"left\">Pred</th>\n",
       "      <th colspan=\"3\" halign=\"left\">Sim</th>\n",
       "    </tr>\n",
       "    <tr>\n",
       "      <th></th>\n",
       "      <th>Train</th>\n",
       "      <th>Validation</th>\n",
       "      <th>Test</th>\n",
       "      <th>Train</th>\n",
       "      <th>Validation</th>\n",
       "      <th>Test</th>\n",
       "    </tr>\n",
       "  </thead>\n",
       "  <tbody>\n",
       "    <tr>\n",
       "      <th>300 points; 0 restarts</th>\n",
       "      <td>1.061876</td>\n",
       "      <td>1.786523</td>\n",
       "      <td>2.195432</td>\n",
       "      <td>6.215413</td>\n",
       "      <td>66.001691</td>\n",
       "      <td>20.858819</td>\n",
       "    </tr>\n",
       "    <tr>\n",
       "      <th>300 points; 1 restarts</th>\n",
       "      <td>1.061876</td>\n",
       "      <td>1.786525</td>\n",
       "      <td>2.195434</td>\n",
       "      <td>6.215414</td>\n",
       "      <td>66.001693</td>\n",
       "      <td>20.858827</td>\n",
       "    </tr>\n",
       "    <tr>\n",
       "      <th>300 points; 5 restarts</th>\n",
       "      <td>1.061876</td>\n",
       "      <td>1.786525</td>\n",
       "      <td>2.195434</td>\n",
       "      <td>6.215414</td>\n",
       "      <td>66.001693</td>\n",
       "      <td>20.858827</td>\n",
       "    </tr>\n",
       "    <tr>\n",
       "      <th>300 points; 10 restarts</th>\n",
       "      <td>1.061876</td>\n",
       "      <td>1.786525</td>\n",
       "      <td>2.195434</td>\n",
       "      <td>6.215414</td>\n",
       "      <td>66.001693</td>\n",
       "      <td>20.858826</td>\n",
       "    </tr>\n",
       "    <tr>\n",
       "      <th>1000 points; 0 restarts</th>\n",
       "      <td>0.805273</td>\n",
       "      <td>1.761850</td>\n",
       "      <td>1.002964</td>\n",
       "      <td>7.583193</td>\n",
       "      <td>31.638423</td>\n",
       "      <td>21.281260</td>\n",
       "    </tr>\n",
       "    <tr>\n",
       "      <th>1000 points; 1 restarts</th>\n",
       "      <td>0.805273</td>\n",
       "      <td>1.761847</td>\n",
       "      <td>1.002963</td>\n",
       "      <td>7.583198</td>\n",
       "      <td>31.638413</td>\n",
       "      <td>21.281261</td>\n",
       "    </tr>\n",
       "    <tr>\n",
       "      <th>1000 points; 5 restarts</th>\n",
       "      <td>0.805272</td>\n",
       "      <td>1.761847</td>\n",
       "      <td>1.002963</td>\n",
       "      <td>7.583186</td>\n",
       "      <td>31.638406</td>\n",
       "      <td>21.281259</td>\n",
       "    </tr>\n",
       "    <tr>\n",
       "      <th>1000 points; 10 restarts</th>\n",
       "      <td>0.805272</td>\n",
       "      <td>1.761847</td>\n",
       "      <td>1.002963</td>\n",
       "      <td>7.583184</td>\n",
       "      <td>31.638404</td>\n",
       "      <td>21.281258</td>\n",
       "    </tr>\n",
       "  </tbody>\n",
       "</table>\n",
       "</div>"
      ],
      "text/plain": [
       "                              Pred                            Sim             \\\n",
       "                             Train Validation      Test     Train Validation   \n",
       "300 points; 0 restarts    1.061876   1.786523  2.195432  6.215413  66.001691   \n",
       "300 points; 1 restarts    1.061876   1.786525  2.195434  6.215414  66.001693   \n",
       "300 points; 5 restarts    1.061876   1.786525  2.195434  6.215414  66.001693   \n",
       "300 points; 10 restarts   1.061876   1.786525  2.195434  6.215414  66.001693   \n",
       "1000 points; 0 restarts   0.805273   1.761850  1.002964  7.583193  31.638423   \n",
       "1000 points; 1 restarts   0.805273   1.761847  1.002963  7.583198  31.638413   \n",
       "1000 points; 5 restarts   0.805272   1.761847  1.002963  7.583186  31.638406   \n",
       "1000 points; 10 restarts  0.805272   1.761847  1.002963  7.583184  31.638404   \n",
       "\n",
       "                                     \n",
       "                               Test  \n",
       "300 points; 0 restarts    20.858819  \n",
       "300 points; 1 restarts    20.858827  \n",
       "300 points; 5 restarts    20.858827  \n",
       "300 points; 10 restarts   20.858826  \n",
       "1000 points; 0 restarts   21.281260  \n",
       "1000 points; 1 restarts   21.281261  \n",
       "1000 points; 5 restarts   21.281259  \n",
       "1000 points; 10 restarts  21.281258  "
      ]
     },
     "metadata": {},
     "output_type": "display_data"
    }
   ],
   "source": [
    "# Create empty DataFrames\n",
    "df_pred = pd.DataFrame(columns=['Train', 'Validation', 'Test'])\n",
    "df_sim = pd.DataFrame(columns=['Train', 'Validation', 'Test'])\n",
    "\n",
    "# Fill DataFrames with Pred and Sim data\n",
    "df_pred['Train'] = NRMS_train_pred.ravel()\n",
    "df_pred['Validation'] = NRMS_val_pred.ravel()\n",
    "df_pred['Test'] = NRMS_test_pred.ravel()\n",
    "\n",
    "df_sim['Train'] = NRMS_train_sim.ravel()\n",
    "df_sim['Validation'] = NRMS_val_sim.ravel()\n",
    "df_sim['Test'] = NRMS_test_sim.ravel()\n",
    "\n",
    "# Create the index\n",
    "index = ['{} points; {} restarts'.format(points, res) for points in total_number_of_points for res in restart]\n",
    "\n",
    "# Concatenate DataFrames horizontally\n",
    "df_combined = pd.concat([df_pred, df_sim], axis=1, keys=['Pred', 'Sim'])\n",
    "\n",
    "# Set the index\n",
    "df_combined.index = index\n",
    "\n",
    "# Display the DataFrame\n",
    "display(df_combined)\n"
   ]
  }
 ],
 "metadata": {
  "kernelspec": {
   "display_name": "Python 3 (ipykernel)",
   "language": "python",
   "name": "python3"
  },
  "language_info": {
   "codemirror_mode": {
    "name": "ipython",
    "version": 3
   },
   "file_extension": ".py",
   "mimetype": "text/x-python",
   "name": "python",
   "nbconvert_exporter": "python",
   "pygments_lexer": "ipython3",
   "version": "3.8.16"
  }
 },
 "nbformat": 4,
 "nbformat_minor": 5
}
