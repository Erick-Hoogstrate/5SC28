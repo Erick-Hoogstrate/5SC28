{
 "cells": [
  {
   "cell_type": "code",
   "execution_count": 1,
   "metadata": {},
   "outputs": [],
   "source": [
    "from data import load_data, GS_Dataset, make_gs_dataset\n",
    "from model import Narx, DEVICE\n",
    "from util_fun import train_narx_simval, narx_sim_nrms\n",
    "import torch\n",
    "import matplotlib.pyplot as plt\n",
    "import numpy as np\n"
   ]
  },
  {
   "cell_type": "code",
   "execution_count": 11,
   "metadata": {},
   "outputs": [],
   "source": [
    "n_a=15\n",
    "n_b=15\n",
    "n_nodes=50\n",
    "n_layers=5 \n",
    "N_EPOCHS=15000"
   ]
  },
  {
   "cell_type": "code",
   "execution_count": 3,
   "metadata": {},
   "outputs": [],
   "source": [
    "testie=torch.load('trained_best_sim_narx_7K')"
   ]
  },
  {
   "cell_type": "code",
   "execution_count": 4,
   "metadata": {},
   "outputs": [
    {
     "data": {
      "text/plain": [
       "odict_keys(['layers.0.weight', 'layers.0.bias', 'layers.2.weight', 'layers.2.bias', 'layers.4.weight', 'layers.4.bias', 'layers.6.weight', 'layers.6.bias', 'layers.8.weight', 'layers.8.bias'])"
      ]
     },
     "execution_count": 4,
     "metadata": {},
     "output_type": "execute_result"
    }
   ],
   "source": [
    "testie.keys()"
   ]
  },
  {
   "cell_type": "code",
   "execution_count": 6,
   "metadata": {},
   "outputs": [],
   "source": [
    "model=Narx(n_a+n_b,n_nodes, n_layers).to(DEVICE)\n",
    "model.load_state_dict(torch.load('trained_best_sim_narx_7K'))"
   ]
  },
  {
   "cell_type": "code",
   "execution_count": 12,
   "metadata": {},
   "outputs": [],
   "source": [
    "x_data, y_data= load_data()\n",
    "data = make_gs_dataset(x_data, y_data, n_a, n_b, DEVICE)"
   ]
  },
  {
   "cell_type": "code",
   "execution_count": 13,
   "metadata": {},
   "outputs": [
    {
     "name": "stdout",
     "output_type": "stream",
     "text": [
      "Checkpoint at epoch 1:  \n",
      "\n",
      "current pred NRMS: 0.938942396355041, previous best pred NRMS: inf \n",
      "\n",
      "current sim NRMS: 0.9382357754715301, previous best sim NRMS: inf \n",
      "\n",
      "Checkpoint at epoch 2:  \n",
      "\n",
      "current pred NRMS: 0.8891415989290771, previous best pred NRMS: 0.938942396355041 \n",
      "\n",
      "current sim NRMS: 0.8884706049060813, previous best sim NRMS: 0.9382357754715301 \n",
      "\n",
      "Checkpoint at epoch 3:  \n",
      "\n",
      "current pred NRMS: 0.8398509207803484, previous best pred NRMS: 0.8891415989290771 \n",
      "\n",
      "current sim NRMS: 0.8392583535105403, previous best sim NRMS: 0.8884706049060813 \n",
      "\n",
      "Checkpoint at epoch 4:  \n",
      "\n",
      "current pred NRMS: 0.7924198344171673, previous best pred NRMS: 0.8398509207803484 \n",
      "\n",
      "current sim NRMS: 0.79170008361619, previous best sim NRMS: 0.8392583535105403 \n",
      "\n",
      "Checkpoint at epoch 5:  \n",
      "\n",
      "current pred NRMS: 0.7499708007806781, previous best pred NRMS: 0.7924198344171673 \n",
      "\n",
      "current sim NRMS: 0.7522811325409191, previous best sim NRMS: 0.79170008361619 \n",
      "\n",
      "Checkpoint at epoch 6:  \n",
      "\n",
      "current pred NRMS: 0.7460114034007332, previous best pred NRMS: 0.7499708007806781 \n",
      "\n",
      "Checkpoint at epoch 7:  \n",
      "\n",
      "current pred NRMS: 0.7268024402428632, previous best pred NRMS: 0.7460114034007332 \n",
      "\n",
      "current sim NRMS: 0.7386211706952022, previous best sim NRMS: 0.7522811325409191 \n",
      "\n",
      "Checkpoint at epoch 8:  \n",
      "\n",
      "current pred NRMS: 0.7230698855681811, previous best pred NRMS: 0.7268024402428632 \n",
      "\n",
      "current sim NRMS: 0.7337922785790605, previous best sim NRMS: 0.7386211706952022 \n",
      "\n",
      "Checkpoint at epoch 9:  \n",
      "\n",
      "current pred NRMS: 0.7046356335330319, previous best pred NRMS: 0.7230698855681811 \n",
      "\n",
      "current sim NRMS: 0.7174119518423868, previous best sim NRMS: 0.7337922785790605 \n",
      "\n",
      "Checkpoint at epoch 10:  \n",
      "\n",
      "current pred NRMS: 0.7017853478552029, previous best pred NRMS: 0.7046356335330319 \n",
      "\n",
      "current sim NRMS: 0.7135998155465937, previous best sim NRMS: 0.7174119518423868 \n",
      "\n",
      "Checkpoint at epoch 11:  \n",
      "\n",
      "current pred NRMS: 0.6843933378838789, previous best pred NRMS: 0.7017853478552029 \n",
      "\n",
      "current sim NRMS: 0.6982809324606299, previous best sim NRMS: 0.7135998155465937 \n",
      "\n",
      "Checkpoint at epoch 12:  \n",
      "\n",
      "current pred NRMS: 0.6819288732611315, previous best pred NRMS: 0.6843933378838789 \n",
      "\n",
      "current sim NRMS: 0.6949314605180456, previous best sim NRMS: 0.6982809324606299 \n",
      "\n",
      "Checkpoint at epoch 13:  \n",
      "\n",
      "current pred NRMS: 0.66584404920837, previous best pred NRMS: 0.6819288732611315 \n",
      "\n",
      "current sim NRMS: 0.6810158860483888, previous best sim NRMS: 0.6949314605180456 \n",
      "\n",
      "Checkpoint at epoch 14:  \n",
      "\n",
      "current pred NRMS: 0.6634090728304857, previous best pred NRMS: 0.66584404920837 \n",
      "\n",
      "current sim NRMS: 0.6776602348843742, previous best sim NRMS: 0.6810158860483888 \n",
      "\n",
      "Checkpoint at epoch 15:  \n",
      "\n",
      "current pred NRMS: 0.6487411988210647, previous best pred NRMS: 0.6634090728304857 \n",
      "\n",
      "current sim NRMS: 0.6653360569669265, previous best sim NRMS: 0.6776602348843742 \n",
      "\n",
      "Checkpoint at epoch 16:  \n",
      "\n",
      "current pred NRMS: 0.6461136801297033, previous best pred NRMS: 0.6487411988210647 \n",
      "\n",
      "current sim NRMS: 0.6617024534626383, previous best sim NRMS: 0.6653360569669265 \n",
      "\n",
      "Checkpoint at epoch 17:  \n",
      "\n",
      "current pred NRMS: 0.6329144509548378, previous best pred NRMS: 0.6461136801297033 \n",
      "\n",
      "current sim NRMS: 0.6510668632209252, previous best sim NRMS: 0.6617024534626383 \n",
      "\n",
      "Checkpoint at epoch 18:  \n",
      "\n",
      "current pred NRMS: 0.6299418395614833, previous best pred NRMS: 0.6329144509548378 \n",
      "\n",
      "current sim NRMS: 0.6470512170134084, previous best sim NRMS: 0.6510668632209252 \n",
      "\n",
      "Checkpoint at epoch 19:  \n",
      "\n",
      "current pred NRMS: 0.6183868908569478, previous best pred NRMS: 0.6299418395614833 \n",
      "\n",
      "current sim NRMS: 0.6383249760918501, previous best sim NRMS: 0.6470512170134084 \n",
      "\n",
      "Checkpoint at epoch 20:  \n",
      "\n",
      "current pred NRMS: 0.6156405914399288, previous best pred NRMS: 0.6183868908569478 \n",
      "\n",
      "current sim NRMS: 0.6345348552368667, previous best sim NRMS: 0.6383249760918501 \n",
      "\n"
     ]
    }
   ],
   "source": [
    "results = train_narx_simval(model, n_a, n_b, data, n_epochs=N_EPOCHS)"
   ]
  },
  {
   "cell_type": "code",
   "execution_count": 14,
   "metadata": {},
   "outputs": [
    {
     "data": {
      "text/plain": [
       "<matplotlib.legend.Legend at 0x1f01be79570>"
      ]
     },
     "execution_count": 14,
     "metadata": {},
     "output_type": "execute_result"
    },
    {
     "data": {
      "image/png": "[encoded data removed]",
      "text/plain": [
       "<Figure size 640x480 with 1 Axes>"
      ]
     },
     "metadata": {},
     "output_type": "display_data"
    }
   ],
   "source": [
    "plt.semilogy(np.array(results.nrms_list)*100,label='Validation NRMS (pred)')\n",
    "plt.semilogy(np.array(results.sim_nrms_list)*100,label='Validation NRMS (sim)')\n",
    "plt.ylabel('NRMS error [%}]')\n",
    "plt.xlabel('Epochs [n]')\n",
    "plt.legend()"
   ]
  },
  {
   "cell_type": "code",
   "execution_count": 15,
   "metadata": {},
   "outputs": [],
   "source": [
    "torch.save(model.state_dict(),'trained_best_narx_15K')"
   ]
  },
  {
   "cell_type": "code",
   "execution_count": 16,
   "metadata": {},
   "outputs": [
    {
     "ename": "RuntimeError",
     "evalue": "CUDA error: invalid device ordinal\nCUDA kernel errors might be asynchronously reported at some other API call, so the stacktrace below might be incorrect.\nFor debugging consider passing CUDA_LAUNCH_BLOCKING=1.\nCompile with `TORCH_USE_CUDA_DSA` to enable device-side assertions.\n",
     "output_type": "error",
     "traceback": [
      "\u001b[1;31m---------------------------------------------------------------------------\u001b[0m",
      "\u001b[1;31mRuntimeError\u001b[0m                              Traceback (most recent call last)",
      "Cell \u001b[1;32mIn[16], line 1\u001b[0m\n\u001b[1;32m----> 1\u001b[0m _,_,_,nrms\u001b[39m=\u001b[39mnarx_sim_nrms(model, n_a, n_b, x_data, y_data, DEVICE, \u001b[39m5000\u001b[39;49m)\n\u001b[0;32m      2\u001b[0m \u001b[39mf\u001b[39m\u001b[39m'\u001b[39m\u001b[39mNRMS: \u001b[39m\u001b[39m{\u001b[39;00mnrms\u001b[39m*\u001b[39m\u001b[39m100\u001b[39m\u001b[39m}\u001b[39;00m\u001b[39m%\u001b[39m\u001b[39m'\u001b[39m\n",
      "File \u001b[1;32md:\\Documents\\TUe\\MSC_AI&ES\\5SC28-ML for Systems and Control\\Project\\util_fun.py:55\u001b[0m, in \u001b[0;36mnarx_sim_nrms\u001b[1;34m(model, n_a, n_b, x_data, y_data, init_values, device, n_val_samples)\u001b[0m\n\u001b[0;32m     52\u001b[0m \u001b[39mfor\u001b[39;00m unow \u001b[39min\u001b[39;00m x_data:\n\u001b[0;32m     53\u001b[0m     \u001b[39m# compute the current y given by f\u001b[39;00m\n\u001b[0;32m     54\u001b[0m     narx_input \u001b[39m=\u001b[39m torch\u001b[39m.\u001b[39mas_tensor(np\u001b[39m.\u001b[39mconcatenate([upast, ypast])[\u001b[39mNone\u001b[39;00m, :])\u001b[39m.\u001b[39mdouble()\n\u001b[1;32m---> 55\u001b[0m     narx_input \u001b[39m=\u001b[39m narx_input\u001b[39m.\u001b[39;49mto(device)\n\u001b[0;32m     56\u001b[0m     ynow \u001b[39m=\u001b[39m model\u001b[39m.\u001b[39mforward(narx_input)\u001b[39m.\u001b[39mcpu()\u001b[39m.\u001b[39mdetach()\u001b[39m.\u001b[39mitem()\n\u001b[0;32m     58\u001b[0m     \u001b[39m# update past arrays\u001b[39;00m\n",
      "\u001b[1;31mRuntimeError\u001b[0m: CUDA error: invalid device ordinal\nCUDA kernel errors might be asynchronously reported at some other API call, so the stacktrace below might be incorrect.\nFor debugging consider passing CUDA_LAUNCH_BLOCKING=1.\nCompile with `TORCH_USE_CUDA_DSA` to enable device-side assertions.\n"
     ]
    }
   ],
   "source": [
    "_,_,_,nrms=narx_sim_nrms(model, n_a, n_b, x_data, y_data, DEVICE, 5000)\n",
    "f'NRMS: {nrms*100}%'"
   ]
  }
 ],
 "metadata": {
  "kernelspec": {
   "display_name": "ml4sc",
   "language": "python",
   "name": "python3"
  },
  "language_info": {
   "codemirror_mode": {
    "name": "ipython",
    "version": 3
   },
   "file_extension": ".py",
   "mimetype": "text/x-python",
   "name": "python",
   "nbconvert_exporter": "python",
   "pygments_lexer": "ipython3",
   "version": "3.10.11"
  },
  "orig_nbformat": 4
 },
 "nbformat": 4,
 "nbformat_minor": 2
}
