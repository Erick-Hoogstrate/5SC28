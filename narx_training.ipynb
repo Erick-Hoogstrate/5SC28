{
 "cells": [
  {
   "cell_type": "code",
   "execution_count": 7,
   "metadata": {},
   "outputs": [],
   "source": [
    "from data import load_data, GS_Dataset, create_gs_dataset\n",
    "from model import Narx, DEVICE\n",
    "from util_fun import train_narx_simval, narx_sim_nrms\n",
    "import torch\n",
    "\n"
   ]
  },
  {
   "cell_type": "code",
   "execution_count": 10,
   "metadata": {},
   "outputs": [],
   "source": [
    "n_a=9\n",
    "n_b=25\n",
    "n_layers=1\n",
    "n_nodes=100\n",
    "n_epochs=1000"
   ]
  },
  {
   "cell_type": "code",
   "execution_count": 12,
   "metadata": {},
   "outputs": [],
   "source": [
    "model=Narx(n_a+n_b,n_nodes, n_layers).to(DEVICE)"
   ]
  },
  {
   "cell_type": "code",
   "execution_count": 13,
   "metadata": {},
   "outputs": [],
   "source": [
    "x_data, y_data= load_data()\n",
    "data = create_gs_dataset(x_data, y_data, n_a, n_b, DEVICE)"
   ]
  },
  {
   "cell_type": "code",
   "execution_count": 14,
   "metadata": {},
   "outputs": [
    {
     "name": "stdout",
     "output_type": "stream",
     "text": [
      "Checkpoint at epoch 1:  \n",
      "\n",
      "current pred NRMS: 1.1472824777724886, previous best pred NRMS: inf \n",
      "\n",
      "current sim NRMS: 1.1777784643245486, previous best sim NRMS: inf \n",
      "\n",
      "Checkpoint at epoch 41:  \n",
      "\n",
      "current pred NRMS: 0.5977930351864157, previous best pred NRMS: 1.1472824777724886 \n",
      "\n",
      "current sim NRMS: 0.5932689203025968, previous best sim NRMS: 1.1777784643245486 \n",
      "\n",
      "Checkpoint at epoch 81:  \n",
      "\n",
      "current pred NRMS: 0.5265059583381376, previous best pred NRMS: 0.5977930351864157 \n",
      "\n",
      "current sim NRMS: 0.5469551270264582, previous best sim NRMS: 0.5932689203025968 \n",
      "\n",
      "Checkpoint at epoch 121:  \n",
      "\n",
      "current pred NRMS: 0.5036075798861555, previous best pred NRMS: 0.5265059583381376 \n",
      "\n",
      "Checkpoint at epoch 161:  \n",
      "\n",
      "current pred NRMS: 0.4845893025525978, previous best pred NRMS: 0.5036075798861555 \n",
      "\n",
      "Checkpoint at epoch 201:  \n",
      "\n",
      "current pred NRMS: 0.467294059571907, previous best pred NRMS: 0.4845893025525978 \n",
      "\n",
      "Checkpoint at epoch 241:  \n",
      "\n",
      "current pred NRMS: 0.45105614532682425, previous best pred NRMS: 0.467294059571907 \n",
      "\n",
      "Checkpoint at epoch 281:  \n",
      "\n",
      "current pred NRMS: 0.4359948716076213, previous best pred NRMS: 0.45105614532682425 \n",
      "\n",
      "Checkpoint at epoch 321:  \n",
      "\n",
      "current pred NRMS: 0.422398285608335, previous best pred NRMS: 0.4359948716076213 \n",
      "\n",
      "Checkpoint at epoch 361:  \n",
      "\n",
      "current pred NRMS: 0.4098619463063792, previous best pred NRMS: 0.422398285608335 \n",
      "\n",
      "Checkpoint at epoch 401:  \n",
      "\n",
      "current pred NRMS: 0.3979828250782968, previous best pred NRMS: 0.4098619463063792 \n",
      "\n",
      "Checkpoint at epoch 441:  \n",
      "\n",
      "current pred NRMS: 0.38663621375608836, previous best pred NRMS: 0.3979828250782968 \n",
      "\n",
      "Checkpoint at epoch 481:  \n",
      "\n",
      "current pred NRMS: 0.37566483831374164, previous best pred NRMS: 0.38663621375608836 \n",
      "\n",
      "Checkpoint at epoch 521:  \n",
      "\n",
      "current pred NRMS: 0.36502390834283727, previous best pred NRMS: 0.37566483831374164 \n",
      "\n",
      "Checkpoint at epoch 561:  \n",
      "\n",
      "current pred NRMS: 0.35476489438543934, previous best pred NRMS: 0.36502390834283727 \n",
      "\n",
      "Checkpoint at epoch 601:  \n",
      "\n",
      "current pred NRMS: 0.3449736709802519, previous best pred NRMS: 0.35476489438543934 \n",
      "\n",
      "Checkpoint at epoch 641:  \n",
      "\n",
      "current pred NRMS: 0.33574423066521053, previous best pred NRMS: 0.3449736709802519 \n",
      "\n",
      "Checkpoint at epoch 681:  \n",
      "\n",
      "current pred NRMS: 0.3270974139656495, previous best pred NRMS: 0.33574423066521053 \n",
      "\n",
      "Checkpoint at epoch 721:  \n",
      "\n",
      "current pred NRMS: 0.31904255532030695, previous best pred NRMS: 0.3270974139656495 \n",
      "\n",
      "Checkpoint at epoch 761:  \n",
      "\n",
      "current pred NRMS: 0.3116074172287241, previous best pred NRMS: 0.31904255532030695 \n",
      "\n",
      "Checkpoint at epoch 801:  \n",
      "\n",
      "current pred NRMS: 0.3045496497366573, previous best pred NRMS: 0.3116074172287241 \n",
      "\n",
      "current sim NRMS: 0.5451210491360103, previous best sim NRMS: 0.5469551270264582 \n",
      "\n",
      "Checkpoint at epoch 841:  \n",
      "\n",
      "current pred NRMS: 0.29785932399828485, previous best pred NRMS: 0.3045496497366573 \n",
      "\n",
      "current sim NRMS: 0.5419550339023266, previous best sim NRMS: 0.5451210491360103 \n",
      "\n",
      "Checkpoint at epoch 881:  \n",
      "\n",
      "current pred NRMS: 0.29147035011134925, previous best pred NRMS: 0.29785932399828485 \n",
      "\n",
      "current sim NRMS: 0.5392901710648452, previous best sim NRMS: 0.5419550339023266 \n",
      "\n",
      "Checkpoint at epoch 921:  \n",
      "\n",
      "current pred NRMS: 0.28561024725345346, previous best pred NRMS: 0.29147035011134925 \n",
      "\n",
      "current sim NRMS: 0.5364097953971818, previous best sim NRMS: 0.5392901710648452 \n",
      "\n",
      "Checkpoint at epoch 961:  \n",
      "\n",
      "current pred NRMS: 0.28028178683723776, previous best pred NRMS: 0.28561024725345346 \n",
      "\n",
      "current sim NRMS: 0.5335889429338759, previous best sim NRMS: 0.5364097953971818 \n",
      "\n"
     ]
    }
   ],
   "source": [
    "results = train_narx_simval(model, n_a, n_b, data, n_epochs=n_epochs)"
   ]
  },
  {
   "cell_type": "code",
   "execution_count": 15,
   "metadata": {},
   "outputs": [
    {
     "data": {
      "text/plain": [
       "0.7369115004224212"
      ]
     },
     "execution_count": 15,
     "metadata": {},
     "output_type": "execute_result"
    }
   ],
   "source": [
    "_,_,_,nrms=narx_sim_nrms(model, n_a, n_b, x_data, y_data, DEVICE, 5000)\n",
    "nrms"
   ]
  }
 ],
 "metadata": {
  "kernelspec": {
   "display_name": "ml4sc",
   "language": "python",
   "name": "python3"
  },
  "language_info": {
   "codemirror_mode": {
    "name": "ipython",
    "version": 3
   },
   "file_extension": ".py",
   "mimetype": "text/x-python",
   "name": "python",
   "nbconvert_exporter": "python",
   "pygments_lexer": "ipython3",
   "version": "3.10.11"
  },
  "orig_nbformat": 4
 },
 "nbformat": 4,
 "nbformat_minor": 2
}
